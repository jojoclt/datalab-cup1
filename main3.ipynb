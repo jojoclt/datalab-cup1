{
  "cells": [
    {
      "cell_type": "markdown",
      "metadata": {
        "id": "zikGSIva1vrn"
      },
      "source": [
        "# DataLab Cup 1\n",
        "[Kaggle](https://www.kaggle.com/competitions/2023-datalab-cup1-predicting-news-popularity/data)"
      ]
    },
    {
      "cell_type": "code",
      "source": [
        "from google.colab import drive\n",
        "drive.mount('/content/drive')"
      ],
      "metadata": {
        "colab": {
          "base_uri": "https://localhost:8080/"
        },
        "id": "XqqJmseM1_EZ",
        "outputId": "e4cfd7a8-8461-4095-861f-a83c310a6bf6"
      },
      "execution_count": 3,
      "outputs": [
        {
          "output_type": "stream",
          "name": "stdout",
          "text": [
            "Drive already mounted at /content/drive; to attempt to forcibly remount, call drive.mount(\"/content/drive\", force_remount=True).\n"
          ]
        }
      ]
    },
    {
      "cell_type": "code",
      "execution_count": 28,
      "metadata": {
        "id": "qL1LlRD51vrs",
        "colab": {
          "base_uri": "https://localhost:8080/"
        },
        "outputId": "bd3af934-040f-446c-ed38-83569fceec9e"
      },
      "outputs": [
        {
          "output_type": "stream",
          "name": "stderr",
          "text": [
            "[nltk_data] Downloading package stopwords to /root/nltk_data...\n",
            "[nltk_data]   Package stopwords is already up-to-date!\n"
          ]
        }
      ],
      "source": [
        "import pandas as pd\n",
        "import nltk\n",
        "from nltk.corpus import stopwords\n",
        "from nltk.stem.porter import PorterStemmer\n",
        "from pylab import *\n",
        "from sklearn.model_selection import train_test_split, learning_curve, cross_val_score\n",
        "from sklearn.preprocessing import StandardScaler, PolynomialFeatures, LabelBinarizer\n",
        "from sklearn.linear_model import Ridge, Lasso, LinearRegression, LogisticRegression, Perceptron, SGDClassifier\n",
        "from sklearn.feature_selection import RFE, SelectKBest\n",
        "from sklearn.metrics import mean_squared_error as MSE, r2_score, f1_score, roc_auc_score\n",
        "from sklearn.feature_extraction.text import TfidfVectorizer, CountVectorizer, HashingVectorizer\n",
        "from sklearn.pipeline import Pipeline\n",
        "from sklearn.base import BaseEstimator, TransformerMixin\n",
        "from sklearn.ensemble import RandomForestClassifier\n",
        "from sklearn.compose import ColumnTransformer\n",
        "\n",
        "import warnings\n",
        "warnings.filterwarnings(\"ignore\")\n",
        "\n",
        "from bs4 import BeautifulSoup as BSoup\n",
        "\n",
        "nltk.download('stopwords')\n",
        "stopWords = stopwords.words('english')\n"
      ]
    },
    {
      "cell_type": "code",
      "source": [
        "train_R = pd.read_csv('/content/drive/MyDrive/deep learn/comp1/train_new2.csv')\n",
        "test_R = pd.read_csv('/content/drive/MyDrive/deep learn/comp1/test_new2.csv')"
      ],
      "metadata": {
        "id": "QWtt2tbl3W-B"
      },
      "execution_count": 5,
      "outputs": []
    },
    {
      "cell_type": "code",
      "source": [
        "print(train_R.shape)\n",
        "print(test_R.shape)\n",
        "print(train_R.columns)\n",
        "print(test_R.columns)"
      ],
      "metadata": {
        "colab": {
          "base_uri": "https://localhost:8080/"
        },
        "id": "N6RmCzm3ni6C",
        "outputId": "4440af62-dae1-4013-8e61-db5f1e6406d3"
      },
      "execution_count": null,
      "outputs": [
        {
          "output_type": "stream",
          "name": "stdout",
          "text": [
            "(27643, 8)\n",
            "(11847, 7)\n",
            "Index(['Id', 'Popularity', 'Page content', 'Days', 'Time', 'Title', 'Content',\n",
            "       'N_word'],\n",
            "      dtype='object')\n",
            "Index(['Id', 'Page content', 'Days', 'Time', 'Title', 'Content', 'N_word'], dtype='object')\n"
          ]
        }
      ]
    },
    {
      "cell_type": "code",
      "source": [
        "days_conv = {'void': 0, 'Mon': 1, 'Tue': 2, 'Wed':3, 'Thu': 4, 'Fri': 5, 'Sat': 6, 'Sun': 7}\n",
        "\n",
        "train_R['Days'] = train_R['Days'].apply(lambda x: days_conv[x])\n",
        "test_R['Days'] = test_R['Days'].apply(lambda x: days_conv[x])"
      ],
      "metadata": {
        "id": "2qk6rV91xEq8"
      },
      "execution_count": null,
      "outputs": []
    },
    {
      "cell_type": "code",
      "source": [
        "print(test_R.iloc[500, 1])"
      ],
      "metadata": {
        "id": "HpmXLJ-JZ8yG",
        "colab": {
          "base_uri": "https://localhost:8080/"
        },
        "outputId": "28dcdf69-9fd7-4282-f205-0fc7841ea7f8"
      },
      "execution_count": null,
      "outputs": [
        {
          "output_type": "stream",
          "name": "stdout",
          "text": [
            "<html><head><div class=\"article-info\"><span class=\"byline \"><a href=\"/author/lance-ulanoff/\"><img alt=\"2016%2f09%2f16%2fa2%2fhttpsd2mhye01h4nj2n.cloudfront.netmediazgkymde1lza0.a9a3a\" class=\"author_image\" src=\"http://i.amz.mshcdn.com/ziOBHf-ziCge9FhlLPoBk_xbCS8=/90x90/2016%2F09%2F16%2Fa2%2Fhttpsd2mhye01h4nj2n.cloudfront.netmediaZgkyMDE1LzA0.a9a3a.jpg\"/></a><span class=\"author_name\">By <a href=\"/author/lance-ulanoff/\">Lance Ulanoff</a></span><time datetime=\"Wed, 10 Apr 2013 22:29:51 +0000\">2013-04-10 22:29:51 UTC</time></span></div></head><body><h1 class=\"title\">Lagoa Puts Pro-Level 3D Image Tools in the Cloud</h1><figure class=\"article-image\"><img class=\"microcontent\" data-fragment=\"lead-image\" data-image=\"http://i.amz.mshcdn.com/zmFWH78iUvGLn8CsDepdVT-ezK8=/950x534/2013%2F07%2F08%2F18%2FMarofa_15.80912.jpg\" data-micro=\"1\" data-url=\"null\" src=\"http://i.amz.mshcdn.com/zmFWH78iUvGLn8CsDepdVT-ezK8=/950x534/2013%2F07%2F08%2F18%2FMarofa_15.80912.jpg\"/></figure><article data-channel=\"tech\"><section class=\"article-content\"> <div class=\"shift-to-hero\"> <section class=\"gallery\" data-display-mode=\"gallery\" data-id=\"10731\" data-slide-title-pos=\"\" data-slug=\"lagoa-3d-cloud-platform-output\"> <header> <h1>Lagoa 3D Cloud Platform Output</h1> </header> <ol class=\"slides\"> <li class=\"slide\" data-content-source=\"Gallery - Default\" data-id=\"520c72c297b2f8504d000871\" data-skip-rerender=\"false\" data-thumb=\"http://i.amz.mshcdn.com/t1IfW0GuXwaqSZo-A9lDynt1OwE=/180x140/http%3A%2F%2Fmashable.com%2Fwp-content%2Fgallery%2Flagoa-3d-cloud-platform-output%2FMarofa_15.jpg\"> <figure> <img alt=\"This looks pretty real.\" src=\"http://i.amz.mshcdn.com/SFODvCjMKSYdghOmrx6HT_hHQJM=/fit-in/850x850/http%3A%2F%2Fmashable.com%2Fwp-content%2Fgallery%2Flagoa-3d-cloud-platform-output%2FMarofa_15.jpg\"> </img></figure> <div class=\"meta\"> <h2 class=\"title\">Lagoa Has Skin Material, Too</h2> <div class=\"caption\"><p>This looks pretty real.</p></div> <div class=\"credit\"> </div> </div> </li> <li class=\"slide\" data-content-source=\"Gallery - Default\" data-id=\"520c72c297b2f8504d000872\" data-skip-rerender=\"false\" data-thumb=\"http://i.amz.mshcdn.com/q7PXFKIiAYTFLiTYyXcyZ0YFefA=/180x140/http%3A%2F%2Fmashable.com%2Fwp-content%2Fgallery%2Flagoa-3d-cloud-platform-output%2FCarpaints.jpg\"> <figure> <img alt=\"\" src=\"http://i.amz.mshcdn.com/gqV6LDBuatPI010V3LaGdL2X8Ho=/fit-in/850x850/http%3A%2F%2Fmashable.com%2Fwp-content%2Fgallery%2Flagoa-3d-cloud-platform-output%2FCarpaints.jpg\"> </img></figure> <div class=\"meta\"> <h2 class=\"title\">Measured Car Paints</h2> <div class=\"caption\"></div> <div class=\"credit\"> </div> </div> </li> <li class=\"slide\" data-content-source=\"Gallery - Default\" data-id=\"520c72c297b2f8504d000873\" data-skip-rerender=\"false\" data-thumb=\"http://i.amz.mshcdn.com/rDFGxFKfQfXpR0nX9DVwjoIxH_8=/180x140/http%3A%2F%2Fmashable.com%2Fwp-content%2Fgallery%2Flagoa-3d-cloud-platform-output%2FLAGOA_hair.jpg\"> <figure> <img alt=\"\" src=\"http://i.amz.mshcdn.com/gSJ2BSXFvI7W4n964GDAx9HhCQ4=/fit-in/850x850/http%3A%2F%2Fmashable.com%2Fwp-content%2Fgallery%2Flagoa-3d-cloud-platform-output%2FLAGOA_hair.jpg\"> </img></figure> <div class=\"meta\"> <h2 class=\"title\">Working With Hair in Lagoa</h2> <div class=\"caption\"></div> <div class=\"credit\"> </div> </div> </li> <li class=\"slide\" data-content-source=\"Gallery - Default\" data-id=\"520c72c297b2f8504d000874\" data-skip-rerender=\"false\" data-thumb=\"http://i.amz.mshcdn.com/wAp4Yp_261SE1Nkc-P3bg2JKI5U=/180x140/http%3A%2F%2Fmashable.com%2Fwp-content%2Fgallery%2Flagoa-3d-cloud-platform-output%2FUntitledScene%2520%2846%29.jpg\"> <figure> <img alt=\"\" src=\"http://i.amz.mshcdn.com/RlE6Ts6s_mPVrWfUaCQT1tHEFn4=/fit-in/850x850/http%3A%2F%2Fmashable.com%2Fwp-content%2Fgallery%2Flagoa-3d-cloud-platform-output%2FUntitledScene%2520%2846%29.jpg\"> </img></figure> <div class=\"meta\"> <h2 class=\"title\">Hyper-Realistic, But Totally Rendered 3D Toolset</h2> <div class=\"caption\"></div> <div class=\"credit\"> </div> </div> </li> <li class=\"slide\" data-content-source=\"Gallery - Default\" data-id=\"520c72c297b2f8504d000875\" data-skip-rerender=\"false\" data-thumb=\"http://i.amz.mshcdn.com/181wq_jrqm1ck2rdzTrJ0L4_Svk=/180x140/http%3A%2F%2Fmashable.com%2Fwp-content%2Fgallery%2Flagoa-3d-cloud-platform-output%2Fteaser.jpg\"> <figure> <img alt=\"\" src=\"http://i.amz.mshcdn.com/TNyxAMDyAYIinMWcud8_q8lU0H4=/fit-in/850x850/http%3A%2F%2Fmashable.com%2Fwp-content%2Fgallery%2Flagoa-3d-cloud-platform-output%2Fteaser.jpg\"> </img></figure> <div class=\"meta\"> <h2 class=\"title\">Fabric Render</h2> <div class=\"caption\"></div> <div class=\"credit\"> </div> </div> </li> <li class=\"slide\" data-content-source=\"Gallery - Default\" data-id=\"520c72c297b2f8504d000876\" data-skip-rerender=\"false\" data-thumb=\"http://i.amz.mshcdn.com/92H_SWtwVBl-iQU-V69mufMEhM8=/180x140/http%3A%2F%2Fmashable.com%2Fwp-content%2Fgallery%2Flagoa-3d-cloud-platform-output%2FLotsOfBags.jpg\"> <figure> <img alt=\"\" src=\"http://i.amz.mshcdn.com/mE53MyN72DuXHahWwncbT9Po20Q=/fit-in/850x850/http%3A%2F%2Fmashable.com%2Fwp-content%2Fgallery%2Flagoa-3d-cloud-platform-output%2FLotsOfBags.jpg\"> </img></figure> <div class=\"meta\"> <h2 class=\"title\">Visual Prototyping Bags</h2> <div class=\"caption\"></div> <div class=\"credit\"> </div> </div> </li> <li class=\"slide\" data-content-source=\"Gallery - Default\" data-id=\"520c72c297b2f8504d000877\" data-skip-rerender=\"false\" data-thumb=\"http://i.amz.mshcdn.com/96mYgri5iN0C9MTrmUZZBrfB1m4=/180x140/http%3A%2F%2Fmashable.com%2Fwp-content%2Fgallery%2Flagoa-3d-cloud-platform-output%2FCopy%2520of%2520UntitledScene%2520%2827%29.jpg\"> <figure> <img alt=\"\" src=\"http://i.amz.mshcdn.com/OsOrWqkmeLozEDm-YNJfl0D3d18=/fit-in/850x850/http%3A%2F%2Fmashable.com%2Fwp-content%2Fgallery%2Flagoa-3d-cloud-platform-output%2FCopy%2520of%2520UntitledScene%2520%2827%29.jpg\"> </img></figure> <div class=\"meta\"> <h2 class=\"title\">Volumetric Chocolate </h2> <div class=\"caption\"></div> <div class=\"credit\"> </div> </div> </li> <li class=\"slide\" data-content-source=\"Gallery - Default\" data-id=\"520c72c297b2f8504d000878\" data-skip-rerender=\"false\" data-thumb=\"http://i.amz.mshcdn.com/siStRAGasLjo2FvjkTKn_bzd-B8=/180x140/http%3A%2F%2Fmashable.com%2Fwp-content%2Fgallery%2Flagoa-3d-cloud-platform-output%2FHairClose.jpg\"> <figure> <img alt=\"\" src=\"http://i.amz.mshcdn.com/jTxkVSB2lwjM4OAj50I4Pbug3fc=/fit-in/850x850/http%3A%2F%2Fmashable.com%2Fwp-content%2Fgallery%2Flagoa-3d-cloud-platform-output%2FHairClose.jpg\"> </img></figure> <div class=\"meta\"> <h2 class=\"title\">Hair Render Close</h2> <div class=\"caption\"></div> <div class=\"credit\"> </div> </div> </li> <li class=\"slide\" data-content-source=\"Gallery - Default\" data-id=\"520c72c297b2f8504d000879\" data-skip-rerender=\"false\" data-thumb=\"http://i.amz.mshcdn.com/t36eA1jDmR59DooNBkjaDR9wDK0=/180x140/http%3A%2F%2Fmashable.com%2Fwp-content%2Fgallery%2Flagoa-3d-cloud-platform-output%2FScreen%2520Shot%25202012-11-13%2520at%25201.03.44%2520PM.jpg\"> <figure> <img alt=\"\" src=\"http://i.amz.mshcdn.com/lRnqnw2psRJKKqvdUNib7acXyYA=/fit-in/850x850/http%3A%2F%2Fmashable.com%2Fwp-content%2Fgallery%2Flagoa-3d-cloud-platform-output%2FScreen%2520Shot%25202012-11-13%2520at%25201.03.44%2520PM.jpg\"> </img></figure> <div class=\"meta\"> <h2 class=\"title\">Working on Cars in Lagoa</h2> <div class=\"caption\"></div> <div class=\"credit\"> </div> </div> </li> <li class=\"slide\" data-content-source=\"Gallery - Default\" data-id=\"520c72c297b2f8504d00087a\" data-skip-rerender=\"false\" data-thumb=\"http://i.amz.mshcdn.com/mZfAWAIrtEEQmCGxDrVdjWcw8Jk=/180x140/http%3A%2F%2Fmashable.com%2Fwp-content%2Fgallery%2Flagoa-3d-cloud-platform-output%2FScreen%2520Shot%25202012-11-13%2520at%25205.02.23%2520PM.jpg\"> <figure> <img alt=\"\" src=\"http://i.amz.mshcdn.com/Qd2XhS0sb2sHsAdfSrImO2BVzlQ=/fit-in/850x850/http%3A%2F%2Fmashable.com%2Fwp-content%2Fgallery%2Flagoa-3d-cloud-platform-output%2FScreen%2520Shot%25202012-11-13%2520at%25205.02.23%2520PM.jpg\"> </img></figure> <div class=\"meta\"> <h2 class=\"title\">Sub Surface Light</h2> <div class=\"caption\"></div> <div class=\"credit\"> </div> </div> </li> <li class=\"slide\" data-content-source=\"Gallery - Default\" data-id=\"520c72c297b2f8504d00087b\" data-skip-rerender=\"false\" data-thumb=\"http://i.amz.mshcdn.com/eKCZgteKKpvPyMApFmfrAxM4C_Y=/180x140/http%3A%2F%2Fmashable.com%2Fwp-content%2Fgallery%2Flagoa-3d-cloud-platform-output%2FUntitledScene%2520%2814%29.jpg\"> <figure> <img alt=\"\" src=\"http://i.amz.mshcdn.com/ZnlzxPWblIxrkMwfaJta0lEL_ng=/fit-in/850x850/http%3A%2F%2Fmashable.com%2Fwp-content%2Fgallery%2Flagoa-3d-cloud-platform-output%2FUntitledScene%2520%2814%29.jpg\"> </img></figure> <div class=\"meta\"> <h2 class=\"title\">Rendered Engine</h2> <div class=\"caption\"></div> <div class=\"credit\"> </div> </div> </li> <li class=\"slide\" data-content-source=\"Gallery - Default\" data-id=\"520c72c297b2f8504d00087c\" data-skip-rerender=\"false\" data-thumb=\"http://i.amz.mshcdn.com/53J1OorsNnfKffp1RFbuaMLnf_0=/180x140/http%3A%2F%2Fmashable.com%2Fwp-content%2Fgallery%2Flagoa-3d-cloud-platform-output%2FUntitledScene%2520%2848%29.jpg\"> <figure> <img alt=\"\" src=\"http://i.amz.mshcdn.com/0C2j8XwdnMcGtJuOWoRP1WrTuU4=/fit-in/850x850/http%3A%2F%2Fmashable.com%2Fwp-content%2Fgallery%2Flagoa-3d-cloud-platform-output%2FUntitledScene%2520%2848%29.jpg\"> </img></figure> <div class=\"meta\"> <h2 class=\"title\">Rendered Furniture</h2> <div class=\"caption\"></div> <div class=\"credit\"> </div> </div> </li> <li class=\"slide\" data-content-source=\"Gallery - Default\" data-id=\"520c72c297b2f8504d00087d\" data-skip-rerender=\"false\" data-thumb=\"http://i.amz.mshcdn.com/PvsmFC_kLlvR9lFXnYv5at7aARY=/180x140/http%3A%2F%2Fmashable.com%2Fwp-content%2Fgallery%2Flagoa-3d-cloud-platform-output%2FUntitledScene%2520%289%29.jpg\"> <figure> <img alt=\"\" src=\"http://i.amz.mshcdn.com/_IeGh9B-H-Roxl7j0lMvaEx-1H4=/fit-in/850x850/http%3A%2F%2Fmashable.com%2Fwp-content%2Fgallery%2Flagoa-3d-cloud-platform-output%2FUntitledScene%2520%289%29.jpg\"> </img></figure> <div class=\"meta\"> <h2 class=\"title\">Rendered Living Room</h2> <div class=\"caption\"></div> <div class=\"credit\"> </div> </div> </li> <li class=\"slide\" data-content-source=\"Gallery - Default\" data-id=\"520c72c297b2f8504d00087e\" data-skip-rerender=\"false\" data-thumb=\"http://i.amz.mshcdn.com/8lMY_IOxtFKP_OBlmcgObubnJAo=/180x140/http%3A%2F%2Fmashable.com%2Fwp-content%2Fgallery%2Flagoa-3d-cloud-platform-output%2Ffocus_all.jpg\"> <figure> <img alt=\"\" src=\"http://i.amz.mshcdn.com/G7dPgAtol_7Mio8KomDEubhZRKM=/fit-in/850x850/http%3A%2F%2Fmashable.com%2Fwp-content%2Fgallery%2Flagoa-3d-cloud-platform-output%2Ffocus_all.jpg\"> </img></figure> <div class=\"meta\"> <h2 class=\"title\">Auto Paint</h2> <div class=\"caption\"></div> <div class=\"credit\"> </div> </div> </li> <li class=\"slide\" data-content-source=\"Gallery - Default\" data-id=\"520c72c297b2f8504d00087f\" data-skip-rerender=\"false\" data-thumb=\"http://i.amz.mshcdn.com/3e0ttbkG3BaO-Oi0qG5jo60v_hU=/180x140/http%3A%2F%2Fmashable.com%2Fwp-content%2Fgallery%2Flagoa-3d-cloud-platform-output%2Fheads.jpg\"> <figure> <img alt=\"\" src=\"http://i.amz.mshcdn.com/IcwvP8XhuBmiShez2IxdQ3prT6g=/fit-in/850x850/http%3A%2F%2Fmashable.com%2Fwp-content%2Fgallery%2Flagoa-3d-cloud-platform-output%2Fheads.jpg\"> </img></figure> <div class=\"meta\"> <h2 class=\"title\">Heads</h2> <div class=\"caption\"></div> <div class=\"credit\"> </div> </div> </li> <li class=\"slide\" data-content-source=\"Gallery - Default\" data-id=\"520c72c297b2f8504d000880\" data-skip-rerender=\"false\" data-thumb=\"http://i.amz.mshcdn.com/RmjekW-TGs-Q-vLDlYAvO33Uemw=/180x140/http%3A%2F%2Fmashable.com%2Fwp-content%2Fgallery%2Flagoa-3d-cloud-platform-output%2Fwhite_straight.jpg\"> <figure> <img alt=\"\" src=\"http://i.amz.mshcdn.com/wBCruGed3mCFlwQe2TaSxGHRsn4=/fit-in/850x850/http%3A%2F%2Fmashable.com%2Fwp-content%2Fgallery%2Flagoa-3d-cloud-platform-output%2Fwhite_straight.jpg\"> </img></figure> <div class=\"meta\"> <h2 class=\"title\">White, Straight Hair</h2> <div class=\"caption\"></div> <div class=\"credit\"> </div> </div> </li> <li class=\"slide\" data-content-source=\"Gallery - Default\" data-id=\"520c72c297b2f8504d000881\" data-skip-rerender=\"false\" data-thumb=\"http://i.amz.mshcdn.com/Y9kvazvHzyakijhCLFPolAjNDdw=/180x140/http%3A%2F%2Fmashable.com%2Fwp-content%2Fgallery%2Flagoa-3d-cloud-platform-output%2Fparticle_test_gold.jpg\"> <figure> <img alt=\"\" src=\"http://i.amz.mshcdn.com/IZoyDwv35s1mDSdYU8t_G1k4T-Q=/fit-in/850x850/http%3A%2F%2Fmashable.com%2Fwp-content%2Fgallery%2Flagoa-3d-cloud-platform-output%2Fparticle_test_gold.jpg\"> </img></figure> <div class=\"meta\"> <h2 class=\"title\">A Particle Test</h2> <div class=\"caption\"></div> <div class=\"credit\"> </div> </div> </li> </ol> </section> </div> <p>3D imagery, the kind that gives depth and, sometimes, artificial reality to static images is often astonishing and almost always hard to create. Every time you see another <a href=\"http://mashable.com/2013/02/10/apple-smart-watch-concepts/\">Apple iWatch</a> or <a href=\"http://mashable.com/2013/01/05/iphone-6-design/\">iPhone 6</a> concept design, you might want to stop for a moment and think about what it took to build that hyper-realistic JPEG. 3D image creation requires expertise and expensive hardware and software. Canadian startup <a href=\"https://lagoa.com\" target=\"_blank\">Lagoa</a>, however, seeks to change that equation, putting powerful 3D rendering tools in the cloud, with access via your web browser.</p> <p>““Everyone needs to render when working with 3D content, but traditionally that demands enormous compute power and a lot of patience. We made it fast, collaborative, and photoreal,\" Lagoa CEO Thiago Costa told me from his Quebec-based office. He founded the company last year after a 10-year career in visual effects and game development that included creating some of the eye-popping imagery in the film <em>GI Joe: Rise of the Cobra</em>. Lagoa Technologies initially made its mark with an eye-popping physics engine called “Multiphysics.” This video demonstration (below) eventually garnered almost 2 million views and the technology became a part of 3D powerhouses Autodesk via the Lagoa Multiphysics plugin for Softimage.</p> <p><iframe allowfullscreen=\"\" frameborder=\"0\" height=\"281\" mozallowfullscreen=\"\" src=\"http://player.vimeo.com/video/13457383?title=0&amp;byline=0&amp;portrait=0&amp;color=00fff7\" webkitallowfullscreen=\"\" width=\"500\"></iframe> </p> <p>Costa, though, wanted to bring the power of 3D to the browser. The concept behind Lagoa is simple and smart. It’s a real-time, Web based, collaborative 3D manipulation platform that requires no software installation or localized rendering power. Lagoa is not for 3D newbies. It’s a powerful environment full of rich controls for manipulating pre-built 3D objects, scenes, light sources, textures and materials. </p> <p>Cloud-based 3D solutions are not new. Last year Pixar and Greenbutton <a href=\"http://mashable.com/2012/01/25/pixar-renderman-on-demand/\">partnered up</a> to launch RenderMan On Demand, a cloud based animation rendering solution. Costa explained that Lagoa is not the same. With RenderMan On Demand, you still need local hardware and software to build and manipulate the 3D imagery.</p> <p><img alt=\"Lagoa Interface\" class=\"\" data-fragment=\"m!77e2\" data-image=\"http://i.amz.mshcdn.com/8xQNZnKLsR5FKKzNxTDOnaNCeIA=/http%3A%2F%2Fmashable.com%2Fwp-content%2Fuploads%2F2013%2F04%2Fa-Interface.jpg\" data-micro=\"1\" src=\"http://i.amz.mshcdn.com/5MbKPxWrSza1pKQSdF2AhzfmOGg=/fit-in/1200x9600/http%3A%2F%2Fmashable.com%2Fwp-content%2Fuploads%2F2013%2F04%2Fa-Interface.jpg\" title=\"Lagoa Interface\"/></p> <p>Lagoa does not allow you to generate new 3D objects. Instead, you import AutoCAD or .OBJ files. The platform also comes with a collection of pre-built objects you can add to your images. However, once you put the 3D objects inside Lagoa, you can, among other things, manipulate the materials (change metal to gold or glass, for example), add and adjust lighting and position the camera.</p> <p>The next step is outputting a final high-resolution 3D JPEG or EXR file. The latter is an HD bitmap image.</p> <p>Lagoa, which launched earlier this month and now has about 4,000 users, offers up to five hours of free rendering per month and a gigabyte of storage on their servers. For more than that, you pay $35 a month, but costs rise as you add more rendering hours. Costa says they also have enterprise-level plans.</p> <p>Costa took me on a tour of the Lagoa interface (it requires Chrome or Firefox with Web GL) where together we worked on and manipulated 3D renderings of an engine and a dragon. The dragon is part of their image library and the engine was built outside Lagoa. We were able to spin around the objects and the scene and soon I was dragging and dropping materials, changing the dragon from metal to glass, and adding and removing light sources. While the dragon was a single 3D object, the motor was actually comprised of dozens of pieces, each of which I could select and change. Lagoa does real-time image rendering, but manages to not slow you down as you work. It does so by first delivering a grainy image that it resolves to high-quality while you work.</p> <p>I tested and wrote about 3D creation and rendering tools in the '90s, so I have a working knowledge of 3D creation. Those not familiar with it will find the interface a bit confusing, but then it’s really an environment for pros and creative types.</p> <p>Eventually Lagoa may support 3D object creation and even animation. If they get that done and maybe make the tool just a little bit more user friendly, this could become a new content creation tool for the masses. Just imagine how impressed your friends would be if your social feed included homemade 3D images and, someday, animations.</p> <p>You can learn more about Lagoa in the new video below.</p> <p><iframe allowfullscreen=\"\" frameborder=\"0\" height=\"281\" mozallowfullscreen=\"\" src=\"http://player.vimeo.com/video/63170024\" webkitallowfullscreen=\"\" width=\"500\"></iframe> </p> <p><a href=\"http://vimeo.com/63170024\" target=\"_blank\">Lagoa.com – launch video</a> from <a href=\"http://vimeo.com/thiagocosta\" target=\"_blank\">Thiago Costa</a> on <a href=\"http://vimeo.com\" target=\"_blank\">Vimeo</a>.</p> <p><em>Images courtesy of Lagoa; Video courtesy of Vimeo, <a href=\"http://vimeo.com/thiagocosta\" target=\"_blank\">Thiago Costa</a></em></p> </section></article><footer class=\"article-topics\"> Topics: <a href=\"/category/3d/\">3D</a>, <a href=\"/category/apps-software/\">Apps and Software</a>, <a href=\"/category/tech/\">Tech</a> </footer></body></html>\n"
          ]
        }
      ]
    },
    {
      "cell_type": "code",
      "source": [
        "soup = BSoup(test_R.iloc[1585, 1], 'html.parser')\n",
        "\n",
        "# Find all HTML tags and get their attributes without content\n",
        "tags_with_attributes = [tag for tag in soup.find_all()]\n",
        "\n",
        "# Print the list of tags with attributes (excluding content)\n",
        "for tag in tags_with_attributes:\n",
        "    # Extract the tag name and its attributes\n",
        "    tag_name = tag.name\n",
        "    tag_attributes = tag.attrs\n",
        "    print(f\"<{tag_name} {tag_attributes}>\")"
      ],
      "metadata": {
        "id": "gDtVF3pupdRC"
      },
      "execution_count": null,
      "outputs": []
    },
    {
      "cell_type": "code",
      "source": [
        "# html tag V\n",
        "# emoticons V\n",
        "# date : 2013-06-19 V\n",
        "# time: 15:04:30 UTC => to seconds V\n",
        "# topic: Topics: Asteroid, Asteroids, challenge, Earth, Space, U.S., World\n",
        "# lengths V\n",
        "# token lengths\n",
        "# weekdays + weekends V\n",
        "# standardScaling\n",
        "# topics - occurrences\n",
        "\n",
        "def extract_day_time(text):\n",
        "    text = BSoup(text, 'html.parser')\n",
        "\n",
        "    tag = text.find(name='time')\n",
        "    day = 'void' # published day\n",
        "    time = 0 # time in seconds\n",
        "\n",
        "    try:\n",
        "        attr = tag.attrs['datetime']\n",
        "    except:\n",
        "        attr = None\n",
        "        print(\"Date Not Found\")\n",
        "\n",
        "\n",
        "    if(attr):\n",
        "        day = attr[:3]\n",
        "        if(not day):\n",
        "            day = 'NoData'\n",
        "\n",
        "        time_str = re.findall('\\d\\d[:]\\d\\d[:]\\d\\d', attr)[0]\n",
        "        if (not time_str):\n",
        "            time = 0\n",
        "        else:\n",
        "            hour = int(time_str[0] + time_str[1])\n",
        "            minute = int(time_str[3] + time_str[4])\n",
        "            second = int(time_str[6] + time_str[7])\n",
        "            time = hour*3600 + minute*60 + second\n",
        "    return day, time\n",
        "\n",
        "def extract_title_content(text):\n",
        "    text = BSoup(text, 'html.parser')\n",
        "\n",
        "    title = text.find('h1', attrs={'class': 'title'}).get_text()\n",
        "    content = text.find('section', attrs={'class': 'article-content'}).get_text()\n",
        "\n",
        "    # print(title)\n",
        "    # print(content)\n",
        "\n",
        "    return title, content\n",
        "\n",
        "def preprocess(text):\n",
        "    text = BSoup(text, 'html.parser').get_text()\n",
        "\n",
        "    reg = '(?::|;|=|X)(?:-)?(?:\\)|\\(|D|P)'\n",
        "    emo = re.findall(reg, text)\n",
        "    text = re.sub(reg, '', text)\n",
        "\n",
        "    text = re.sub('[\\W]+', \" \", text.lower()) + \" \" + ' '.join(emo).replace('-', '')\n",
        "    return text\n",
        "\n",
        "def tokenizer(text):\n",
        "    return re.split('\\s+', text.strip())\n",
        "\n",
        "def tokenizer_stem_noStopWords(text):\n",
        "    porter = PorterStemmer()\n",
        "    return [porter.stem(w) for w in re.split('\\s+', text.strip())\n",
        "            if w not in stopWords and re.match('[a-zA-Z]+', w)]"
      ],
      "metadata": {
        "id": "LCN0kysZmGrG"
      },
      "execution_count": 6,
      "outputs": []
    },
    {
      "cell_type": "markdown",
      "source": [],
      "metadata": {
        "id": "OfXAt9AJn2qF"
      }
    },
    {
      "cell_type": "code",
      "source": [
        "day_of_week = []\n",
        "time_in_sec = []\n",
        "article_title = []\n",
        "article_content = []\n",
        "\n",
        "def create_more_feats(data):\n",
        "    day_of_week_local = []\n",
        "    time_in_sec_local = []\n",
        "    text_title = []\n",
        "    text_content = []\n",
        "\n",
        "    for i in range(0, len(data['Page content'])):\n",
        "        text = data['Page content'][i]\n",
        "\n",
        "        day, time = extract_day_time(text)\n",
        "        day_of_week_local.append(day)\n",
        "        time_in_sec_local.append(time)\n",
        "\n",
        "        title, content = extract_title_content(text)\n",
        "        text_title.append(title)\n",
        "        text_content.append(content)\n",
        "    return day_of_week_local, time_in_sec_local, text_title, text_content\n",
        "\n",
        "day_of_week, time_in_sec, article_title, article_content = create_more_feats(train_R)\n",
        "\n",
        "train_R[\"Days\"] = day_of_week\n",
        "train_R[\"Time\"] = time_in_sec\n",
        "train_R[\"Title\"] = article_title\n",
        "train_R[\"Content\"] = article_content\n",
        "\n",
        "day_of_week, time_in_sec, article_title, article_content = create_more_feats(test_R)\n",
        "\n",
        "test_R[\"Days\"] = day_of_week\n",
        "test_R[\"Time\"] = time_in_sec\n",
        "test_R[\"Title\"] = article_title\n",
        "test_R[\"Content\"] = article_content"
      ],
      "metadata": {
        "id": "0Qqvon6sA4Uz"
      },
      "execution_count": null,
      "outputs": []
    },
    {
      "cell_type": "code",
      "source": [
        "train_R.to_csv(\"train_new2.csv\", index=False)\n",
        "test_R.to_csv(\"test_new2.csv\", index=False)"
      ],
      "metadata": {
        "id": "IC0Wx1xeLljh"
      },
      "execution_count": null,
      "outputs": []
    },
    {
      "cell_type": "markdown",
      "source": [
        "- training and validation data splitting"
      ],
      "metadata": {
        "id": "cRtWrCKjDAn_"
      }
    },
    {
      "cell_type": "code",
      "source": [
        "print(train_R.shape, valid_R.shape)\n",
        "print(test_R.shape)\n",
        "# print(train_R.head())\n",
        "# print(test_R.head())\n",
        "# print(train_R[:5])"
      ],
      "metadata": {
        "id": "sIx8Ro4P4FAf",
        "colab": {
          "base_uri": "https://localhost:8080/"
        },
        "outputId": "0ef8d4e0-53d8-4995-8c2e-87caa63654f4"
      },
      "execution_count": null,
      "outputs": [
        {
          "output_type": "stream",
          "name": "stdout",
          "text": [
            "(20732, 8) (6911, 8)\n",
            "(11847, 7)\n"
          ]
        }
      ]
    },
    {
      "cell_type": "code",
      "source": [
        "class CharacterCounter(BaseEstimator, TransformerMixin):\n",
        "    \"\"\"Count the number of characters in a document.\"\"\"\n",
        "    def __init__(self):\n",
        "        pass\n",
        "    def fit(self, X, y=None):\n",
        "        return self\n",
        "    def transform(self, X):\n",
        "        n_characters = X.str.len()\n",
        "        # print('567', (n_characters), '2636',  X.str)\n",
        "        return n_characters.values.reshape(-1,1) # 2D array\n",
        "\n",
        "class WordCounter(BaseEstimator, TransformerMixin):\n",
        "    \"\"\"Count the number of words in a document.\"\"\"\n",
        "    def _init_(self):\n",
        "        pass\n",
        "    def fit(self, X, y=None):\n",
        "        return self\n",
        "    def transform(self, X):\n",
        "        n_word = X.apply(lambda text: len(text.split()))\n",
        "        # print((n_word))\n",
        "        return n_word.values.reshape(-1,1)"
      ],
      "metadata": {
        "id": "LgYWO2PNj4kW"
      },
      "execution_count": null,
      "outputs": []
    },
    {
      "cell_type": "code",
      "source": [
        "word_count = WordCounter()\n",
        "word_count.fit(train_R['Content'])\n",
        "\n",
        "# train_R['N_word'] = word_count.transform(train_R['Content'])\n",
        "\n",
        "# print(train_R.head())\n",
        "\n",
        "word_count = WordCounter()\n",
        "word_count.fit(test_R['Content'])\n",
        "\n",
        "# test_R['N_word'] = word_count.transform(test_R['Content'])\n",
        "\n",
        "# print(test_R.head())"
      ],
      "metadata": {
        "id": "pTSUtxKq89B8"
      },
      "execution_count": null,
      "outputs": []
    },
    {
      "cell_type": "code",
      "source": [
        "\n",
        "print(tokenizer(preprocess(train_R.iloc[0, 2])))"
      ],
      "metadata": {
        "colab": {
          "base_uri": "https://localhost:8080/"
        },
        "id": "PKGNs0Re6ZND",
        "outputId": "ae503b79-b624-42be-c7bd-c00013a24f7c"
      },
      "execution_count": null,
      "outputs": [
        {
          "output_type": "stream",
          "name": "stdout",
          "text": [
            "['clara', 'moskowitz', 'for', 'space', 'com', '2013', '06', '19', '15', '04', '30', 'utc', 'nasa', 's', 'grand', 'challenge', 'stop', 'asteroids', 'from', 'destroying', 'earth', 'there', 'may', 'be', 'killer', 'asteroids', 'headed', 'for', 'earth', 'and', 'nasa', 'has', 'decided', 'to', 'do', 'something', 'about', 'it', 'the', 'space', 'agency', 'announced', 'a', 'new', 'grand', 'challenge', 'on', 'june', '18', 'to', 'find', 'all', 'dangerous', 'space', 'rocks', 'and', 'figure', 'out', 'how', 'to', 'stop', 'them', 'from', 'destroying', 'our', 'planet', 'the', 'new', 'mission', 'builds', 'on', 'projects', 'already', 'underway', 'at', 'nasa', 'including', 'a', 'plan', 'to', 'capture', 'an', 'asteroid', 'pull', 'it', 'in', 'toward', 'the', 'moon', 'and', 'send', 'astronauts', 'to', 'visit', 'it', 'as', 'part', 'of', 'the', 'grand', 'challenge', 'the', 'agency', 'issued', 'a', 'request', 'for', 'information', 'today', 'aiming', 'to', 'solicit', 'ideas', 'from', 'industry', 'academia', 'and', 'the', 'public', 'on', 'how', 'to', 'improve', 'the', 'asteroid', 'mission', 'plan', 'we', 're', 'asking', 'for', 'you', 'to', 'think', 'about', 'concepts', 'and', 'different', 'approaches', 'for', 'what', 'we', 've', 'described', 'here', 'william', 'gerstenmaier', 'nasa', 's', 'associate', 'administrator', 'for', 'human', 'explorations', 'and', 'operations', 'said', 'yesterday', 'during', 'a', 'nasa', 'event', 'announcing', 'the', 'initiative', 'we', 'want', 'you', 'to', 'think', 'about', 'other', 'ways', 'of', 'enhancing', 'this', 'to', 'get', 'the', 'most', 'out', 'of', 'it', 'see', 'also', 'how', 'it', 'works', 'nasa', 'asteroid', 'captureresponses', 'to', 'the', 'request', 'for', 'information', 'which', 'also', 'seeks', 'ideas', 'for', 'detecting', 'and', 'mitigating', 'asteroid', 'threats', 'are', 'due', 'july', '18', 'the', 'asteroid', 'retrieval', 'mission', 'designed', 'to', 'provide', 'the', 'first', 'deep', 'space', 'mission', 'for', 'astronauts', 'flying', 'on', 'nasa', 's', 'space', 'launch', 'system', 'rocket', 'and', 'orion', 'space', 'capsule', 'under', 'development', 'has', 'come', 'under', 'fire', 'from', 'lawmakers', 'who', 'would', 'prefer', 'that', 'nasa', 'return', 'to', 'the', 'moon', 'a', 'draft', 'nasa', 'authorization', 'bill', 'from', 'the', 'house', 'space', 'subcommittee', 'which', 'is', 'currently', 'in', 'debate', 'would', 'cancel', 'the', 'mission', 'and', 'steer', 'the', 'agency', 'toward', 'other', 'projects', 'that', 'bill', 'will', 'be', 'discussed', 'during', 'a', 'hearing', 'wednesday', 'june', '19', 'at', '10', 'a', 'm', 'edt', 'see', 'also', 'how', 'it', 'works', 'nasa', 'asteroid', 'capture', 'mission', 'in', 'picturesbut', 'nasa', 'officials', 'defended', 'the', 'asteroid', 'mission', 'today', 'and', 'said', 'they', 'were', 'confident', 'they', 'd', 'win', 'congress', 'support', 'once', 'they', 'explained', 'its', 'benefits', 'further', 'i', 'think', 'that', 'we', 'really', 'truly', 'are', 'going', 'to', 'be', 'able', 'to', 'show', 'the', 'value', 'of', 'the', 'mission', 'nasa', 'associate', 'administrator', 'lori', 'garver', 'said', 'today', 'to', 'me', 'this', 'is', 'something', 'that', 'what', 'we', 'do', 'in', 'this', 'country', 'we', 'debate', 'how', 'we', 'spend', 'the', 'public', 's', 'money', 'this', 'is', 'the', 'beginning', 'of', 'the', 'debate', 'garver', 'also', 'maintained', 'that', 'sending', 'astronauts', 'to', 'an', 'asteroid', 'would', 'not', 'diminish', 'nasa', 's', 'other', 'science', 'and', 'exploration', 'goals', 'including', 'another', 'lunar', 'landing', 'see', 'also', 'animation', 'of', 'proposed', 'asteroid', 'retrieval', 'mission', 'this', 'initiative', 'takes', 'nothing', 'from', 'the', 'other', 'valuable', 'work', 'she', 'said', 'this', 'is', 'only', 'a', 'small', 'piece', 'of', 'our', 'overall', 'strategy', 'but', 'it', 'is', 'an', 'integral', 'piece', 'it', 'takes', 'nothing', 'from', 'the', 'moon', 'part', 'of', 'nasa', 's', 'plan', 'to', 'win', 'support', 'for', 'the', 'flight', 'is', 'to', 'link', 'it', 'more', 'closely', 'with', 'the', 'larger', 'goal', 'of', 'protecting', 'earth', 'from', 'asteroid', 'threats', 'if', 'someday', 'humanity', 'discovers', 'an', 'asteroid', 'headed', 'for', 'earth', 'and', 'manages', 'to', 'alter', 'its', 'course', 'it', 'will', 'be', 'one', 'of', 'the', 'most', 'important', 'accomplishments', 'in', 'human', 'history', 'said', 'tom', 'kalil', 'deputy', 'director', 'for', 'technology', 'and', 'innovation', 'at', 'the', 'white', 'house', 'office', 'of', 'science', 'and', 'technology', 'policy', 'see', 'also', 'wildest', 'private', 'deep', 'space', 'mission', 'ideas', 'a', 'countdownthe', 'topic', 'of', 'asteroid', 'threats', 'is', 'more', 'timely', 'than', 'ever', 'after', 'a', 'meteor', 'exploded', 'over', 'the', 'russian', 'city', 'of', 'chelyabinsk', 'on', 'feb', '15', 'the', 'same', 'day', 'that', 'the', 'football', 'field', 'sized', 'asteroid', '2012', 'da14', 'passed', 'within', 'the', 'moon', 's', 'orbit', 'of', 'earth', 'image', 'courtesy', 'of', 'nasa', 'spacex', 's', 'musk', 'says', 'sabotage', 'unlikely', 'cause', 'of', 'sept', '1', 'explosion', 'but', 'still', 'a', 'worry', 'proxima', 'centauri', 'is', 'like', 'our', 'sun', 'on', 'steroids', 'china', 'launches', 'shenzhou', '11', 'astronauts', 'to', 'tiangong', '2', 'space', 'lab', 'space', 'station', 'mockup', 'in', 'houston', 'astronaut', 'guided', 'tour', 'video', 'this', 'article', 'originally', 'published', 'at', 'space', 'com', 'here', 'topics', 'asteroid', 'asteroids', 'challenge', 'earth', 'space', 'u', 's', 'world']\n"
          ]
        }
      ]
    },
    {
      "cell_type": "code",
      "source": [
        "a = train_R.iloc[5]\n",
        "print(BSoup(a['Page content'], 'html.parser').get_text())\n",
        "print(f'Popularity: {a[\"Popularity\"]}')\n",
        "# Clara Moskowitz for Space.com 2013-06-19 15:04:30 UTC NASA's Grand Challenge: Stop Asteroids From Destroying Earth There may be killer asteroids headed for Earth,\n",
        "# and NASA has decided to do something about it. The space agency announced a new \"Grand Challenge\" on June 18 to find all dangerous space rocks and figure out how\n",
        "# to stop them from destroying our planet. The new mission builds on projects already underway at NASA, including a plan to capture an asteroid, pull it in toward the\n",
        "#  moon and send astronauts to visit it. As part of the Grand Challenge, the agency issued a \"request for information\" today — aiming to solicit ideas from industry,\n",
        "#   academia and the public on how to improve the asteroid mission plan. \"We're asking for you to think about concepts and different approaches for what we've described\n",
        "#    here,\" William Gerstenmaier, NASA's associate administrator for human explorations and operations, said yesterday during a NASA event announcing the initiative. \"We want\n",
        "#     you to think about other ways of enhancing this to get the most out of it.\" SEE ALSO: How It Works: NASA Asteroid-CaptureResponses to the request for information,\n",
        "#     which also seeks ideas for detecting and mitigating asteroid threats, are due July 18.The asteroid-retrieval mission, designed to provide the first\n",
        "#     deep-space mission for astronauts flying on NASA's Space Launch System rocket and Orion space capsule under development, has come under fire from\n",
        "#     lawmakers who would prefer that NASA return to the moon.A draft NASA authorization bill from the House space subcommittee, which is currently in debate,\n",
        "#     would cancel the mission and steer the agency toward other projects. That bill will be discussed during a hearing\n",
        "#     Wednesday, June 19 at 10 a.m. EDT.SEE ALSO: How It Works: NASA Asteroid-Capture Mission in PicturesBut NASA officials defended the asteroid mission\n",
        "#     today and said they were confident they'd win Congress' support once they explained its benefits further.\"I think that we really, truly are going to be able to\n",
        "#     show the value of the mission,\" NASA Associate Administrator Lori Garver said today. \"To me, this is something that what we do in this country — we debate how\n",
        "#     we spend the public's money. This is the beginning of the debate.\"Garver also maintained that sending astronauts to an asteroid would not diminish NASA's other\n",
        "#     science and exploration goals, including another lunar landing.SEE ALSO: Animation Of Proposed Asteroid Retrieval Mission\"This initiative takes nothing from the other\n",
        "#     valuable work,\" she said. \"This is only a small piece of our overall strategy, but it is an integral piece. It takes nothing from the moon.\"Part of NASA's plan to\n",
        "#     win support for the flight is to link it more closely with the larger goal of protecting Earth from asteroid threats.If, someday, humanity discovers an asteroid\n",
        "#     headed for Earth and manages to alter its course, \"it will be one of the most important accomplishments in human history,\" said Tom Kalil, deputy director for\n",
        "#     technology and innovation at the White House Office of Science and Technology Policy.SEE ALSO: Wildest Private Deep-Space Mission Ideas: A CountdownThe topic\n",
        "#     of asteroid threats is more timely than ever, after a meteor exploded over the Russian city of Chelyabinsk on Feb. 15 — the same day that the football field-sized\n",
        "#     asteroid 2012 DA14 passed within the moon's orbit of Earth.Image courtesy of NASA  SpaceX's Musk Says Sabotage Unlikely Cause of Sept. 1 Explosion, But Still a\n",
        "#     Worry Proxima Centauri Is Like Our Sun... on Steroids China Launches Shenzhou-11 Astronauts to Tiangong-2 Space Lab Space Station Mockup In Houston -\n",
        "#     Astronaut Guided Tour | Video   This article originally published at Space.com here\n",
        "# Topics: Asteroid, Asteroids, challenge, Earth, Space, U.S., World\n",
        "\n",
        "# By Christina Warren2013-03-28 17:40:55 UTCGoogle's New Open Source Patent Pledge: We Won't Sue Unless Attacked First Google took a stand of sorts against patent-lawsuit\n",
        "# theater Thursday with its new Open Patent Non-Assertion (OPN) Pledge.  As explained by Google's Duane Valz, under the OPN Pledge, Google promises \"not to sue any\n",
        "# user, distributor or developer of open-source software on specified patents, unless first attacked.\" Now, Google isn't making all of its patents available for others.\n",
        "# Instead, its starting small with 10 patents focused on MapReduce, a programming model for handling large data sets. There are already open-sourced versions of MapReduce\n",
        "# available — including Hadoop — that are widely used across the Internet. Google says that over time, it plans to extend the OPN Pledge to more Google patents. SEE ALSO:\n",
        "# 10 Interesting Google Glass Winners and Their Wacky Ideas  The big caveat here is that Google is pledging not to sue anyone who uses its MapReduce patents for Free or\n",
        "# Open Source Software. Google is defining Free or Open Source software as any software that meets the Open Source Initiative's \"Open Source Definition,\" as well as any\n",
        "# version of the Free Software Foundation's \"Free Software Definition.\" Still, Google iterates that the OPN Pledge isn't limited to a specific project or open-source\n",
        "# copyright — as long as the project meets the FSF or OSI's definition for Free Software or Open Source Software, it's protected by the OPN Pledge. Google hopes that\n",
        "# its OPN Pledge can be a model for other companies who are looking at how to \"put their own patents into the service of open-source software.\" In the short-term,\n",
        "# we're not sure what this does — except indemnify the open source MapReduce projects from a Google lawsuit. The bigger picture, however, is that this could be a\n",
        "# new model for the way that patents are applied to open source as a whole. And that's a good thing. Image courtesy of iStockphoto, stuartbur\n",
        "# Topics: Apps and Software, Google, open source, opn pledge, patent lawsuit theater, software patents, Tech, U.S.\n",
        "# 1\n",
        "\n",
        "#  Brendan Greeley for Bloomberg 2013-11-21 18:00:42 UTC The Underdog Internet Providers Head to Washington “Kind of like a union?” I ask Craig Foster.\n",
        "#  “Eh, yeah,” he says, “except without the union part.” Foster, the CFO of Ubiquiti Networks, was in New York this week, in part to talk about the\n",
        "#  Ubiquiti World Network, a trade group that will bring together smaller wireless Internet service providers and give them what they really need: a\n",
        "#  lobbyist. Ubiquiti, whose chief executive officer, Robert Pera, was profiled in Bloomberg Businessweek earlier this year, makes hardware that sends Internet\n",
        "#  signals over long distances without wires. Your phone carrier does this, but Ubiquiti’s customers, unlike your phone carrier, use unlicensed spectrum.\n",
        "#  That is, they don’t have an exclusive license from the Federal Communications Commission to transmit. Instead, they send their signals over certain,\n",
        "#  limited frequencies that have been set aside for anyone to use. Ubiquiti has focused its engineering talent on strengthening signals, sending them through\n",
        "#  cluttered airwaves, and filtering signal from noise at the other end. This has created for them a large customer base in emerging markets, where there’s less\n",
        "#  capital to spare for expensive fiber-optic networks. It’s a market large enough that Pera has been able to buy the Memphis Grizzlies. But there are also places\n",
        "#  in America, mostly rural, where wired infrastructure is too expensive to build. And there are places in America, mostly urban, where wired Internet access is\n",
        "#  too expensive to pay for. SEE ALSO: How Important Is Spectrum in Your Life?  Foster estimates that between 3,500 and 5,000 wireless Internet service providers\n",
        "#  serve these markets. I went to a meeting of them last year; WISPs, as they call themselves, tend to be small, run by engineers who get a kick out of solving\n",
        "#  problems while hanging by a clip from the top of a tower. It’s an industry still small enough that it calls its annual national conference “WISPapalooza.” The\n",
        "#  companies that use licensed spectrum — like your cellphone carrier — have pull in Washington, both directly and through trade groups like the CTIA. They need to,\n",
        "#  because they can’t operate without the licenses that come from the FCC. The WISPs, thus far, have no pull, because all they’ve needed from Washington is unlicensed\n",
        "#  spectrum, a public good that Washington already provides. It’s unfortunate but true that members of Congress, if they don’t have anyone calling them about an issue,\n",
        "#  assume that it’s unimportant and move on to the stuff that everyone’s yelling about. Which means that public goods don’t do well in Washington unless they happen to\n",
        "#  line up with some large company’s commercial interests. Net neutrality, like unlicensed spectrum, lowers the barrier to entry for new companies, and has found (somewhat)\n",
        "#  committed proponents as Google and Facebook increase the amounts of money they send back East. Earlier this year, Google cracked the top 10 in Washington in terms of\n",
        "#  dollars spent on lobbying. Facebook more than tripled its lobbying spend last year as well. (Although, these companies are only as benevolent as their own interests\n",
        "#  will allow them to be. On net neutrality, they line up on the same side as consumer groups. On privacy, they square off against them.) SEE ALSO: The New Lobbyists: Tech\n",
        "#  Takes Washington  This is the challenge that Ubiquiti, with its new network of WISPs, has to overcome. There are a lot of people in Washington who are paid to demand\n",
        "#  that the FCC free up more spectrum and license it to mobile phone carriers. They’ve been yelling about it for a while. So there’s little understanding in Congress\n",
        "#  that unlicensed spectrum can generate economic activity, too, even though no one owns exclusive access to it. In February, Yochai Benkler, a fellow at Harvard’s\n",
        "#  Berkman Center for Internet and Society, made a case for the potential of this market, pointing out that 87% of health-care wireless applications, for example,\n",
        "#  use unlicensed spectrum. Regulation hasn’t caught up with technology, Benkler argued. The FCC shouldn’t just be protecting unlicensed bands, but expanding them.\n",
        "#  Benkler’s academic ideas line up nicely with Ubiquiti’s financial interests, which gives the company a chance to champion what to Washington is still a new idea. I\n",
        "#  ask Foster what bands, in particular, he’s interested in lobbying the FCC to free up for unlicensed use. “We’re going to push for anything we can get our hands\n",
        "#  on” is his answer. The Ubiquiti World Network is going to hire a lobbyist, he says. “We’re a little bit green, but we have committed some money.” It will take a\n",
        "#  lot more than some. SEE ALSO: Steve Case's Second Life as D.C.'s Favorite Businessman  Image: Flickr, Trevor McGoldrick  Options Insight: VanEck Vectors Gold Miners\n",
        "#  ETF  How Concerned Are Investors Over Bank Earnings? Will Yellen Address Fed Rate Hike in Speech? Is U.K. Prime Minister Theresa May's Honeymoon Over?   This\n",
        "#  article originally published at Bloomberg here\n",
        "#  Topics: government, internet, internet service provider, lobbying, lobbyists, Mobile, Politics, Startups, U.S., World\n",
        "# -1\n"
      ],
      "metadata": {
        "colab": {
          "base_uri": "https://localhost:8080/"
        },
        "id": "4UmLdpGHG0cI",
        "outputId": "ceeee8a1-56d7-448e-8511-be2859a004fb"
      },
      "execution_count": null,
      "outputs": [
        {
          "output_type": "stream",
          "name": "stdout",
          "text": [
            " Brendan Greeley for Bloomberg 2013-11-21 18:00:42 UTC The Underdog Internet Providers Head to Washington “Kind of like a union?” I ask Craig Foster. “Eh, yeah,” he says, “except without the union part.” Foster, the CFO of Ubiquiti Networks, was in New York this week, in part to talk about the Ubiquiti World Network, a trade group that will bring together smaller wireless Internet service providers and give them what they really need: a lobbyist. Ubiquiti, whose chief executive officer, Robert Pera, was profiled in Bloomberg Businessweek earlier this year, makes hardware that sends Internet signals over long distances without wires. Your phone carrier does this, but Ubiquiti’s customers, unlike your phone carrier, use unlicensed spectrum. That is, they don’t have an exclusive license from the Federal Communications Commission to transmit. Instead, they send their signals over certain, limited frequencies that have been set aside for anyone to use. Ubiquiti has focused its engineering talent on strengthening signals, sending them through cluttered airwaves, and filtering signal from noise at the other end. This has created for them a large customer base in emerging markets, where there’s less capital to spare for expensive fiber-optic networks. It’s a market large enough that Pera has been able to buy the Memphis Grizzlies. But there are also places in America, mostly rural, where wired infrastructure is too expensive to build. And there are places in America, mostly urban, where wired Internet access is too expensive to pay for. SEE ALSO: How Important Is Spectrum in Your Life?  Foster estimates that between 3,500 and 5,000 wireless Internet service providers serve these markets. I went to a meeting of them last year; WISPs, as they call themselves, tend to be small, run by engineers who get a kick out of solving problems while hanging by a clip from the top of a tower. It’s an industry still small enough that it calls its annual national conference “WISPapalooza.” The companies that use licensed spectrum — like your cellphone carrier — have pull in Washington, both directly and through trade groups like the CTIA. They need to, because they can’t operate without the licenses that come from the FCC. The WISPs, thus far, have no pull, because all they’ve needed from Washington is unlicensed spectrum, a public good that Washington already provides. It’s unfortunate but true that members of Congress, if they don’t have anyone calling them about an issue, assume that it’s unimportant and move on to the stuff that everyone’s yelling about. Which means that public goods don’t do well in Washington unless they happen to line up with some large company’s commercial interests. Net neutrality, like unlicensed spectrum, lowers the barrier to entry for new companies, and has found (somewhat) committed proponents as Google and Facebook increase the amounts of money they send back East. Earlier this year, Google cracked the top 10 in Washington in terms of dollars spent on lobbying. Facebook more than tripled its lobbying spend last year as well. (Although, these companies are only as benevolent as their own interests will allow them to be. On net neutrality, they line up on the same side as consumer groups. On privacy, they square off against them.) SEE ALSO: The New Lobbyists: Tech Takes Washington  This is the challenge that Ubiquiti, with its new network of WISPs, has to overcome. There are a lot of people in Washington who are paid to demand that the FCC free up more spectrum and license it to mobile phone carriers. They’ve been yelling about it for a while. So there’s little understanding in Congress that unlicensed spectrum can generate economic activity, too, even though no one owns exclusive access to it. In February, Yochai Benkler, a fellow at Harvard’s Berkman Center for Internet and Society, made a case for the potential of this market, pointing out that 87% of health-care wireless applications, for example, use unlicensed spectrum. Regulation hasn’t caught up with technology, Benkler argued. The FCC shouldn’t just be protecting unlicensed bands, but expanding them. Benkler’s academic ideas line up nicely with Ubiquiti’s financial interests, which gives the company a chance to champion what to Washington is still a new idea. I ask Foster what bands, in particular, he’s interested in lobbying the FCC to free up for unlicensed use. “We’re going to push for anything we can get our hands on” is his answer. The Ubiquiti World Network is going to hire a lobbyist, he says. “We’re a little bit green, but we have committed some money.” It will take a lot more than some. SEE ALSO: Steve Case's Second Life as D.C.'s Favorite Businessman  Image: Flickr, Trevor McGoldrick  Options Insight: VanEck Vectors Gold Miners ETF  How Concerned Are Investors Over Bank Earnings? Will Yellen Address Fed Rate Hike in Speech? Is U.K. Prime Minister Theresa May's Honeymoon Over?   This article originally published at Bloomberg here   Topics: government, internet, internet service provider, lobbying, lobbyists, Mobile, Politics, Startups, U.S., World \n",
            "Popularity: -1\n"
          ]
        }
      ]
    },
    {
      "cell_type": "code",
      "source": [
        "# print(train0[:5])"
      ],
      "metadata": {
        "id": "N5tiSrv-ZbG2"
      },
      "execution_count": null,
      "outputs": []
    },
    {
      "cell_type": "code",
      "source": [
        "Z_train = train_R.iloc[:50]\n",
        "Z_valid = valid_R.iloc[:50]\n",
        "Z_test = test_R.iloc[:50]"
      ],
      "metadata": {
        "id": "AfrQ6vJabEKM"
      },
      "execution_count": null,
      "outputs": []
    },
    {
      "cell_type": "code",
      "source": [
        "train_R, valid_R = train_test_split(train_R, test_size=0.25, random_state=100)"
      ],
      "metadata": {
        "id": "7c7X-vdHIixh"
      },
      "execution_count": 7,
      "outputs": []
    },
    {
      "cell_type": "markdown",
      "source": [
        "Index(['Id', 'Popularity', 'Page content', 'Days', 'Time', 'Title', 'Content',\n",
        "       'N_word'],\n",
        "      dtype='object') \\\n",
        "Index(['Id', 'Page content', 'Days', 'Time', 'Title', 'Content', 'N_word'], dtype='object')"
      ],
      "metadata": {
        "id": "_fnz66z_hEkT"
      }
    },
    {
      "cell_type": "code",
      "source": [
        "train_numeric = train_R[['Days', 'Time', 'N_word']]\n",
        "train_alphabetic = train_R[['Title', 'Content']].to_numpy()\n",
        "y_train = train_R['Popularity'].to_numpy()\n",
        "\n",
        "valid_numeric = valid_R[['Days', 'Time', 'N_word']]\n",
        "valid_alphabetic = valid_R[['Title', 'Content']].to_numpy()\n",
        "y_valid = valid_R['Popularity'].to_numpy()\n",
        "\n",
        "test_numeric = test_R[['Days', 'Time', 'N_word']]\n",
        "test_alphabetic = test_R[['Title', 'Content']].to_numpy()"
      ],
      "metadata": {
        "id": "Z5RQ5dw8hU_g"
      },
      "execution_count": 8,
      "outputs": []
    },
    {
      "cell_type": "code",
      "source": [
        "print(train_alphabetic.shape)"
      ],
      "metadata": {
        "colab": {
          "base_uri": "https://localhost:8080/"
        },
        "id": "G8cpR6Iof4RO",
        "outputId": "7adef9ff-11a7-4104-9bc0-42dc225d1e09"
      },
      "execution_count": 10,
      "outputs": [
        {
          "output_type": "stream",
          "name": "stdout",
          "text": [
            "(20732, 2)\n"
          ]
        }
      ]
    },
    {
      "cell_type": "code",
      "source": [
        "std = StandardScaler()\n",
        "std.fit(train_numeric)\n",
        "\n",
        "train_numeric_std = std.transform(train_numeric)\n",
        "valid_numeric_std = std.transform(valid_numeric)\n",
        "test_numeric_std = std.transform(test_numeric)"
      ],
      "metadata": {
        "id": "aUx5gRqAkJp6"
      },
      "execution_count": 9,
      "outputs": []
    },
    {
      "cell_type": "code",
      "source": [
        "# pd.concat([valid_alphabetic, valid_numeric], axis =1)\n",
        "# np.concatenate((train_alphabetic.to_numpy(), train_numeric_std.to_numpy()), axis=1)[:5]"
      ],
      "metadata": {
        "id": "8MMHM70J1XIr"
      },
      "execution_count": null,
      "outputs": []
    },
    {
      "cell_type": "code",
      "source": [
        "# train_alphabetic.head(5)"
      ],
      "metadata": {
        "colab": {
          "base_uri": "https://localhost:8080/",
          "height": 206
        },
        "id": "M3rx4aSlAVLy",
        "outputId": "557fd19b-0c13-48d5-fc63-623514a90b94"
      },
      "execution_count": null,
      "outputs": [
        {
          "output_type": "execute_result",
          "data": {
            "text/plain": [
              "                                                   Title  \\\n",
              "26267  New Class of 'Easily Retrievable' Asteroids Di...   \n",
              "2246   History Buffs Discover Their Hidden Past in Ne...   \n",
              "18932  Cat Stevens Announces First U.S. Concert Tour ...   \n",
              "6310           Inside MoMA's Classic Video Games Exhibit   \n",
              "2375   10 countries with the most people living in mo...   \n",
              "\n",
              "                                                 Content  \n",
              "26267   Asteroids that pass close to Earth have becom...  \n",
              "2246     A lot of history happened before you came in...  \n",
              "18932   NEW YORK — New Rock and Roll Hall of Fame mem...  \n",
              "6310       MoMA: \"Applied Design\"        The Museum o...  \n",
              "2375    An estimated 35.8 million men, women and chil...  "
            ],
            "text/html": [
              "\n",
              "  <div id=\"df-48fcd318-0bc8-4e94-81ce-c4008e560d16\" class=\"colab-df-container\">\n",
              "    <div>\n",
              "<style scoped>\n",
              "    .dataframe tbody tr th:only-of-type {\n",
              "        vertical-align: middle;\n",
              "    }\n",
              "\n",
              "    .dataframe tbody tr th {\n",
              "        vertical-align: top;\n",
              "    }\n",
              "\n",
              "    .dataframe thead th {\n",
              "        text-align: right;\n",
              "    }\n",
              "</style>\n",
              "<table border=\"1\" class=\"dataframe\">\n",
              "  <thead>\n",
              "    <tr style=\"text-align: right;\">\n",
              "      <th></th>\n",
              "      <th>Title</th>\n",
              "      <th>Content</th>\n",
              "    </tr>\n",
              "  </thead>\n",
              "  <tbody>\n",
              "    <tr>\n",
              "      <th>26267</th>\n",
              "      <td>New Class of 'Easily Retrievable' Asteroids Di...</td>\n",
              "      <td>Asteroids that pass close to Earth have becom...</td>\n",
              "    </tr>\n",
              "    <tr>\n",
              "      <th>2246</th>\n",
              "      <td>History Buffs Discover Their Hidden Past in Ne...</td>\n",
              "      <td>A lot of history happened before you came in...</td>\n",
              "    </tr>\n",
              "    <tr>\n",
              "      <th>18932</th>\n",
              "      <td>Cat Stevens Announces First U.S. Concert Tour ...</td>\n",
              "      <td>NEW YORK — New Rock and Roll Hall of Fame mem...</td>\n",
              "    </tr>\n",
              "    <tr>\n",
              "      <th>6310</th>\n",
              "      <td>Inside MoMA's Classic Video Games Exhibit</td>\n",
              "      <td>MoMA: \"Applied Design\"        The Museum o...</td>\n",
              "    </tr>\n",
              "    <tr>\n",
              "      <th>2375</th>\n",
              "      <td>10 countries with the most people living in mo...</td>\n",
              "      <td>An estimated 35.8 million men, women and chil...</td>\n",
              "    </tr>\n",
              "  </tbody>\n",
              "</table>\n",
              "</div>\n",
              "    <div class=\"colab-df-buttons\">\n",
              "\n",
              "  <div class=\"colab-df-container\">\n",
              "    <button class=\"colab-df-convert\" onclick=\"convertToInteractive('df-48fcd318-0bc8-4e94-81ce-c4008e560d16')\"\n",
              "            title=\"Convert this dataframe to an interactive table.\"\n",
              "            style=\"display:none;\">\n",
              "\n",
              "  <svg xmlns=\"http://www.w3.org/2000/svg\" height=\"24px\" viewBox=\"0 -960 960 960\">\n",
              "    <path d=\"M120-120v-720h720v720H120Zm60-500h600v-160H180v160Zm220 220h160v-160H400v160Zm0 220h160v-160H400v160ZM180-400h160v-160H180v160Zm440 0h160v-160H620v160ZM180-180h160v-160H180v160Zm440 0h160v-160H620v160Z\"/>\n",
              "  </svg>\n",
              "    </button>\n",
              "\n",
              "  <style>\n",
              "    .colab-df-container {\n",
              "      display:flex;\n",
              "      gap: 12px;\n",
              "    }\n",
              "\n",
              "    .colab-df-convert {\n",
              "      background-color: #E8F0FE;\n",
              "      border: none;\n",
              "      border-radius: 50%;\n",
              "      cursor: pointer;\n",
              "      display: none;\n",
              "      fill: #1967D2;\n",
              "      height: 32px;\n",
              "      padding: 0 0 0 0;\n",
              "      width: 32px;\n",
              "    }\n",
              "\n",
              "    .colab-df-convert:hover {\n",
              "      background-color: #E2EBFA;\n",
              "      box-shadow: 0px 1px 2px rgba(60, 64, 67, 0.3), 0px 1px 3px 1px rgba(60, 64, 67, 0.15);\n",
              "      fill: #174EA6;\n",
              "    }\n",
              "\n",
              "    .colab-df-buttons div {\n",
              "      margin-bottom: 4px;\n",
              "    }\n",
              "\n",
              "    [theme=dark] .colab-df-convert {\n",
              "      background-color: #3B4455;\n",
              "      fill: #D2E3FC;\n",
              "    }\n",
              "\n",
              "    [theme=dark] .colab-df-convert:hover {\n",
              "      background-color: #434B5C;\n",
              "      box-shadow: 0px 1px 3px 1px rgba(0, 0, 0, 0.15);\n",
              "      filter: drop-shadow(0px 1px 2px rgba(0, 0, 0, 0.3));\n",
              "      fill: #FFFFFF;\n",
              "    }\n",
              "  </style>\n",
              "\n",
              "    <script>\n",
              "      const buttonEl =\n",
              "        document.querySelector('#df-48fcd318-0bc8-4e94-81ce-c4008e560d16 button.colab-df-convert');\n",
              "      buttonEl.style.display =\n",
              "        google.colab.kernel.accessAllowed ? 'block' : 'none';\n",
              "\n",
              "      async function convertToInteractive(key) {\n",
              "        const element = document.querySelector('#df-48fcd318-0bc8-4e94-81ce-c4008e560d16');\n",
              "        const dataTable =\n",
              "          await google.colab.kernel.invokeFunction('convertToInteractive',\n",
              "                                                    [key], {});\n",
              "        if (!dataTable) return;\n",
              "\n",
              "        const docLinkHtml = 'Like what you see? Visit the ' +\n",
              "          '<a target=\"_blank\" href=https://colab.research.google.com/notebooks/data_table.ipynb>data table notebook</a>'\n",
              "          + ' to learn more about interactive tables.';\n",
              "        element.innerHTML = '';\n",
              "        dataTable['output_type'] = 'display_data';\n",
              "        await google.colab.output.renderOutput(dataTable, element);\n",
              "        const docLink = document.createElement('div');\n",
              "        docLink.innerHTML = docLinkHtml;\n",
              "        element.appendChild(docLink);\n",
              "      }\n",
              "    </script>\n",
              "  </div>\n",
              "\n",
              "\n",
              "<div id=\"df-cffd7f56-71c0-4d42-af39-16388129e0b5\">\n",
              "  <button class=\"colab-df-quickchart\" onclick=\"quickchart('df-cffd7f56-71c0-4d42-af39-16388129e0b5')\"\n",
              "            title=\"Suggest charts.\"\n",
              "            style=\"display:none;\">\n",
              "\n",
              "<svg xmlns=\"http://www.w3.org/2000/svg\" height=\"24px\"viewBox=\"0 0 24 24\"\n",
              "     width=\"24px\">\n",
              "    <g>\n",
              "        <path d=\"M19 3H5c-1.1 0-2 .9-2 2v14c0 1.1.9 2 2 2h14c1.1 0 2-.9 2-2V5c0-1.1-.9-2-2-2zM9 17H7v-7h2v7zm4 0h-2V7h2v10zm4 0h-2v-4h2v4z\"/>\n",
              "    </g>\n",
              "</svg>\n",
              "  </button>\n",
              "\n",
              "<style>\n",
              "  .colab-df-quickchart {\n",
              "      --bg-color: #E8F0FE;\n",
              "      --fill-color: #1967D2;\n",
              "      --hover-bg-color: #E2EBFA;\n",
              "      --hover-fill-color: #174EA6;\n",
              "      --disabled-fill-color: #AAA;\n",
              "      --disabled-bg-color: #DDD;\n",
              "  }\n",
              "\n",
              "  [theme=dark] .colab-df-quickchart {\n",
              "      --bg-color: #3B4455;\n",
              "      --fill-color: #D2E3FC;\n",
              "      --hover-bg-color: #434B5C;\n",
              "      --hover-fill-color: #FFFFFF;\n",
              "      --disabled-bg-color: #3B4455;\n",
              "      --disabled-fill-color: #666;\n",
              "  }\n",
              "\n",
              "  .colab-df-quickchart {\n",
              "    background-color: var(--bg-color);\n",
              "    border: none;\n",
              "    border-radius: 50%;\n",
              "    cursor: pointer;\n",
              "    display: none;\n",
              "    fill: var(--fill-color);\n",
              "    height: 32px;\n",
              "    padding: 0;\n",
              "    width: 32px;\n",
              "  }\n",
              "\n",
              "  .colab-df-quickchart:hover {\n",
              "    background-color: var(--hover-bg-color);\n",
              "    box-shadow: 0 1px 2px rgba(60, 64, 67, 0.3), 0 1px 3px 1px rgba(60, 64, 67, 0.15);\n",
              "    fill: var(--button-hover-fill-color);\n",
              "  }\n",
              "\n",
              "  .colab-df-quickchart-complete:disabled,\n",
              "  .colab-df-quickchart-complete:disabled:hover {\n",
              "    background-color: var(--disabled-bg-color);\n",
              "    fill: var(--disabled-fill-color);\n",
              "    box-shadow: none;\n",
              "  }\n",
              "\n",
              "  .colab-df-spinner {\n",
              "    border: 2px solid var(--fill-color);\n",
              "    border-color: transparent;\n",
              "    border-bottom-color: var(--fill-color);\n",
              "    animation:\n",
              "      spin 1s steps(1) infinite;\n",
              "  }\n",
              "\n",
              "  @keyframes spin {\n",
              "    0% {\n",
              "      border-color: transparent;\n",
              "      border-bottom-color: var(--fill-color);\n",
              "      border-left-color: var(--fill-color);\n",
              "    }\n",
              "    20% {\n",
              "      border-color: transparent;\n",
              "      border-left-color: var(--fill-color);\n",
              "      border-top-color: var(--fill-color);\n",
              "    }\n",
              "    30% {\n",
              "      border-color: transparent;\n",
              "      border-left-color: var(--fill-color);\n",
              "      border-top-color: var(--fill-color);\n",
              "      border-right-color: var(--fill-color);\n",
              "    }\n",
              "    40% {\n",
              "      border-color: transparent;\n",
              "      border-right-color: var(--fill-color);\n",
              "      border-top-color: var(--fill-color);\n",
              "    }\n",
              "    60% {\n",
              "      border-color: transparent;\n",
              "      border-right-color: var(--fill-color);\n",
              "    }\n",
              "    80% {\n",
              "      border-color: transparent;\n",
              "      border-right-color: var(--fill-color);\n",
              "      border-bottom-color: var(--fill-color);\n",
              "    }\n",
              "    90% {\n",
              "      border-color: transparent;\n",
              "      border-bottom-color: var(--fill-color);\n",
              "    }\n",
              "  }\n",
              "</style>\n",
              "\n",
              "  <script>\n",
              "    async function quickchart(key) {\n",
              "      const quickchartButtonEl =\n",
              "        document.querySelector('#' + key + ' button');\n",
              "      quickchartButtonEl.disabled = true;  // To prevent multiple clicks.\n",
              "      quickchartButtonEl.classList.add('colab-df-spinner');\n",
              "      try {\n",
              "        const charts = await google.colab.kernel.invokeFunction(\n",
              "            'suggestCharts', [key], {});\n",
              "      } catch (error) {\n",
              "        console.error('Error during call to suggestCharts:', error);\n",
              "      }\n",
              "      quickchartButtonEl.classList.remove('colab-df-spinner');\n",
              "      quickchartButtonEl.classList.add('colab-df-quickchart-complete');\n",
              "    }\n",
              "    (() => {\n",
              "      let quickchartButtonEl =\n",
              "        document.querySelector('#df-cffd7f56-71c0-4d42-af39-16388129e0b5 button');\n",
              "      quickchartButtonEl.style.display =\n",
              "        google.colab.kernel.accessAllowed ? 'block' : 'none';\n",
              "    })();\n",
              "  </script>\n",
              "</div>\n",
              "    </div>\n",
              "  </div>\n"
            ]
          },
          "metadata": {},
          "execution_count": 140
        }
      ]
    },
    {
      "cell_type": "code",
      "source": [
        "tfidf_trans = TfidfVectorizer(ngram_range=(1,1),\n",
        "                            preprocessor=preprocess,\n",
        "                            tokenizer=tokenizer_stem_noStopWords)\n",
        "\n",
        "tfidf_trans.fit(train_R[\"Page content\"][:2])\n",
        "pd.DataFrame(tfidf_trans.transform(train_R[\"Page content\"].head()).toarray())"
      ],
      "metadata": {
        "colab": {
          "base_uri": "https://localhost:8080/",
          "height": 255
        },
        "id": "iy3ptuv6TcI6",
        "outputId": "f2a761dd-b9a3-413e-f7d6-0eeceb50630a"
      },
      "execution_count": null,
      "outputs": [
        {
          "output_type": "execute_result",
          "data": {
            "text/plain": [
              "       0        1         2        3         4        5        6         7    \\\n",
              "0  0.06488  0.03244  0.032440  0.03244  0.032440  0.03244  0.00000  0.032440   \n",
              "1  0.00000  0.00000  0.000000  0.00000  0.000000  0.00000  0.08522  0.000000   \n",
              "2  0.00000  0.00000  0.000000  0.00000  0.150839  0.00000  0.00000  0.150839   \n",
              "3  0.00000  0.00000  0.057255  0.00000  0.000000  0.00000  0.00000  0.000000   \n",
              "4  0.00000  0.00000  0.000000  0.00000  0.091841  0.00000  0.00000  0.000000   \n",
              "\n",
              "        8        9    ...      297      298       299       300      301  \\\n",
              "0  0.129760  0.03244  ...  0.00000  0.00000  0.023081  0.064880  0.00000   \n",
              "1  0.000000  0.00000  ...  0.08522  0.08522  0.060635  0.000000  0.08522   \n",
              "2  0.075419  0.00000  ...  0.00000  0.00000  0.107323  0.075419  0.00000   \n",
              "3  0.000000  0.00000  ...  0.00000  0.00000  0.000000  0.000000  0.00000   \n",
              "4  0.091841  0.00000  ...  0.00000  0.00000  0.130692  0.000000  0.00000   \n",
              "\n",
              "       302      303       304       305      306  \n",
              "0  0.03244  0.06488  0.129760  0.000000  0.03244  \n",
              "1  0.00000  0.00000  0.000000  0.255661  0.00000  \n",
              "2  0.00000  0.00000  0.075419  0.226258  0.00000  \n",
              "3  0.00000  0.00000  0.000000  0.057255  0.00000  \n",
              "4  0.00000  0.00000  0.000000  0.000000  0.00000  \n",
              "\n",
              "[5 rows x 307 columns]"
            ],
            "text/html": [
              "\n",
              "  <div id=\"df-aa60a9d5-73a6-4004-809b-8b8293e785b7\" class=\"colab-df-container\">\n",
              "    <div>\n",
              "<style scoped>\n",
              "    .dataframe tbody tr th:only-of-type {\n",
              "        vertical-align: middle;\n",
              "    }\n",
              "\n",
              "    .dataframe tbody tr th {\n",
              "        vertical-align: top;\n",
              "    }\n",
              "\n",
              "    .dataframe thead th {\n",
              "        text-align: right;\n",
              "    }\n",
              "</style>\n",
              "<table border=\"1\" class=\"dataframe\">\n",
              "  <thead>\n",
              "    <tr style=\"text-align: right;\">\n",
              "      <th></th>\n",
              "      <th>0</th>\n",
              "      <th>1</th>\n",
              "      <th>2</th>\n",
              "      <th>3</th>\n",
              "      <th>4</th>\n",
              "      <th>5</th>\n",
              "      <th>6</th>\n",
              "      <th>7</th>\n",
              "      <th>8</th>\n",
              "      <th>9</th>\n",
              "      <th>...</th>\n",
              "      <th>297</th>\n",
              "      <th>298</th>\n",
              "      <th>299</th>\n",
              "      <th>300</th>\n",
              "      <th>301</th>\n",
              "      <th>302</th>\n",
              "      <th>303</th>\n",
              "      <th>304</th>\n",
              "      <th>305</th>\n",
              "      <th>306</th>\n",
              "    </tr>\n",
              "  </thead>\n",
              "  <tbody>\n",
              "    <tr>\n",
              "      <th>0</th>\n",
              "      <td>0.06488</td>\n",
              "      <td>0.03244</td>\n",
              "      <td>0.032440</td>\n",
              "      <td>0.03244</td>\n",
              "      <td>0.032440</td>\n",
              "      <td>0.03244</td>\n",
              "      <td>0.00000</td>\n",
              "      <td>0.032440</td>\n",
              "      <td>0.129760</td>\n",
              "      <td>0.03244</td>\n",
              "      <td>...</td>\n",
              "      <td>0.00000</td>\n",
              "      <td>0.00000</td>\n",
              "      <td>0.023081</td>\n",
              "      <td>0.064880</td>\n",
              "      <td>0.00000</td>\n",
              "      <td>0.03244</td>\n",
              "      <td>0.06488</td>\n",
              "      <td>0.129760</td>\n",
              "      <td>0.000000</td>\n",
              "      <td>0.03244</td>\n",
              "    </tr>\n",
              "    <tr>\n",
              "      <th>1</th>\n",
              "      <td>0.00000</td>\n",
              "      <td>0.00000</td>\n",
              "      <td>0.000000</td>\n",
              "      <td>0.00000</td>\n",
              "      <td>0.000000</td>\n",
              "      <td>0.00000</td>\n",
              "      <td>0.08522</td>\n",
              "      <td>0.000000</td>\n",
              "      <td>0.000000</td>\n",
              "      <td>0.00000</td>\n",
              "      <td>...</td>\n",
              "      <td>0.08522</td>\n",
              "      <td>0.08522</td>\n",
              "      <td>0.060635</td>\n",
              "      <td>0.000000</td>\n",
              "      <td>0.08522</td>\n",
              "      <td>0.00000</td>\n",
              "      <td>0.00000</td>\n",
              "      <td>0.000000</td>\n",
              "      <td>0.255661</td>\n",
              "      <td>0.00000</td>\n",
              "    </tr>\n",
              "    <tr>\n",
              "      <th>2</th>\n",
              "      <td>0.00000</td>\n",
              "      <td>0.00000</td>\n",
              "      <td>0.000000</td>\n",
              "      <td>0.00000</td>\n",
              "      <td>0.150839</td>\n",
              "      <td>0.00000</td>\n",
              "      <td>0.00000</td>\n",
              "      <td>0.150839</td>\n",
              "      <td>0.075419</td>\n",
              "      <td>0.00000</td>\n",
              "      <td>...</td>\n",
              "      <td>0.00000</td>\n",
              "      <td>0.00000</td>\n",
              "      <td>0.107323</td>\n",
              "      <td>0.075419</td>\n",
              "      <td>0.00000</td>\n",
              "      <td>0.00000</td>\n",
              "      <td>0.00000</td>\n",
              "      <td>0.075419</td>\n",
              "      <td>0.226258</td>\n",
              "      <td>0.00000</td>\n",
              "    </tr>\n",
              "    <tr>\n",
              "      <th>3</th>\n",
              "      <td>0.00000</td>\n",
              "      <td>0.00000</td>\n",
              "      <td>0.057255</td>\n",
              "      <td>0.00000</td>\n",
              "      <td>0.000000</td>\n",
              "      <td>0.00000</td>\n",
              "      <td>0.00000</td>\n",
              "      <td>0.000000</td>\n",
              "      <td>0.000000</td>\n",
              "      <td>0.00000</td>\n",
              "      <td>...</td>\n",
              "      <td>0.00000</td>\n",
              "      <td>0.00000</td>\n",
              "      <td>0.000000</td>\n",
              "      <td>0.000000</td>\n",
              "      <td>0.00000</td>\n",
              "      <td>0.00000</td>\n",
              "      <td>0.00000</td>\n",
              "      <td>0.000000</td>\n",
              "      <td>0.057255</td>\n",
              "      <td>0.00000</td>\n",
              "    </tr>\n",
              "    <tr>\n",
              "      <th>4</th>\n",
              "      <td>0.00000</td>\n",
              "      <td>0.00000</td>\n",
              "      <td>0.000000</td>\n",
              "      <td>0.00000</td>\n",
              "      <td>0.091841</td>\n",
              "      <td>0.00000</td>\n",
              "      <td>0.00000</td>\n",
              "      <td>0.000000</td>\n",
              "      <td>0.091841</td>\n",
              "      <td>0.00000</td>\n",
              "      <td>...</td>\n",
              "      <td>0.00000</td>\n",
              "      <td>0.00000</td>\n",
              "      <td>0.130692</td>\n",
              "      <td>0.000000</td>\n",
              "      <td>0.00000</td>\n",
              "      <td>0.00000</td>\n",
              "      <td>0.00000</td>\n",
              "      <td>0.000000</td>\n",
              "      <td>0.000000</td>\n",
              "      <td>0.00000</td>\n",
              "    </tr>\n",
              "  </tbody>\n",
              "</table>\n",
              "<p>5 rows × 307 columns</p>\n",
              "</div>\n",
              "    <div class=\"colab-df-buttons\">\n",
              "\n",
              "  <div class=\"colab-df-container\">\n",
              "    <button class=\"colab-df-convert\" onclick=\"convertToInteractive('df-aa60a9d5-73a6-4004-809b-8b8293e785b7')\"\n",
              "            title=\"Convert this dataframe to an interactive table.\"\n",
              "            style=\"display:none;\">\n",
              "\n",
              "  <svg xmlns=\"http://www.w3.org/2000/svg\" height=\"24px\" viewBox=\"0 -960 960 960\">\n",
              "    <path d=\"M120-120v-720h720v720H120Zm60-500h600v-160H180v160Zm220 220h160v-160H400v160Zm0 220h160v-160H400v160ZM180-400h160v-160H180v160Zm440 0h160v-160H620v160ZM180-180h160v-160H180v160Zm440 0h160v-160H620v160Z\"/>\n",
              "  </svg>\n",
              "    </button>\n",
              "\n",
              "  <style>\n",
              "    .colab-df-container {\n",
              "      display:flex;\n",
              "      gap: 12px;\n",
              "    }\n",
              "\n",
              "    .colab-df-convert {\n",
              "      background-color: #E8F0FE;\n",
              "      border: none;\n",
              "      border-radius: 50%;\n",
              "      cursor: pointer;\n",
              "      display: none;\n",
              "      fill: #1967D2;\n",
              "      height: 32px;\n",
              "      padding: 0 0 0 0;\n",
              "      width: 32px;\n",
              "    }\n",
              "\n",
              "    .colab-df-convert:hover {\n",
              "      background-color: #E2EBFA;\n",
              "      box-shadow: 0px 1px 2px rgba(60, 64, 67, 0.3), 0px 1px 3px 1px rgba(60, 64, 67, 0.15);\n",
              "      fill: #174EA6;\n",
              "    }\n",
              "\n",
              "    .colab-df-buttons div {\n",
              "      margin-bottom: 4px;\n",
              "    }\n",
              "\n",
              "    [theme=dark] .colab-df-convert {\n",
              "      background-color: #3B4455;\n",
              "      fill: #D2E3FC;\n",
              "    }\n",
              "\n",
              "    [theme=dark] .colab-df-convert:hover {\n",
              "      background-color: #434B5C;\n",
              "      box-shadow: 0px 1px 3px 1px rgba(0, 0, 0, 0.15);\n",
              "      filter: drop-shadow(0px 1px 2px rgba(0, 0, 0, 0.3));\n",
              "      fill: #FFFFFF;\n",
              "    }\n",
              "  </style>\n",
              "\n",
              "    <script>\n",
              "      const buttonEl =\n",
              "        document.querySelector('#df-aa60a9d5-73a6-4004-809b-8b8293e785b7 button.colab-df-convert');\n",
              "      buttonEl.style.display =\n",
              "        google.colab.kernel.accessAllowed ? 'block' : 'none';\n",
              "\n",
              "      async function convertToInteractive(key) {\n",
              "        const element = document.querySelector('#df-aa60a9d5-73a6-4004-809b-8b8293e785b7');\n",
              "        const dataTable =\n",
              "          await google.colab.kernel.invokeFunction('convertToInteractive',\n",
              "                                                    [key], {});\n",
              "        if (!dataTable) return;\n",
              "\n",
              "        const docLinkHtml = 'Like what you see? Visit the ' +\n",
              "          '<a target=\"_blank\" href=https://colab.research.google.com/notebooks/data_table.ipynb>data table notebook</a>'\n",
              "          + ' to learn more about interactive tables.';\n",
              "        element.innerHTML = '';\n",
              "        dataTable['output_type'] = 'display_data';\n",
              "        await google.colab.output.renderOutput(dataTable, element);\n",
              "        const docLink = document.createElement('div');\n",
              "        docLink.innerHTML = docLinkHtml;\n",
              "        element.appendChild(docLink);\n",
              "      }\n",
              "    </script>\n",
              "  </div>\n",
              "\n",
              "\n",
              "<div id=\"df-fe023bfa-4869-4257-b46d-1a1314354f52\">\n",
              "  <button class=\"colab-df-quickchart\" onclick=\"quickchart('df-fe023bfa-4869-4257-b46d-1a1314354f52')\"\n",
              "            title=\"Suggest charts.\"\n",
              "            style=\"display:none;\">\n",
              "\n",
              "<svg xmlns=\"http://www.w3.org/2000/svg\" height=\"24px\"viewBox=\"0 0 24 24\"\n",
              "     width=\"24px\">\n",
              "    <g>\n",
              "        <path d=\"M19 3H5c-1.1 0-2 .9-2 2v14c0 1.1.9 2 2 2h14c1.1 0 2-.9 2-2V5c0-1.1-.9-2-2-2zM9 17H7v-7h2v7zm4 0h-2V7h2v10zm4 0h-2v-4h2v4z\"/>\n",
              "    </g>\n",
              "</svg>\n",
              "  </button>\n",
              "\n",
              "<style>\n",
              "  .colab-df-quickchart {\n",
              "      --bg-color: #E8F0FE;\n",
              "      --fill-color: #1967D2;\n",
              "      --hover-bg-color: #E2EBFA;\n",
              "      --hover-fill-color: #174EA6;\n",
              "      --disabled-fill-color: #AAA;\n",
              "      --disabled-bg-color: #DDD;\n",
              "  }\n",
              "\n",
              "  [theme=dark] .colab-df-quickchart {\n",
              "      --bg-color: #3B4455;\n",
              "      --fill-color: #D2E3FC;\n",
              "      --hover-bg-color: #434B5C;\n",
              "      --hover-fill-color: #FFFFFF;\n",
              "      --disabled-bg-color: #3B4455;\n",
              "      --disabled-fill-color: #666;\n",
              "  }\n",
              "\n",
              "  .colab-df-quickchart {\n",
              "    background-color: var(--bg-color);\n",
              "    border: none;\n",
              "    border-radius: 50%;\n",
              "    cursor: pointer;\n",
              "    display: none;\n",
              "    fill: var(--fill-color);\n",
              "    height: 32px;\n",
              "    padding: 0;\n",
              "    width: 32px;\n",
              "  }\n",
              "\n",
              "  .colab-df-quickchart:hover {\n",
              "    background-color: var(--hover-bg-color);\n",
              "    box-shadow: 0 1px 2px rgba(60, 64, 67, 0.3), 0 1px 3px 1px rgba(60, 64, 67, 0.15);\n",
              "    fill: var(--button-hover-fill-color);\n",
              "  }\n",
              "\n",
              "  .colab-df-quickchart-complete:disabled,\n",
              "  .colab-df-quickchart-complete:disabled:hover {\n",
              "    background-color: var(--disabled-bg-color);\n",
              "    fill: var(--disabled-fill-color);\n",
              "    box-shadow: none;\n",
              "  }\n",
              "\n",
              "  .colab-df-spinner {\n",
              "    border: 2px solid var(--fill-color);\n",
              "    border-color: transparent;\n",
              "    border-bottom-color: var(--fill-color);\n",
              "    animation:\n",
              "      spin 1s steps(1) infinite;\n",
              "  }\n",
              "\n",
              "  @keyframes spin {\n",
              "    0% {\n",
              "      border-color: transparent;\n",
              "      border-bottom-color: var(--fill-color);\n",
              "      border-left-color: var(--fill-color);\n",
              "    }\n",
              "    20% {\n",
              "      border-color: transparent;\n",
              "      border-left-color: var(--fill-color);\n",
              "      border-top-color: var(--fill-color);\n",
              "    }\n",
              "    30% {\n",
              "      border-color: transparent;\n",
              "      border-left-color: var(--fill-color);\n",
              "      border-top-color: var(--fill-color);\n",
              "      border-right-color: var(--fill-color);\n",
              "    }\n",
              "    40% {\n",
              "      border-color: transparent;\n",
              "      border-right-color: var(--fill-color);\n",
              "      border-top-color: var(--fill-color);\n",
              "    }\n",
              "    60% {\n",
              "      border-color: transparent;\n",
              "      border-right-color: var(--fill-color);\n",
              "    }\n",
              "    80% {\n",
              "      border-color: transparent;\n",
              "      border-right-color: var(--fill-color);\n",
              "      border-bottom-color: var(--fill-color);\n",
              "    }\n",
              "    90% {\n",
              "      border-color: transparent;\n",
              "      border-bottom-color: var(--fill-color);\n",
              "    }\n",
              "  }\n",
              "</style>\n",
              "\n",
              "  <script>\n",
              "    async function quickchart(key) {\n",
              "      const quickchartButtonEl =\n",
              "        document.querySelector('#' + key + ' button');\n",
              "      quickchartButtonEl.disabled = true;  // To prevent multiple clicks.\n",
              "      quickchartButtonEl.classList.add('colab-df-spinner');\n",
              "      try {\n",
              "        const charts = await google.colab.kernel.invokeFunction(\n",
              "            'suggestCharts', [key], {});\n",
              "      } catch (error) {\n",
              "        console.error('Error during call to suggestCharts:', error);\n",
              "      }\n",
              "      quickchartButtonEl.classList.remove('colab-df-spinner');\n",
              "      quickchartButtonEl.classList.add('colab-df-quickchart-complete');\n",
              "    }\n",
              "    (() => {\n",
              "      let quickchartButtonEl =\n",
              "        document.querySelector('#df-fe023bfa-4869-4257-b46d-1a1314354f52 button');\n",
              "      quickchartButtonEl.style.display =\n",
              "        google.colab.kernel.accessAllowed ? 'block' : 'none';\n",
              "    })();\n",
              "  </script>\n",
              "</div>\n",
              "    </div>\n",
              "  </div>\n"
            ]
          },
          "metadata": {},
          "execution_count": 170
        }
      ]
    },
    {
      "cell_type": "code",
      "source": [
        "tfidf_trans = TfidfVectorizer(ngram_range=(1,1),\n",
        "                            preprocessor=preprocess,\n",
        "                            tokenizer=tokenizer_stem_noStopWords)\n",
        "\n",
        "hashvec0 = HashingVectorizer(n_features=2**10,\n",
        "                            tokenizer=tokenizer_stem_noStopWords)\n",
        "hashvec1 = HashingVectorizer(n_features=2**10,\n",
        "                            tokenizer=tokenizer_stem_noStopWords)\n",
        "\n",
        "hashvec0.fit(train_alphabetic[:, 0])\n",
        "train_R_preprocessed0 = hashvec0.transform(train_alphabetic[:, 0]).toarray()\n",
        "\n",
        "\n",
        "hashvec1.fit(train_alphabetic[:, 1])\n",
        "train_R_preprocessed1 = hashvec1.transform(train_alphabetic[:, 1]).toarray()\n",
        "\n",
        "# pipe1 = Pipeline([('vect', TfidfVectorizer(ngram_range=(1,1),\n",
        "#                         preprocessor=preprocess,\n",
        "#                         tokenizer=tokenizer_stem_noStopWords)), ('clf', LogisticRegression(solver='liblinear'))])\n",
        "\n",
        "# pipe2 = Pipeline([('vect', TfidfVectorizer(ngram_range=(1,1),\n",
        "#                         preprocessor=preprocess,\n",
        "#                         tokenizer=tokenizer_stem_noStopWords))])\n",
        "\n",
        "# text_preprocessor = ColumnTransformer([('tfidf1', TfidfVectorizer(ngram_range=(1,1),\n",
        "#                                             preprocessor=preprocess,\n",
        "#                                             tokenizer=tokenizer_stem_noStopWords), ['Title']),\n",
        "#                                        ('tfidf2', TfidfVectorizer(ngram_range=(1,1),\n",
        "#                                             preprocessor=preprocess,\n",
        "#                                             tokenizer=tokenizer_stem_noStopWords), ['Content'])\n",
        "#                                        ], remainder='passthrough')\n",
        "\n",
        "# text_preprocessor.fit(train_alphabetic)\n",
        "# temp = text_preprocessor.transform(train_alphabetic)\n",
        "\n",
        "# print(pd.DataFrame(temp, columns=text_preprocessor.get_feature_names_out()))\n",
        "# train_processed = np.concatenate((text_preprocessor.fit_transform(train_alphabetic), train_numeric_std.to_numpy()), axis=1)\n",
        "\n",
        "\n",
        "# rf.fit(train_processed)\n",
        "\n",
        "# scores = cross_val_score(estimator=pipe1, X=Z_train['Page content'], y=Z_train['Popularity'],\n",
        "#                          cv=10, scoring='roc_auc')\n",
        "\n",
        "# ['Days', 'Time', 'N_word']\n",
        "# tfidf_trans.fit(train_R[\"Page content\"].to_numpy())\n",
        "# train_R_preprocessed = tfidf_trans.transform(train_R[\"Page content\"]).toarray()\n",
        "# train_R_preprocessed['Days'] = train_R['Days']\n",
        "# train_R_preprocessed['Time'] = train_R['Time']\n",
        "# train_R_preprocessed['N_word'] = train_R['N_word']\n",
        "# train_R_preprocessed = train_R_preprocessed.rename(str, axis=\"columns\")\n",
        "\n",
        "# valid_R_preprocessed = tfidf_trans.transform(valid_R[\"Page content\"]).toarray()\n",
        "# valid_R_preprocessed['Days'] = valid_R['Days']\n",
        "# valid_R_preprocessed['Time'] = valid_R['Time']\n",
        "# valid_R_preprocessed['N_word'] = valid_R['N_word']\n",
        "# valid_R_preprocessed = valid_R_preprocessed.rename(str, axis=\"columns\")\n",
        "\n",
        "# # pipe2.fit(train_R['Page content'], train_R[\"Popularity\"])\n",
        "# rf.fit(train_R_preprocessed, train_R['Popularity'])\n",
        "# scores1 = roc_auc_score(train_R[\"Popularity\"], rf.predict_proba(train_R_preprocessed))\n",
        "# scores2 = roc_auc_score(valid_R[\"Popularity\"], rf.predict_proba(valid_R_preprocessed))\n",
        "\n",
        "# # scores1 = pipe1.score(valid_R['Page content'], valid_R[\"Popularity\"])\n",
        "# # scores2 = pipe1.score(train_R['Page content'], train_R[\"Popularity\"])\n",
        "\n",
        "# # valid_R_pred = pipe1.predict(valid_R['Page content'])\n",
        "# # print(valid_R_pred[:10], '---', valid_R.iloc[:10, 1])\n",
        "\n",
        "\n",
        "# print(f\"scores1: {scores1}\")\n",
        "# print(f\"scores2: {scores2}\")\n",
        "# # print(scores.mean())\n",
        "# # print(scores.std())"
      ],
      "metadata": {
        "id": "G-AMo8QchqOU"
      },
      "execution_count": 10,
      "outputs": []
    },
    {
      "cell_type": "code",
      "source": [
        "# train_R_preprocessed = tfidf_trans.transform(train_R[\"Page content\"]).toarray()\n",
        "# valid_R_preprocessed = tfidf_trans.transform(valid_R[\"Page content\"]).toarray()\n"
      ],
      "metadata": {
        "id": "sWMbCbkvbQ5-"
      },
      "execution_count": 15,
      "outputs": []
    },
    {
      "cell_type": "code",
      "source": [
        "# train_R_preprocessed['Days'] = train_R['Days']\n",
        "# train_R_preprocessed['Time'] = train_R['Time']\n",
        "# train_R_preprocessed['N_word'] = train_R['N_word']\n",
        "\n",
        "# valid_R_preprocessed['Days'] = valid_R['Days']\n",
        "# valid_R_preprocessed['Time'] = valid_R['Time']\n",
        "# valid_R_preprocessed['N_word'] = valid_R['N_word']"
      ],
      "metadata": {
        "id": "MVjKn0fwbzcm"
      },
      "execution_count": null,
      "outputs": []
    },
    {
      "cell_type": "code",
      "source": [
        "train_R_preprocessed0"
      ],
      "metadata": {
        "colab": {
          "base_uri": "https://localhost:8080/"
        },
        "id": "wngoAQ5PnKe-",
        "outputId": "6b1fc7e5-96ca-4050-e874-3df4b5104c4d"
      },
      "execution_count": 13,
      "outputs": [
        {
          "output_type": "execute_result",
          "data": {
            "text/plain": [
              "array([[0., 0., 0., ..., 0., 0., 0.],\n",
              "       [0., 0., 0., ..., 0., 0., 0.],\n",
              "       [0., 0., 0., ..., 0., 0., 0.],\n",
              "       ...,\n",
              "       [0., 0., 0., ..., 0., 0., 0.],\n",
              "       [0., 0., 0., ..., 0., 0., 0.],\n",
              "       [0., 0., 0., ..., 0., 0., 0.]])"
            ]
          },
          "metadata": {},
          "execution_count": 13
        }
      ]
    },
    {
      "cell_type": "code",
      "source": [
        "valid_R_preprocessed0 = hashvec0.transform(valid_alphabetic[:, 0]).toarray()\n",
        "valid_R_preprocessed1 = hashvec1.transform(valid_alphabetic[:, 1]).toarray()"
      ],
      "metadata": {
        "id": "ZfztbyreoWQi"
      },
      "execution_count": 11,
      "outputs": []
    },
    {
      "cell_type": "code",
      "source": [
        "train_R_preprocessed = np.concatenate((train_R_preprocessed0, train_R_preprocessed1, train_numeric_std), axis=1)\n",
        "valid_R_preprocessed = np.concatenate((valid_R_preprocessed0, valid_R_preprocessed1, valid_numeric_std), axis=1)"
      ],
      "metadata": {
        "id": "4m85MRQ1cyu2"
      },
      "execution_count": 14,
      "outputs": []
    },
    {
      "cell_type": "code",
      "source": [
        "# train_R_preprocessed = train_R_preprocessed.rename(str, axis=\"columns\")\n",
        "# valid_R_preprocessed = valid_R_preprocessed.rename(str, axis=\"columns\")\n",
        "\n",
        "# train_R_temp = train_R_preprocessed['0'][:].toarray()"
      ],
      "metadata": {
        "id": "TyStREhDR1lA"
      },
      "execution_count": null,
      "outputs": []
    },
    {
      "cell_type": "code",
      "source": [
        "print(valid_R_preprocessed)\n",
        "print(valid_numeric_std)"
      ],
      "metadata": {
        "colab": {
          "base_uri": "https://localhost:8080/"
        },
        "id": "RzcvbNagq4cO",
        "outputId": "a68ad641-8fb5-4b94-e6d4-d6e28ada4542"
      },
      "execution_count": 17,
      "outputs": [
        {
          "output_type": "stream",
          "name": "stdout",
          "text": [
            "[[ 0.          0.          0.         ...  0.89458274  1.16357761\n",
            "  -0.97430135]\n",
            " [ 0.          0.          0.         ... -0.25476745  0.89387165\n",
            "  -0.91454607]\n",
            " [ 0.          0.          0.         ...  1.46925783 -1.66145237\n",
            "  -0.47191434]\n",
            " ...\n",
            " [ 0.          0.          0.         ...  0.89458274  1.39560809\n",
            "   0.32924909]\n",
            " [ 0.          0.          0.         ...  2.04393293  0.3903672\n",
            "   0.80729135]\n",
            " [ 0.          0.          0.         ...  0.31990764 -1.9248861\n",
            "  -0.15764581]]\n",
            "[[ 0.89458274  1.16357761 -0.97430135]\n",
            " [-0.25476745  0.89387165 -0.91454607]\n",
            " [ 1.46925783 -1.66145237 -0.47191434]\n",
            " ...\n",
            " [ 0.89458274  1.39560809  0.32924909]\n",
            " [ 2.04393293  0.3903672   0.80729135]\n",
            " [ 0.31990764 -1.9248861  -0.15764581]]\n"
          ]
        }
      ]
    },
    {
      "cell_type": "code",
      "source": [
        "rf = RandomForestClassifier(max_depth=5)\n",
        "\n",
        "rf.fit(train_R_preprocessed, y_train)\n",
        "scores1 = roc_auc_score(y_train, rf.predict(train_R_preprocessed))\n",
        "scores2 = roc_auc_score(y_valid, rf.predict(valid_R_preprocessed))\n",
        "\n",
        "# scores1 = pipe1.score(valid_R['Page content'], valid_R[\"Popularity\"])\n",
        "# scores2 = pipe1.score(train_R['Page content'], train_R[\"Popularity\"])\n",
        "\n",
        "# valid_R_pred = pipe1.predict(valid_R['Page content'])\n",
        "# print(valid_R_pred[:10], '---', valid_R.iloc[:10, 1])\n",
        "\n",
        "\n",
        "print(f\"scores1: {scores1}\")\n",
        "print(f\"scores2: {scores2}\")\n",
        "# print(scores.mean())\n",
        "# print(scores.std())"
      ],
      "metadata": {
        "id": "W6vqDu-0MDni",
        "colab": {
          "base_uri": "https://localhost:8080/"
        },
        "outputId": "01b2119b-733a-4b73-f91b-13686f242750"
      },
      "execution_count": 18,
      "outputs": [
        {
          "output_type": "stream",
          "name": "stdout",
          "text": [
            "scores1: 0.6452339839189981\n",
            "scores2: 0.5357681973896193\n"
          ]
        }
      ]
    },
    {
      "cell_type": "code",
      "source": [
        "rf11 = RandomForestClassifier(max_depth=5)\n",
        "rf22 = RandomForestClassifier(max_depth=5)\n",
        "rf33 = RandomForestClassifier(max_depth=5)\n",
        "\n",
        "# tfidf_trans1 = TfidfVectorizer(ngram_range=(1,1),\n",
        "#                               tokenizer=tokenizer_stem_noStopWords)\n",
        "# tfidf_trans2 = TfidfVectorizer(ngram_range=(1,1),\n",
        "#                               tokenizer=tokenizer_stem_noStopWords)\n",
        "\n",
        "# tfidf_trans1.fit(train_alphabetic[0])\n",
        "# tfidf_trans2.fit(train_alphabetic[1])\n",
        "# train_alphabetic1 = tfidf_trans1.transform(train_alphabetic[0]).toarray()\n",
        "# train_alphabetic2 = tfidf_trans2.transform(train_alphabetic[1]).toarray()\n",
        "\n",
        "# valid_alphabetic1 = tfidf_trans1.transform(valid_alphabetic[0]).toarray()\n",
        "# valid_alphabetic2 = tfidf_trans2.transform(valid_alphabetic[1]).toarray()\n",
        "# train_numeric_std\n",
        "\n",
        "rf11.fit(train_R_preprocessed0, y_train)\n",
        "rf22.fit(train_R_preprocessed1, y_train)\n",
        "rf33.fit(train_numeric_std, y_train)\n",
        "\n",
        "train_pred1 = rf11.predict(train_R_preprocessed0)\n",
        "train_pred2 = rf22.predict(train_R_preprocessed1)\n",
        "train_pred3 = rf33.predict(train_numeric_std)\n",
        "\n",
        "valid_pred1 = rf11.predict(valid_R_preprocessed0)\n",
        "valid_pred2 = rf22.predict(valid_R_preprocessed1)\n",
        "valid_pred3 = rf33.predict(valid_numeric_std)\n",
        "\n",
        "\n",
        "train_prediction = []\n",
        "for i in range(train_pred1.shape[0]):\n",
        "    pred = 0\n",
        "    # np = 0\n",
        "    pred += 1 if train_pred1[i]==1 else -1\n",
        "    pred += 1 if train_pred2[i]==1 else -1\n",
        "    pred += 1 if train_pred3[i]==1 else -1\n",
        "    train_prediction.append(1 if pred > 0 else -1)\n",
        "\n",
        "scores1 = roc_auc_score(y_train, train_prediction)\n",
        "print(f\"scores1: {scores1}\")\n",
        "\n",
        "valid_prediction = []\n",
        "for i in range(valid_pred1.shape[0]):\n",
        "    pred = 0\n",
        "    # np = 0\n",
        "    pred += 1 if valid_pred1[i]==1 else -1\n",
        "    pred += 1 if valid_pred2[i]==1 else -1\n",
        "    pred += 1 if valid_pred3[i]==1 else -1\n",
        "    valid_prediction.append(1 if pred > 0 else -1)\n",
        "\n",
        "scores2 = roc_auc_score(y_valid, valid_prediction)\n",
        "print(f\"scores2: {scores2}\")\n"
      ],
      "metadata": {
        "id": "eBxzI_MUGdP5",
        "colab": {
          "base_uri": "https://localhost:8080/"
        },
        "outputId": "d9f806cf-bc4d-4327-8226-36bb695c2295"
      },
      "execution_count": 19,
      "outputs": [
        {
          "output_type": "stream",
          "name": "stdout",
          "text": [
            "scores1: 0.5979363465153764\n",
            "scores2: 0.5198769875479529\n"
          ]
        }
      ]
    },
    {
      "cell_type": "code",
      "source": [
        "scores1 = pipe1.score(valid_R['Page content'], valid_R[\"Popularity\"])\n",
        "scores2 = pipe1.score(train_R['Page content'], train_R[\"Popularity\"])\n",
        "\n",
        "valid_R_pred = pipe1.predict(valid_R['Page content'])\n",
        "print(valid_R_pred[:10], '---', valid_R.iloc[:10, 1])\n",
        "\n",
        "\n",
        "print(f\"scores1: {scores1}\")\n",
        "print(f\"scores2: {scores2}\")"
      ],
      "metadata": {
        "colab": {
          "base_uri": "https://localhost:8080/"
        },
        "id": "BisFLrjZ3Iil",
        "outputId": "2d5c583e-5e72-400c-c05b-00e6e6ab2c21"
      },
      "execution_count": null,
      "outputs": [
        {
          "output_type": "stream",
          "name": "stdout",
          "text": [
            "[-1  1 -1 -1 -1 -1 -1 -1 -1  1] --- 8000   -1\n",
            "8001   -1\n",
            "8002   -1\n",
            "8003    1\n",
            "8004   -1\n",
            "8005    1\n",
            "8006   -1\n",
            "8007   -1\n",
            "8008   -1\n",
            "8009   -1\n",
            "Name: Popularity, dtype: int64\n",
            "scores1: 0.526752532708853\n",
            "scores2: 0.981\n"
          ]
        }
      ]
    },
    {
      "cell_type": "markdown",
      "source": [
        "### Result\n",
        "\n",
        "predict the testing data and save it as csv file"
      ],
      "metadata": {
        "id": "F38MZGSlzvFR"
      }
    },
    {
      "cell_type": "code",
      "source": [
        "test_R_preprocessed0 = hashvec0.transform(test_alphabetic[:, 0]).toarray()\n",
        "test_R_preprocessed1 = hashvec1.transform(test_alphabetic[:, 1]).toarray()\n",
        "\n",
        "# test_R_preprocessed = np.concatenate((test_R_preprocessed0, test_R_preprocessed1, test_numeric_std), axis=1)"
      ],
      "metadata": {
        "id": "CKBz0nnIZ4De"
      },
      "execution_count": 23,
      "outputs": []
    },
    {
      "cell_type": "code",
      "source": [
        "type(test_numeric_std)"
      ],
      "metadata": {
        "colab": {
          "base_uri": "https://localhost:8080/"
        },
        "id": "jS88QMqztyYF",
        "outputId": "d935d762-ecb9-456b-bbed-8adff143afc2"
      },
      "execution_count": 26,
      "outputs": [
        {
          "output_type": "execute_result",
          "data": {
            "text/plain": [
              "numpy.ndarray"
            ]
          },
          "metadata": {},
          "execution_count": 26
        }
      ]
    },
    {
      "cell_type": "code",
      "source": [
        "test_R_preprocessed = np.concatenate((test_R_preprocessed0, test_R_preprocessed1, test_numeric_std), axis=1)"
      ],
      "metadata": {
        "id": "mvHLgqgyttrt"
      },
      "execution_count": 29,
      "outputs": []
    },
    {
      "cell_type": "code",
      "source": [
        "test_R_pred = rf.predict_proba(test_R_preprocessed)"
      ],
      "metadata": {
        "id": "xJVf9VslstpI"
      },
      "execution_count": 37,
      "outputs": []
    },
    {
      "cell_type": "code",
      "source": [
        "test_R_pred = pipe1.predict(test_R['Page content'])\n"
      ],
      "metadata": {
        "id": "x9Pm_-NFz9VZ"
      },
      "execution_count": null,
      "outputs": []
    },
    {
      "cell_type": "code",
      "source": [
        "print(test_R_pred[:10])"
      ],
      "metadata": {
        "id": "vud6sXLj1maa",
        "colab": {
          "base_uri": "https://localhost:8080/"
        },
        "outputId": "5da46686-0f6f-4aab-912b-da783439fafd"
      },
      "execution_count": 40,
      "outputs": [
        {
          "output_type": "stream",
          "name": "stdout",
          "text": [
            "[[0.5034019  0.4965981 ]\n",
            " [0.50125111 0.49874889]\n",
            " [0.52102301 0.47897699]\n",
            " [0.51003137 0.48996863]\n",
            " [0.50929964 0.49070036]\n",
            " [0.51109247 0.48890753]\n",
            " [0.48830523 0.51169477]\n",
            " [0.49570734 0.50429266]\n",
            " [0.48548335 0.51451665]\n",
            " [0.50843542 0.49156458]]\n"
          ]
        }
      ]
    },
    {
      "cell_type": "code",
      "source": [
        "df = pd.DataFrame(test_R_pred[:, 1], columns=[\"Popularity\"])\n",
        "df[\"Id\"] = test_R['Id']\n",
        "df = df.iloc[:, [1, 0]]\n",
        "df.head(10)"
      ],
      "metadata": {
        "colab": {
          "base_uri": "https://localhost:8080/",
          "height": 363
        },
        "id": "FObBNMvt4BrM",
        "outputId": "d48fe500-f1c2-4ed5-b81a-3eeb11e8a4b0"
      },
      "execution_count": 41,
      "outputs": [
        {
          "output_type": "execute_result",
          "data": {
            "text/plain": [
              "      Id  Popularity\n",
              "0  27643    0.496598\n",
              "1  27644    0.498749\n",
              "2  27645    0.478977\n",
              "3  27646    0.489969\n",
              "4  27647    0.490700\n",
              "5  27648    0.488908\n",
              "6  27649    0.511695\n",
              "7  27650    0.504293\n",
              "8  27651    0.514517\n",
              "9  27652    0.491565"
            ],
            "text/html": [
              "\n",
              "  <div id=\"df-96ff53ea-c2b5-4f41-a059-ed1ff7fc48ae\" class=\"colab-df-container\">\n",
              "    <div>\n",
              "<style scoped>\n",
              "    .dataframe tbody tr th:only-of-type {\n",
              "        vertical-align: middle;\n",
              "    }\n",
              "\n",
              "    .dataframe tbody tr th {\n",
              "        vertical-align: top;\n",
              "    }\n",
              "\n",
              "    .dataframe thead th {\n",
              "        text-align: right;\n",
              "    }\n",
              "</style>\n",
              "<table border=\"1\" class=\"dataframe\">\n",
              "  <thead>\n",
              "    <tr style=\"text-align: right;\">\n",
              "      <th></th>\n",
              "      <th>Id</th>\n",
              "      <th>Popularity</th>\n",
              "    </tr>\n",
              "  </thead>\n",
              "  <tbody>\n",
              "    <tr>\n",
              "      <th>0</th>\n",
              "      <td>27643</td>\n",
              "      <td>0.496598</td>\n",
              "    </tr>\n",
              "    <tr>\n",
              "      <th>1</th>\n",
              "      <td>27644</td>\n",
              "      <td>0.498749</td>\n",
              "    </tr>\n",
              "    <tr>\n",
              "      <th>2</th>\n",
              "      <td>27645</td>\n",
              "      <td>0.478977</td>\n",
              "    </tr>\n",
              "    <tr>\n",
              "      <th>3</th>\n",
              "      <td>27646</td>\n",
              "      <td>0.489969</td>\n",
              "    </tr>\n",
              "    <tr>\n",
              "      <th>4</th>\n",
              "      <td>27647</td>\n",
              "      <td>0.490700</td>\n",
              "    </tr>\n",
              "    <tr>\n",
              "      <th>5</th>\n",
              "      <td>27648</td>\n",
              "      <td>0.488908</td>\n",
              "    </tr>\n",
              "    <tr>\n",
              "      <th>6</th>\n",
              "      <td>27649</td>\n",
              "      <td>0.511695</td>\n",
              "    </tr>\n",
              "    <tr>\n",
              "      <th>7</th>\n",
              "      <td>27650</td>\n",
              "      <td>0.504293</td>\n",
              "    </tr>\n",
              "    <tr>\n",
              "      <th>8</th>\n",
              "      <td>27651</td>\n",
              "      <td>0.514517</td>\n",
              "    </tr>\n",
              "    <tr>\n",
              "      <th>9</th>\n",
              "      <td>27652</td>\n",
              "      <td>0.491565</td>\n",
              "    </tr>\n",
              "  </tbody>\n",
              "</table>\n",
              "</div>\n",
              "    <div class=\"colab-df-buttons\">\n",
              "\n",
              "  <div class=\"colab-df-container\">\n",
              "    <button class=\"colab-df-convert\" onclick=\"convertToInteractive('df-96ff53ea-c2b5-4f41-a059-ed1ff7fc48ae')\"\n",
              "            title=\"Convert this dataframe to an interactive table.\"\n",
              "            style=\"display:none;\">\n",
              "\n",
              "  <svg xmlns=\"http://www.w3.org/2000/svg\" height=\"24px\" viewBox=\"0 -960 960 960\">\n",
              "    <path d=\"M120-120v-720h720v720H120Zm60-500h600v-160H180v160Zm220 220h160v-160H400v160Zm0 220h160v-160H400v160ZM180-400h160v-160H180v160Zm440 0h160v-160H620v160ZM180-180h160v-160H180v160Zm440 0h160v-160H620v160Z\"/>\n",
              "  </svg>\n",
              "    </button>\n",
              "\n",
              "  <style>\n",
              "    .colab-df-container {\n",
              "      display:flex;\n",
              "      gap: 12px;\n",
              "    }\n",
              "\n",
              "    .colab-df-convert {\n",
              "      background-color: #E8F0FE;\n",
              "      border: none;\n",
              "      border-radius: 50%;\n",
              "      cursor: pointer;\n",
              "      display: none;\n",
              "      fill: #1967D2;\n",
              "      height: 32px;\n",
              "      padding: 0 0 0 0;\n",
              "      width: 32px;\n",
              "    }\n",
              "\n",
              "    .colab-df-convert:hover {\n",
              "      background-color: #E2EBFA;\n",
              "      box-shadow: 0px 1px 2px rgba(60, 64, 67, 0.3), 0px 1px 3px 1px rgba(60, 64, 67, 0.15);\n",
              "      fill: #174EA6;\n",
              "    }\n",
              "\n",
              "    .colab-df-buttons div {\n",
              "      margin-bottom: 4px;\n",
              "    }\n",
              "\n",
              "    [theme=dark] .colab-df-convert {\n",
              "      background-color: #3B4455;\n",
              "      fill: #D2E3FC;\n",
              "    }\n",
              "\n",
              "    [theme=dark] .colab-df-convert:hover {\n",
              "      background-color: #434B5C;\n",
              "      box-shadow: 0px 1px 3px 1px rgba(0, 0, 0, 0.15);\n",
              "      filter: drop-shadow(0px 1px 2px rgba(0, 0, 0, 0.3));\n",
              "      fill: #FFFFFF;\n",
              "    }\n",
              "  </style>\n",
              "\n",
              "    <script>\n",
              "      const buttonEl =\n",
              "        document.querySelector('#df-96ff53ea-c2b5-4f41-a059-ed1ff7fc48ae button.colab-df-convert');\n",
              "      buttonEl.style.display =\n",
              "        google.colab.kernel.accessAllowed ? 'block' : 'none';\n",
              "\n",
              "      async function convertToInteractive(key) {\n",
              "        const element = document.querySelector('#df-96ff53ea-c2b5-4f41-a059-ed1ff7fc48ae');\n",
              "        const dataTable =\n",
              "          await google.colab.kernel.invokeFunction('convertToInteractive',\n",
              "                                                    [key], {});\n",
              "        if (!dataTable) return;\n",
              "\n",
              "        const docLinkHtml = 'Like what you see? Visit the ' +\n",
              "          '<a target=\"_blank\" href=https://colab.research.google.com/notebooks/data_table.ipynb>data table notebook</a>'\n",
              "          + ' to learn more about interactive tables.';\n",
              "        element.innerHTML = '';\n",
              "        dataTable['output_type'] = 'display_data';\n",
              "        await google.colab.output.renderOutput(dataTable, element);\n",
              "        const docLink = document.createElement('div');\n",
              "        docLink.innerHTML = docLinkHtml;\n",
              "        element.appendChild(docLink);\n",
              "      }\n",
              "    </script>\n",
              "  </div>\n",
              "\n",
              "\n",
              "<div id=\"df-6dd45864-95e6-403d-9dfd-2d9bb5dafc4e\">\n",
              "  <button class=\"colab-df-quickchart\" onclick=\"quickchart('df-6dd45864-95e6-403d-9dfd-2d9bb5dafc4e')\"\n",
              "            title=\"Suggest charts.\"\n",
              "            style=\"display:none;\">\n",
              "\n",
              "<svg xmlns=\"http://www.w3.org/2000/svg\" height=\"24px\"viewBox=\"0 0 24 24\"\n",
              "     width=\"24px\">\n",
              "    <g>\n",
              "        <path d=\"M19 3H5c-1.1 0-2 .9-2 2v14c0 1.1.9 2 2 2h14c1.1 0 2-.9 2-2V5c0-1.1-.9-2-2-2zM9 17H7v-7h2v7zm4 0h-2V7h2v10zm4 0h-2v-4h2v4z\"/>\n",
              "    </g>\n",
              "</svg>\n",
              "  </button>\n",
              "\n",
              "<style>\n",
              "  .colab-df-quickchart {\n",
              "      --bg-color: #E8F0FE;\n",
              "      --fill-color: #1967D2;\n",
              "      --hover-bg-color: #E2EBFA;\n",
              "      --hover-fill-color: #174EA6;\n",
              "      --disabled-fill-color: #AAA;\n",
              "      --disabled-bg-color: #DDD;\n",
              "  }\n",
              "\n",
              "  [theme=dark] .colab-df-quickchart {\n",
              "      --bg-color: #3B4455;\n",
              "      --fill-color: #D2E3FC;\n",
              "      --hover-bg-color: #434B5C;\n",
              "      --hover-fill-color: #FFFFFF;\n",
              "      --disabled-bg-color: #3B4455;\n",
              "      --disabled-fill-color: #666;\n",
              "  }\n",
              "\n",
              "  .colab-df-quickchart {\n",
              "    background-color: var(--bg-color);\n",
              "    border: none;\n",
              "    border-radius: 50%;\n",
              "    cursor: pointer;\n",
              "    display: none;\n",
              "    fill: var(--fill-color);\n",
              "    height: 32px;\n",
              "    padding: 0;\n",
              "    width: 32px;\n",
              "  }\n",
              "\n",
              "  .colab-df-quickchart:hover {\n",
              "    background-color: var(--hover-bg-color);\n",
              "    box-shadow: 0 1px 2px rgba(60, 64, 67, 0.3), 0 1px 3px 1px rgba(60, 64, 67, 0.15);\n",
              "    fill: var(--button-hover-fill-color);\n",
              "  }\n",
              "\n",
              "  .colab-df-quickchart-complete:disabled,\n",
              "  .colab-df-quickchart-complete:disabled:hover {\n",
              "    background-color: var(--disabled-bg-color);\n",
              "    fill: var(--disabled-fill-color);\n",
              "    box-shadow: none;\n",
              "  }\n",
              "\n",
              "  .colab-df-spinner {\n",
              "    border: 2px solid var(--fill-color);\n",
              "    border-color: transparent;\n",
              "    border-bottom-color: var(--fill-color);\n",
              "    animation:\n",
              "      spin 1s steps(1) infinite;\n",
              "  }\n",
              "\n",
              "  @keyframes spin {\n",
              "    0% {\n",
              "      border-color: transparent;\n",
              "      border-bottom-color: var(--fill-color);\n",
              "      border-left-color: var(--fill-color);\n",
              "    }\n",
              "    20% {\n",
              "      border-color: transparent;\n",
              "      border-left-color: var(--fill-color);\n",
              "      border-top-color: var(--fill-color);\n",
              "    }\n",
              "    30% {\n",
              "      border-color: transparent;\n",
              "      border-left-color: var(--fill-color);\n",
              "      border-top-color: var(--fill-color);\n",
              "      border-right-color: var(--fill-color);\n",
              "    }\n",
              "    40% {\n",
              "      border-color: transparent;\n",
              "      border-right-color: var(--fill-color);\n",
              "      border-top-color: var(--fill-color);\n",
              "    }\n",
              "    60% {\n",
              "      border-color: transparent;\n",
              "      border-right-color: var(--fill-color);\n",
              "    }\n",
              "    80% {\n",
              "      border-color: transparent;\n",
              "      border-right-color: var(--fill-color);\n",
              "      border-bottom-color: var(--fill-color);\n",
              "    }\n",
              "    90% {\n",
              "      border-color: transparent;\n",
              "      border-bottom-color: var(--fill-color);\n",
              "    }\n",
              "  }\n",
              "</style>\n",
              "\n",
              "  <script>\n",
              "    async function quickchart(key) {\n",
              "      const quickchartButtonEl =\n",
              "        document.querySelector('#' + key + ' button');\n",
              "      quickchartButtonEl.disabled = true;  // To prevent multiple clicks.\n",
              "      quickchartButtonEl.classList.add('colab-df-spinner');\n",
              "      try {\n",
              "        const charts = await google.colab.kernel.invokeFunction(\n",
              "            'suggestCharts', [key], {});\n",
              "      } catch (error) {\n",
              "        console.error('Error during call to suggestCharts:', error);\n",
              "      }\n",
              "      quickchartButtonEl.classList.remove('colab-df-spinner');\n",
              "      quickchartButtonEl.classList.add('colab-df-quickchart-complete');\n",
              "    }\n",
              "    (() => {\n",
              "      let quickchartButtonEl =\n",
              "        document.querySelector('#df-6dd45864-95e6-403d-9dfd-2d9bb5dafc4e button');\n",
              "      quickchartButtonEl.style.display =\n",
              "        google.colab.kernel.accessAllowed ? 'block' : 'none';\n",
              "    })();\n",
              "  </script>\n",
              "</div>\n",
              "    </div>\n",
              "  </div>\n"
            ]
          },
          "metadata": {},
          "execution_count": 41
        }
      ]
    },
    {
      "cell_type": "code",
      "source": [
        "# df = pd.DataFrame(data=test_R_pred.reshape(test_R_pred.shape[0], 1), columns=['Popularity'])\n",
        "df.to_csv('./prediction4.csv', index=False)"
      ],
      "metadata": {
        "id": "79EZsxY31ocR"
      },
      "execution_count": 42,
      "outputs": []
    },
    {
      "cell_type": "code",
      "source": [
        "def get_stream(data, size):\n",
        "    for chunk in data\n",
        "        yield chunk"
      ],
      "metadata": {
        "id": "fWtQNRvDkC6N"
      },
      "execution_count": null,
      "outputs": []
    },
    {
      "cell_type": "code",
      "source": [
        "\n",
        "hashvec = HashingVectorizer(n_features=2**20,\n",
        "                            preprocessor=preprocessor, tokenizer=tokenizer_stem_nostop)\n",
        "# loss='log' gives logistic regression\n",
        "clf = SGDClassifier(loss='log', max_iter=100, tol=1e-3)\n",
        "batch_size = 1000\n",
        "stream = get_stream(path='./dataset/sentiment/train.csv', size=batch_size)\n",
        "classes = np.array([0, 1])\n",
        "train_auc, val_auc = [], []\n",
        "# we use one batch for training and another for validation in each iteration\n",
        "iters = int((25000+batch_size-1)/(batch_size*2))\n",
        "for i in range(iters):\n",
        "    batch = next(stream)\n",
        "    X_train, y_train = batch['review'], batch['sentiment']\n",
        "    if X_train is None:\n",
        "        break\n",
        "    X_train = hashvec.transform(X_train)\n",
        "    clf.partial_fit(X_train, y_train, classes=classes)\n",
        "    train_auc.append(roc_auc_score(y_train, clf.predict_proba(X_train)[:,1]))\n",
        "\n",
        "    # validate\n",
        "    batch = next(stream)\n",
        "    X_val, y_val = batch['review'], batch['sentiment']\n",
        "    score = roc_auc_score(y_val, clf.predict_proba(hashvec.transform(X_val))[:,1])\n",
        "    val_auc.append(score)\n",
        "    print('[{}/{}] {}'.format((i+1)*(batch_size*2), 25000, score))"
      ],
      "metadata": {
        "id": "8-GcMSE8kS-m"
      },
      "execution_count": null,
      "outputs": []
    },
    {
      "cell_type": "markdown",
      "source": [
        "## History"
      ],
      "metadata": {
        "id": "oiwVI6y9Zv4O"
      }
    }
  ],
  "metadata": {
    "language_info": {
      "name": "python"
    },
    "colab": {
      "provenance": [],
      "gpuType": "T4"
    },
    "kernelspec": {
      "name": "python3",
      "display_name": "Python 3"
    }
  },
  "nbformat": 4,
  "nbformat_minor": 0
}