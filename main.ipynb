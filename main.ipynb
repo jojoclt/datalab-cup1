{
  "cells": [
    {
      "cell_type": "markdown",
      "metadata": {
        "id": "zikGSIva1vrn"
      },
      "source": [
        "# DataLab Cup 1\n",
        "[Kaggle](https://www.kaggle.com/competitions/2023-datalab-cup1-predicting-news-popularity/data)"
      ]
    },
    {
      "cell_type": "code",
      "execution_count": 1,
      "metadata": {
        "colab": {
          "base_uri": "https://localhost:8080/"
        },
        "id": "XqqJmseM1_EZ",
        "outputId": "7993c751-de45-48d5-c317-cfbc1c5b424b"
      },
      "outputs": [
        {
          "name": "stdout",
          "output_type": "stream",
          "text": [
            "Mounted at /content/drive\n"
          ]
        }
      ],
      "source": [
        "from google.colab import drive\n",
        "drive.mount('/content/drive')"
      ]
    },
    {
      "cell_type": "code",
      "execution_count": 2,
      "metadata": {
        "colab": {
          "base_uri": "https://localhost:8080/"
        },
        "id": "qL1LlRD51vrs",
        "outputId": "d79f9650-3d29-4ad8-d3d5-0b8781239e95"
      },
      "outputs": [
        {
          "name": "stderr",
          "output_type": "stream",
          "text": [
            "[nltk_data] Downloading package stopwords to /root/nltk_data...\n",
            "[nltk_data]   Unzipping corpora/stopwords.zip.\n"
          ]
        }
      ],
      "source": [
        "import pandas as pd\n",
        "import nltk\n",
        "from nltk.corpus import stopwords\n",
        "from nltk.stem.porter import PorterStemmer\n",
        "from pylab import *\n",
        "from sklearn.model_selection import train_test_split, learning_curve, cross_val_score\n",
        "from sklearn.preprocessing import StandardScaler, PolynomialFeatures, LabelBinarizer\n",
        "from sklearn.linear_model import Ridge, Lasso, LinearRegression, LogisticRegression, Perceptron, SGDClassifier\n",
        "from sklearn.feature_selection import RFE, SelectKBest\n",
        "from sklearn.metrics import mean_squared_error as MSE, r2_score, f1_score, roc_auc_score\n",
        "from sklearn.feature_extraction.text import TfidfVectorizer, CountVectorizer, HashingVectorizer\n",
        "from sklearn.pipeline import Pipeline\n",
        "\n",
        "import warnings\n",
        "warnings.filterwarnings(\"ignore\")\n",
        "\n",
        "from bs4 import BeautifulSoup as BSoup\n",
        "\n",
        "nltk.download('stopwords')\n",
        "stopWords = stopwords.words('english')\n"
      ]
    },
    {
      "cell_type": "code",
      "execution_count": 3,
      "metadata": {
        "id": "QWtt2tbl3W-B"
      },
      "outputs": [],
      "source": [
        "train_R = pd.read_csv('/content/drive/MyDrive/deep learn/comp1/train.csv')\n",
        "test_R = pd.read_csv('/content/drive/MyDrive/deep learn/comp1/test.csv')"
      ]
    },
    {
      "cell_type": "code",
      "execution_count": 4,
      "metadata": {
        "id": "R1VObVsVbds1"
      },
      "outputs": [],
      "source": [
        "valid_R = train_R[8000:]\n",
        "train_R = train_R[:8000]"
      ]
    },
    {
      "cell_type": "code",
      "execution_count": 5,
      "metadata": {
        "colab": {
          "base_uri": "https://localhost:8080/"
        },
        "id": "sIx8Ro4P4FAf",
        "outputId": "787fa30c-f31c-410e-e17a-0ac515ac4ec1"
      },
      "outputs": [
        {
          "name": "stdout",
          "output_type": "stream",
          "text": [
            "(8000, 3)\n",
            "(11847, 2)\n",
            "   Id  Popularity                                       Page content\n",
            "0   0          -1  <html><head><div class=\"article-info\"> <span c...\n",
            "1   1           1  <html><head><div class=\"article-info\"><span cl...\n",
            "2   2           1  <html><head><div class=\"article-info\"><span cl...\n",
            "3   3          -1  <html><head><div class=\"article-info\"><span cl...\n",
            "4   4          -1  <html><head><div class=\"article-info\"><span cl...\n",
            "      Id                                       Page content\n",
            "0  27643  <html><head><div class=\"article-info\"><span cl...\n",
            "1  27644  <html><head><div class=\"article-info\"><span cl...\n",
            "2  27645  <html><head><div class=\"article-info\"><span cl...\n",
            "3  27646  <html><head><div class=\"article-info\"><span cl...\n",
            "4  27647  <html><head><div class=\"article-info\"><span cl...\n",
            "   Id  Popularity                                       Page content\n",
            "0   0          -1  <html><head><div class=\"article-info\"> <span c...\n",
            "1   1           1  <html><head><div class=\"article-info\"><span cl...\n",
            "2   2           1  <html><head><div class=\"article-info\"><span cl...\n",
            "3   3          -1  <html><head><div class=\"article-info\"><span cl...\n",
            "4   4          -1  <html><head><div class=\"article-info\"><span cl...\n"
          ]
        }
      ],
      "source": [
        "print(train_R.shape)\n",
        "print(test_R.shape)\n",
        "print(train_R.head())\n",
        "print(test_R.head())\n",
        "print(train_R[:5])"
      ]
    },
    {
      "cell_type": "code",
      "execution_count": 6,
      "metadata": {
        "colab": {
          "base_uri": "https://localhost:8080/"
        },
        "id": "HpmXLJ-JZ8yG",
        "outputId": "0a041abc-afc9-4e69-9003-656f4dfa96c2"
      },
      "outputs": [
        {
          "name": "stdout",
          "output_type": "stream",
          "text": [
            "0    <html><head><div class=\"article-info\"> <span c...\n",
            "1    <html><head><div class=\"article-info\"><span cl...\n",
            "2    <html><head><div class=\"article-info\"><span cl...\n",
            "Name: Page content, dtype: object\n"
          ]
        }
      ],
      "source": [
        "print(train_R.iloc[:3, 2])"
      ]
    },
    {
      "cell_type": "code",
      "execution_count": null,
      "metadata": {
        "id": "LCN0kysZmGrG"
      },
      "outputs": [],
      "source": [
        "# html tag V\n",
        "# emoticons V\n",
        "# link: Space.com\n",
        "# date : 2013-06-19\n",
        "# time: 15:04:30 UTC\n",
        "# topic: Topics: Asteroid, Asteroids, challenge, Earth, Space, U.S., World\n",
        "# lengths\n",
        "\n",
        "def preprocess(text):\n",
        "    text = BSoup(text, 'html.parser').get_text()\n",
        "\n",
        "    reg = '(?::|;|=|X)(?:-)?(?:\\)|\\(|D|P)'\n",
        "    emo = re.findall(reg, text)\n",
        "    text = re.sub(reg, '', text)\n",
        "\n",
        "    text = re.sub('[\\W]+', \" \", text.lower()) + \" \" + ' '.join(emo).replace('-', '')\n",
        "    return text\n",
        "\n",
        "def tokenizer(text):\n",
        "    return re.split('\\s+', text.strip())\n",
        "\n",
        "def tokenizer_stem_noStopWords(text):\n",
        "    porter = PorterStemmer()\n",
        "    return [porter.stem(w) for w in re.split('\\s+', text.strip())\n",
        "            if w not in stopWords and re.match('[a-zA-Z]+', w)]"
      ]
    },
    {
      "cell_type": "code",
      "execution_count": null,
      "metadata": {
        "colab": {
          "base_uri": "https://localhost:8080/"
        },
        "id": "PKGNs0Re6ZND",
        "outputId": "eedcae73-5e9c-4bad-a9b4-f2afec4626bd"
      },
      "outputs": [
        {
          "name": "stdout",
          "output_type": "stream",
          "text": [
            "['clara', 'moskowitz', 'for', 'space', 'com', '2013', '06', '19', '15', '04', '30', 'utc', 'nasa', 's', 'grand', 'challenge', 'stop', 'asteroids', 'from', 'destroying', 'earth', 'there', 'may', 'be', 'killer', 'asteroids', 'headed', 'for', 'earth', 'and', 'nasa', 'has', 'decided', 'to', 'do', 'something', 'about', 'it', 'the', 'space', 'agency', 'announced', 'a', 'new', 'grand', 'challenge', 'on', 'june', '18', 'to', 'find', 'all', 'dangerous', 'space', 'rocks', 'and', 'figure', 'out', 'how', 'to', 'stop', 'them', 'from', 'destroying', 'our', 'planet', 'the', 'new', 'mission', 'builds', 'on', 'projects', 'already', 'underway', 'at', 'nasa', 'including', 'a', 'plan', 'to', 'capture', 'an', 'asteroid', 'pull', 'it', 'in', 'toward', 'the', 'moon', 'and', 'send', 'astronauts', 'to', 'visit', 'it', 'as', 'part', 'of', 'the', 'grand', 'challenge', 'the', 'agency', 'issued', 'a', 'request', 'for', 'information', 'today', 'aiming', 'to', 'solicit', 'ideas', 'from', 'industry', 'academia', 'and', 'the', 'public', 'on', 'how', 'to', 'improve', 'the', 'asteroid', 'mission', 'plan', 'we', 're', 'asking', 'for', 'you', 'to', 'think', 'about', 'concepts', 'and', 'different', 'approaches', 'for', 'what', 'we', 've', 'described', 'here', 'william', 'gerstenmaier', 'nasa', 's', 'associate', 'administrator', 'for', 'human', 'explorations', 'and', 'operations', 'said', 'yesterday', 'during', 'a', 'nasa', 'event', 'announcing', 'the', 'initiative', 'we', 'want', 'you', 'to', 'think', 'about', 'other', 'ways', 'of', 'enhancing', 'this', 'to', 'get', 'the', 'most', 'out', 'of', 'it', 'see', 'also', 'how', 'it', 'works', 'nasa', 'asteroid', 'captureresponses', 'to', 'the', 'request', 'for', 'information', 'which', 'also', 'seeks', 'ideas', 'for', 'detecting', 'and', 'mitigating', 'asteroid', 'threats', 'are', 'due', 'july', '18', 'the', 'asteroid', 'retrieval', 'mission', 'designed', 'to', 'provide', 'the', 'first', 'deep', 'space', 'mission', 'for', 'astronauts', 'flying', 'on', 'nasa', 's', 'space', 'launch', 'system', 'rocket', 'and', 'orion', 'space', 'capsule', 'under', 'development', 'has', 'come', 'under', 'fire', 'from', 'lawmakers', 'who', 'would', 'prefer', 'that', 'nasa', 'return', 'to', 'the', 'moon', 'a', 'draft', 'nasa', 'authorization', 'bill', 'from', 'the', 'house', 'space', 'subcommittee', 'which', 'is', 'currently', 'in', 'debate', 'would', 'cancel', 'the', 'mission', 'and', 'steer', 'the', 'agency', 'toward', 'other', 'projects', 'that', 'bill', 'will', 'be', 'discussed', 'during', 'a', 'hearing', 'wednesday', 'june', '19', 'at', '10', 'a', 'm', 'edt', 'see', 'also', 'how', 'it', 'works', 'nasa', 'asteroid', 'capture', 'mission', 'in', 'picturesbut', 'nasa', 'officials', 'defended', 'the', 'asteroid', 'mission', 'today', 'and', 'said', 'they', 'were', 'confident', 'they', 'd', 'win', 'congress', 'support', 'once', 'they', 'explained', 'its', 'benefits', 'further', 'i', 'think', 'that', 'we', 'really', 'truly', 'are', 'going', 'to', 'be', 'able', 'to', 'show', 'the', 'value', 'of', 'the', 'mission', 'nasa', 'associate', 'administrator', 'lori', 'garver', 'said', 'today', 'to', 'me', 'this', 'is', 'something', 'that', 'what', 'we', 'do', 'in', 'this', 'country', 'we', 'debate', 'how', 'we', 'spend', 'the', 'public', 's', 'money', 'this', 'is', 'the', 'beginning', 'of', 'the', 'debate', 'garver', 'also', 'maintained', 'that', 'sending', 'astronauts', 'to', 'an', 'asteroid', 'would', 'not', 'diminish', 'nasa', 's', 'other', 'science', 'and', 'exploration', 'goals', 'including', 'another', 'lunar', 'landing', 'see', 'also', 'animation', 'of', 'proposed', 'asteroid', 'retrieval', 'mission', 'this', 'initiative', 'takes', 'nothing', 'from', 'the', 'other', 'valuable', 'work', 'she', 'said', 'this', 'is', 'only', 'a', 'small', 'piece', 'of', 'our', 'overall', 'strategy', 'but', 'it', 'is', 'an', 'integral', 'piece', 'it', 'takes', 'nothing', 'from', 'the', 'moon', 'part', 'of', 'nasa', 's', 'plan', 'to', 'win', 'support', 'for', 'the', 'flight', 'is', 'to', 'link', 'it', 'more', 'closely', 'with', 'the', 'larger', 'goal', 'of', 'protecting', 'earth', 'from', 'asteroid', 'threats', 'if', 'someday', 'humanity', 'discovers', 'an', 'asteroid', 'headed', 'for', 'earth', 'and', 'manages', 'to', 'alter', 'its', 'course', 'it', 'will', 'be', 'one', 'of', 'the', 'most', 'important', 'accomplishments', 'in', 'human', 'history', 'said', 'tom', 'kalil', 'deputy', 'director', 'for', 'technology', 'and', 'innovation', 'at', 'the', 'white', 'house', 'office', 'of', 'science', 'and', 'technology', 'policy', 'see', 'also', 'wildest', 'private', 'deep', 'space', 'mission', 'ideas', 'a', 'countdownthe', 'topic', 'of', 'asteroid', 'threats', 'is', 'more', 'timely', 'than', 'ever', 'after', 'a', 'meteor', 'exploded', 'over', 'the', 'russian', 'city', 'of', 'chelyabinsk', 'on', 'feb', '15', 'the', 'same', 'day', 'that', 'the', 'football', 'field', 'sized', 'asteroid', '2012', 'da14', 'passed', 'within', 'the', 'moon', 's', 'orbit', 'of', 'earth', 'image', 'courtesy', 'of', 'nasa', 'spacex', 's', 'musk', 'says', 'sabotage', 'unlikely', 'cause', 'of', 'sept', '1', 'explosion', 'but', 'still', 'a', 'worry', 'proxima', 'centauri', 'is', 'like', 'our', 'sun', 'on', 'steroids', 'china', 'launches', 'shenzhou', '11', 'astronauts', 'to', 'tiangong', '2', 'space', 'lab', 'space', 'station', 'mockup', 'in', 'houston', 'astronaut', 'guided', 'tour', 'video', 'this', 'article', 'originally', 'published', 'at', 'space', 'com', 'here', 'topics', 'asteroid', 'asteroids', 'challenge', 'earth', 'space', 'u', 's', 'world']\n"
          ]
        }
      ],
      "source": [
        "print(tokenizer(preprocess(train_R.iloc[0, 2])))"
      ]
    },
    {
      "cell_type": "code",
      "execution_count": null,
      "metadata": {
        "id": "1poIXqnt4OQu"
      },
      "outputs": [],
      "source": [
        "# train0 = train_R.to_numpy()\n",
        "# test0 = test_R.to_numpy()"
      ]
    },
    {
      "cell_type": "code",
      "execution_count": null,
      "metadata": {
        "id": "N5tiSrv-ZbG2"
      },
      "outputs": [],
      "source": [
        "# print(train0[:5])"
      ]
    },
    {
      "cell_type": "code",
      "execution_count": null,
      "metadata": {
        "id": "AfrQ6vJabEKM"
      },
      "outputs": [],
      "source": [
        "Z_train = train_R.iloc[:50]\n",
        "Z_valid = valid_R.iloc[:50]\n",
        "Z_test = test_R.iloc[:50]"
      ]
    },
    {
      "cell_type": "code",
      "execution_count": null,
      "metadata": {
        "colab": {
          "base_uri": "https://localhost:8080/"
        },
        "id": "G-AMo8QchqOU",
        "outputId": "0ad2b679-380a-43e8-8df6-11c9b517a53d"
      },
      "outputs": [
        {
          "name": "stdout",
          "output_type": "stream",
          "text": [
            "[-1  1  1 -1  1 -1 -1 -1 -1  1] --- 8000   -1\n",
            "8001   -1\n",
            "8002   -1\n",
            "8003    1\n",
            "8004   -1\n",
            "8005    1\n",
            "8006   -1\n",
            "8007   -1\n",
            "8008   -1\n",
            "8009   -1\n",
            "Name: Popularity, dtype: int64\n",
            "0.5248689100442906\n"
          ]
        }
      ],
      "source": [
        "pipe1 = Pipeline([('vect', TfidfVectorizer(ngram_range=(1,1),\n",
        "                        preprocessor=preprocess,\n",
        "                        tokenizer=tokenizer_stem_noStopWords)), ('clf', LogisticRegression(solver='liblinear'))])\n",
        "\n",
        "# scores = cross_val_score(estimator=pipe1, X=Z_train['Page content'], y=Z_train['Popularity'],\n",
        "#                          cv=10, scoring='roc_auc')\n",
        "\n",
        "pipe1.fit(train_R['Page content'], train_R[\"Popularity\"])\n",
        "scores = pipe1.score(valid_R['Page content'], valid_R[\"Popularity\"])\n",
        "valid_R_pred = pipe1.predict(valid_R['Page content'])\n",
        "print(valid_R_pred[:10], '---', valid_R.iloc[:10, 1])\n",
        "\n",
        "\n",
        "print(scores)\n",
        "# print(scores.mean())\n",
        "# print(scores.std())"
      ]
    },
    {
      "cell_type": "markdown",
      "metadata": {
        "id": "F38MZGSlzvFR"
      },
      "source": [
        "### Result\n",
        "\n",
        "predict the testing data and save it as csv file"
      ]
    },
    {
      "cell_type": "code",
      "execution_count": null,
      "metadata": {
        "id": "x9Pm_-NFz9VZ"
      },
      "outputs": [],
      "source": [
        "test_R_pred = pipe1.predict(test_R['Page content'])\n"
      ]
    },
    {
      "cell_type": "code",
      "execution_count": null,
      "metadata": {
        "id": "vud6sXLj1maa"
      },
      "outputs": [],
      "source": [
        "print(test_R_pred[:10], '---\\n', test_R.iloc[:10])"
      ]
    },
    {
      "cell_type": "code",
      "execution_count": null,
      "metadata": {
        "colab": {
          "base_uri": "https://localhost:8080/",
          "height": 206
        },
        "id": "FObBNMvt4BrM",
        "outputId": "f660adf8-8e77-4a7f-bfbb-37f94e8753a1"
      },
      "outputs": [
        {
          "data": {
            "text/html": [
              "\n",
              "  <div id=\"df-8cbbdb22-da55-4d13-ac34-b85226527cc7\" class=\"colab-df-container\">\n",
              "    <div>\n",
              "<style scoped>\n",
              "    .dataframe tbody tr th:only-of-type {\n",
              "        vertical-align: middle;\n",
              "    }\n",
              "\n",
              "    .dataframe tbody tr th {\n",
              "        vertical-align: top;\n",
              "    }\n",
              "\n",
              "    .dataframe thead th {\n",
              "        text-align: right;\n",
              "    }\n",
              "</style>\n",
              "<table border=\"1\" class=\"dataframe\">\n",
              "  <thead>\n",
              "    <tr style=\"text-align: right;\">\n",
              "      <th></th>\n",
              "      <th>Id</th>\n",
              "      <th>Popularity</th>\n",
              "    </tr>\n",
              "  </thead>\n",
              "  <tbody>\n",
              "    <tr>\n",
              "      <th>0</th>\n",
              "      <td>27643</td>\n",
              "      <td>1</td>\n",
              "    </tr>\n",
              "    <tr>\n",
              "      <th>1</th>\n",
              "      <td>27644</td>\n",
              "      <td>1</td>\n",
              "    </tr>\n",
              "    <tr>\n",
              "      <th>2</th>\n",
              "      <td>27645</td>\n",
              "      <td>-1</td>\n",
              "    </tr>\n",
              "    <tr>\n",
              "      <th>3</th>\n",
              "      <td>27646</td>\n",
              "      <td>-1</td>\n",
              "    </tr>\n",
              "    <tr>\n",
              "      <th>4</th>\n",
              "      <td>27647</td>\n",
              "      <td>-1</td>\n",
              "    </tr>\n",
              "  </tbody>\n",
              "</table>\n",
              "</div>\n",
              "    <div class=\"colab-df-buttons\">\n",
              "\n",
              "  <div class=\"colab-df-container\">\n",
              "    <button class=\"colab-df-convert\" onclick=\"convertToInteractive('df-8cbbdb22-da55-4d13-ac34-b85226527cc7')\"\n",
              "            title=\"Convert this dataframe to an interactive table.\"\n",
              "            style=\"display:none;\">\n",
              "\n",
              "  <svg xmlns=\"http://www.w3.org/2000/svg\" height=\"24px\" viewBox=\"0 -960 960 960\">\n",
              "    <path d=\"M120-120v-720h720v720H120Zm60-500h600v-160H180v160Zm220 220h160v-160H400v160Zm0 220h160v-160H400v160ZM180-400h160v-160H180v160Zm440 0h160v-160H620v160ZM180-180h160v-160H180v160Zm440 0h160v-160H620v160Z\"/>\n",
              "  </svg>\n",
              "    </button>\n",
              "\n",
              "  <style>\n",
              "    .colab-df-container {\n",
              "      display:flex;\n",
              "      gap: 12px;\n",
              "    }\n",
              "\n",
              "    .colab-df-convert {\n",
              "      background-color: #E8F0FE;\n",
              "      border: none;\n",
              "      border-radius: 50%;\n",
              "      cursor: pointer;\n",
              "      display: none;\n",
              "      fill: #1967D2;\n",
              "      height: 32px;\n",
              "      padding: 0 0 0 0;\n",
              "      width: 32px;\n",
              "    }\n",
              "\n",
              "    .colab-df-convert:hover {\n",
              "      background-color: #E2EBFA;\n",
              "      box-shadow: 0px 1px 2px rgba(60, 64, 67, 0.3), 0px 1px 3px 1px rgba(60, 64, 67, 0.15);\n",
              "      fill: #174EA6;\n",
              "    }\n",
              "\n",
              "    .colab-df-buttons div {\n",
              "      margin-bottom: 4px;\n",
              "    }\n",
              "\n",
              "    [theme=dark] .colab-df-convert {\n",
              "      background-color: #3B4455;\n",
              "      fill: #D2E3FC;\n",
              "    }\n",
              "\n",
              "    [theme=dark] .colab-df-convert:hover {\n",
              "      background-color: #434B5C;\n",
              "      box-shadow: 0px 1px 3px 1px rgba(0, 0, 0, 0.15);\n",
              "      filter: drop-shadow(0px 1px 2px rgba(0, 0, 0, 0.3));\n",
              "      fill: #FFFFFF;\n",
              "    }\n",
              "  </style>\n",
              "\n",
              "    <script>\n",
              "      const buttonEl =\n",
              "        document.querySelector('#df-8cbbdb22-da55-4d13-ac34-b85226527cc7 button.colab-df-convert');\n",
              "      buttonEl.style.display =\n",
              "        google.colab.kernel.accessAllowed ? 'block' : 'none';\n",
              "\n",
              "      async function convertToInteractive(key) {\n",
              "        const element = document.querySelector('#df-8cbbdb22-da55-4d13-ac34-b85226527cc7');\n",
              "        const dataTable =\n",
              "          await google.colab.kernel.invokeFunction('convertToInteractive',\n",
              "                                                    [key], {});\n",
              "        if (!dataTable) return;\n",
              "\n",
              "        const docLinkHtml = 'Like what you see? Visit the ' +\n",
              "          '<a target=\"_blank\" href=https://colab.research.google.com/notebooks/data_table.ipynb>data table notebook</a>'\n",
              "          + ' to learn more about interactive tables.';\n",
              "        element.innerHTML = '';\n",
              "        dataTable['output_type'] = 'display_data';\n",
              "        await google.colab.output.renderOutput(dataTable, element);\n",
              "        const docLink = document.createElement('div');\n",
              "        docLink.innerHTML = docLinkHtml;\n",
              "        element.appendChild(docLink);\n",
              "      }\n",
              "    </script>\n",
              "  </div>\n",
              "\n",
              "\n",
              "<div id=\"df-7fe8ee21-ebfd-4e02-a808-b8a8886727ad\">\n",
              "  <button class=\"colab-df-quickchart\" onclick=\"quickchart('df-7fe8ee21-ebfd-4e02-a808-b8a8886727ad')\"\n",
              "            title=\"Suggest charts.\"\n",
              "            style=\"display:none;\">\n",
              "\n",
              "<svg xmlns=\"http://www.w3.org/2000/svg\" height=\"24px\"viewBox=\"0 0 24 24\"\n",
              "     width=\"24px\">\n",
              "    <g>\n",
              "        <path d=\"M19 3H5c-1.1 0-2 .9-2 2v14c0 1.1.9 2 2 2h14c1.1 0 2-.9 2-2V5c0-1.1-.9-2-2-2zM9 17H7v-7h2v7zm4 0h-2V7h2v10zm4 0h-2v-4h2v4z\"/>\n",
              "    </g>\n",
              "</svg>\n",
              "  </button>\n",
              "\n",
              "<style>\n",
              "  .colab-df-quickchart {\n",
              "      --bg-color: #E8F0FE;\n",
              "      --fill-color: #1967D2;\n",
              "      --hover-bg-color: #E2EBFA;\n",
              "      --hover-fill-color: #174EA6;\n",
              "      --disabled-fill-color: #AAA;\n",
              "      --disabled-bg-color: #DDD;\n",
              "  }\n",
              "\n",
              "  [theme=dark] .colab-df-quickchart {\n",
              "      --bg-color: #3B4455;\n",
              "      --fill-color: #D2E3FC;\n",
              "      --hover-bg-color: #434B5C;\n",
              "      --hover-fill-color: #FFFFFF;\n",
              "      --disabled-bg-color: #3B4455;\n",
              "      --disabled-fill-color: #666;\n",
              "  }\n",
              "\n",
              "  .colab-df-quickchart {\n",
              "    background-color: var(--bg-color);\n",
              "    border: none;\n",
              "    border-radius: 50%;\n",
              "    cursor: pointer;\n",
              "    display: none;\n",
              "    fill: var(--fill-color);\n",
              "    height: 32px;\n",
              "    padding: 0;\n",
              "    width: 32px;\n",
              "  }\n",
              "\n",
              "  .colab-df-quickchart:hover {\n",
              "    background-color: var(--hover-bg-color);\n",
              "    box-shadow: 0 1px 2px rgba(60, 64, 67, 0.3), 0 1px 3px 1px rgba(60, 64, 67, 0.15);\n",
              "    fill: var(--button-hover-fill-color);\n",
              "  }\n",
              "\n",
              "  .colab-df-quickchart-complete:disabled,\n",
              "  .colab-df-quickchart-complete:disabled:hover {\n",
              "    background-color: var(--disabled-bg-color);\n",
              "    fill: var(--disabled-fill-color);\n",
              "    box-shadow: none;\n",
              "  }\n",
              "\n",
              "  .colab-df-spinner {\n",
              "    border: 2px solid var(--fill-color);\n",
              "    border-color: transparent;\n",
              "    border-bottom-color: var(--fill-color);\n",
              "    animation:\n",
              "      spin 1s steps(1) infinite;\n",
              "  }\n",
              "\n",
              "  @keyframes spin {\n",
              "    0% {\n",
              "      border-color: transparent;\n",
              "      border-bottom-color: var(--fill-color);\n",
              "      border-left-color: var(--fill-color);\n",
              "    }\n",
              "    20% {\n",
              "      border-color: transparent;\n",
              "      border-left-color: var(--fill-color);\n",
              "      border-top-color: var(--fill-color);\n",
              "    }\n",
              "    30% {\n",
              "      border-color: transparent;\n",
              "      border-left-color: var(--fill-color);\n",
              "      border-top-color: var(--fill-color);\n",
              "      border-right-color: var(--fill-color);\n",
              "    }\n",
              "    40% {\n",
              "      border-color: transparent;\n",
              "      border-right-color: var(--fill-color);\n",
              "      border-top-color: var(--fill-color);\n",
              "    }\n",
              "    60% {\n",
              "      border-color: transparent;\n",
              "      border-right-color: var(--fill-color);\n",
              "    }\n",
              "    80% {\n",
              "      border-color: transparent;\n",
              "      border-right-color: var(--fill-color);\n",
              "      border-bottom-color: var(--fill-color);\n",
              "    }\n",
              "    90% {\n",
              "      border-color: transparent;\n",
              "      border-bottom-color: var(--fill-color);\n",
              "    }\n",
              "  }\n",
              "</style>\n",
              "\n",
              "  <script>\n",
              "    async function quickchart(key) {\n",
              "      const quickchartButtonEl =\n",
              "        document.querySelector('#' + key + ' button');\n",
              "      quickchartButtonEl.disabled = true;  // To prevent multiple clicks.\n",
              "      quickchartButtonEl.classList.add('colab-df-spinner');\n",
              "      try {\n",
              "        const charts = await google.colab.kernel.invokeFunction(\n",
              "            'suggestCharts', [key], {});\n",
              "      } catch (error) {\n",
              "        console.error('Error during call to suggestCharts:', error);\n",
              "      }\n",
              "      quickchartButtonEl.classList.remove('colab-df-spinner');\n",
              "      quickchartButtonEl.classList.add('colab-df-quickchart-complete');\n",
              "    }\n",
              "    (() => {\n",
              "      let quickchartButtonEl =\n",
              "        document.querySelector('#df-7fe8ee21-ebfd-4e02-a808-b8a8886727ad button');\n",
              "      quickchartButtonEl.style.display =\n",
              "        google.colab.kernel.accessAllowed ? 'block' : 'none';\n",
              "    })();\n",
              "  </script>\n",
              "</div>\n",
              "    </div>\n",
              "  </div>\n"
            ],
            "text/plain": [
              "      Id  Popularity\n",
              "0  27643           1\n",
              "1  27644           1\n",
              "2  27645          -1\n",
              "3  27646          -1\n",
              "4  27647          -1"
            ]
          },
          "execution_count": 78,
          "metadata": {},
          "output_type": "execute_result"
        }
      ],
      "source": [
        "df = pd.DataFrame(test_R_pred, columns=[\"Popularity\"])\n",
        "df[\"Id\"] = test_R['Id']\n",
        "df = df.iloc[:, [1, 0]]\n",
        "df.head()"
      ]
    },
    {
      "cell_type": "code",
      "execution_count": null,
      "metadata": {
        "id": "79EZsxY31ocR"
      },
      "outputs": [],
      "source": [
        "# df = pd.DataFrame(data=test_R_pred.reshape(test_R_pred.shape[0], 1), columns=['Popularity'])\n",
        "df.to_csv('./test_pred.csv', index=False)"
      ]
    }
  ],
  "metadata": {
    "colab": {
      "provenance": []
    },
    "kernelspec": {
      "display_name": "Python 3",
      "name": "python3"
    },
    "language_info": {
      "name": "python"
    }
  },
  "nbformat": 4,
  "nbformat_minor": 0
}
