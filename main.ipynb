{
 "cells": [
  {
   "cell_type": "markdown",
   "metadata": {},
   "source": [
    "# DataLab Cup 1 \n",
    "[Kaggle](https://www.kaggle.com/competitions/2023-datalab-cup1-predicting-news-popularity/data)"
   ]
  },
  {
   "cell_type": "code",
   "execution_count": 1,
   "metadata": {},
   "outputs": [],
   "source": [
    "import pandas as pd\n",
    "import numpy as np\n",
    "import matplotlib.pyplot as plt\n",
    "import seaborn as sns\n",
    "import re\n",
    "from bs4 import BeautifulSoup"
   ]
  },
  {
   "cell_type": "code",
   "execution_count": 2,
   "metadata": {},
   "outputs": [],
   "source": [
    "# load csv file\n",
    "train = pd.read_csv('data/train.csv')\n",
    "test = pd.read_csv('data/test.csv')"
   ]
  },
  {
   "cell_type": "code",
   "execution_count": 3,
   "metadata": {},
   "outputs": [
    {
     "name": "stdout",
     "output_type": "stream",
     "text": [
      "train.shape=(27643, 3)\n",
      "train.columns=Index(['Id', 'Popularity', 'Page content'], dtype='object')\n"
     ]
    }
   ],
   "source": [
    "print(f\"{train.shape=}\")\n",
    "print(f\"{train.columns=}\")"
   ]
  },
  {
   "cell_type": "markdown",
   "metadata": {},
   "source": [
    "#### Function Helper"
   ]
  },
  {
   "cell_type": "markdown",
   "metadata": {},
   "source": [
    "hashing on the content,\n",
    "sentiment on the topic\n",
    "then append the day."
   ]
  },
  {
   "cell_type": "code",
   "execution_count": 4,
   "metadata": {},
   "outputs": [],
   "source": [
    "# train.iloc[27628,:]"
   ]
  },
  {
   "cell_type": "code",
   "execution_count": 5,
   "metadata": {},
   "outputs": [],
   "source": [
    "# soup = BeautifulSoup(train['Page content'][27628], 'html.parser')\n",
    "# print(soup.prettify())"
   ]
  },
  {
   "cell_type": "code",
   "execution_count": 6,
   "metadata": {},
   "outputs": [],
   "source": [
    "def get_day_time(datetime_value):\n",
    "    \"\"\"Extract the day of the week and time from a datetime string.\"\"\"\n",
    "    day = {'Sun': 0, 'Mon': 1, 'Tue': 2, 'Wed': 3, 'Thu': 4, 'Fri': 5, 'Sat':6}\n",
    "    value = {}\n",
    "\n",
    "    # Define a regular expression pattern to capture the day of the week and time\n",
    "    pattern = r'^(\\w+), (\\d+ \\w+ \\d{4}) (\\d+:\\d+)'\n",
    "\n",
    "    # Use re.search to find a match in the datetime value\n",
    "    match = re.search(pattern, datetime_value)\n",
    "\n",
    "    if match:\n",
    "        value['Day'] = day[match.group(1)]\n",
    "        if value['Day'] == 0 or value['Day'] == 6:\n",
    "            value['Day'] = 1\n",
    "        else:\n",
    "            value['Day'] = 0\n",
    "        time = match.group(3).split(':')\n",
    "        value['Time'] = (int(time[0]) *60 + int(time[1])) / 1440.0\n",
    "        # date = match.group(2)\n",
    "    else:\n",
    "        value['Day'] = 0\n",
    "        value['Time'] = 0\n",
    "        # date = np.nan\n",
    "    \n",
    "    return value\n",
    "    \n",
    "def chunk(iterable, chunk_size):\n",
    "    \"\"\"Generates lists of `chunk_size` elements from `iterable`.\n",
    "    \n",
    "    \n",
    "    >>> list(chunk((2, 3, 5, 7), 3))\n",
    "    [[2, 3, 5], [7]]\n",
    "    >>> list(chunk((2, 3, 5, 7), 2))\n",
    "    [[2, 3], [5, 7]]\n",
    "    \"\"\"\n",
    "    iterable = iter(iterable)\n",
    "    while True:\n",
    "        chunk = []\n",
    "        try:\n",
    "            for _ in range(chunk_size):\n",
    "                chunk.append(next(iterable))\n",
    "            yield chunk\n",
    "        except StopIteration:\n",
    "            if chunk:\n",
    "                yield chunk\n",
    "            break"
   ]
  },
  {
   "cell_type": "code",
   "execution_count": 7,
   "metadata": {},
   "outputs": [
    {
     "name": "stderr",
     "output_type": "stream",
     "text": [
      "[nltk_data] Downloading package names to /home/jojo/nltk_data...\n",
      "[nltk_data]   Package names is already up-to-date!\n",
      "[nltk_data] Downloading package stopwords to /home/jojo/nltk_data...\n",
      "[nltk_data]   Package stopwords is already up-to-date!\n",
      "[nltk_data] Downloading package movie_reviews to\n",
      "[nltk_data]     /home/jojo/nltk_data...\n",
      "[nltk_data]   Package movie_reviews is already up-to-date!\n",
      "[nltk_data] Downloading package averaged_perceptron_tagger to\n",
      "[nltk_data]     /home/jojo/nltk_data...\n",
      "[nltk_data]   Package averaged_perceptron_tagger is already up-to-\n",
      "[nltk_data]       date!\n",
      "[nltk_data] Downloading package vader_lexicon to\n",
      "[nltk_data]     /home/jojo/nltk_data...\n",
      "[nltk_data]   Package vader_lexicon is already up-to-date!\n",
      "[nltk_data] Downloading package punkt to /home/jojo/nltk_data...\n",
      "[nltk_data]   Package punkt is already up-to-date!\n"
     ]
    }
   ],
   "source": [
    "def preprocessor(text):\n",
    "    # regex for matching emoticons, keep emoticons, ex: :), :-P, :-D\n",
    "    r = '(?::|;|=|X)(?:-)?(?:\\)|\\(|D|P)'\n",
    "    emoticons = re.findall(r, text)\n",
    "    text = re.sub(r, '', text)\n",
    "\n",
    "    # convert to lowercase and append all emoticons behind (with space in between)\n",
    "    # replace('-','') removes nose of emoticons\n",
    "    text = re.sub('[\\W]+', ' ', text.lower()) + ' ' + ' '.join(emoticons).replace('-','')\n",
    "    return text\n",
    "def tokenizer(text):\n",
    "    return re.split('\\s+', text.strip())\n",
    "\n",
    "from nltk.stem.porter import PorterStemmer\n",
    "import nltk\n",
    "from nltk.corpus import stopwords\n",
    "\n",
    "def tokenizer_stem(text):\n",
    "    porter = PorterStemmer()\n",
    "    return [porter.stem(word) for word in re.split('\\s+', text.strip())]\n",
    "\n",
    "\n",
    "nltk.download([\n",
    "    \"names\",\n",
    "    \"stopwords\",\n",
    "    \"movie_reviews\",\n",
    "    \"averaged_perceptron_tagger\",\n",
    "    \"vader_lexicon\",\n",
    "    \"punkt\",\n",
    "])\n",
    "stop = stopwords.words('english')\n",
    "def tokenizer_stem_nostop(text):\n",
    "    porter = PorterStemmer()\n",
    "    return [porter.stem(w) for w in re.split('\\s+', text.strip()) \\\n",
    "            if w not in stop and re.match('[a-zA-Z]+', w)]"
   ]
  },
  {
   "cell_type": "markdown",
   "metadata": {},
   "source": [
    "author is too hard"
   ]
  },
  {
   "cell_type": "code",
   "execution_count": 8,
   "metadata": {},
   "outputs": [],
   "source": [
    "from icecream import ic\n",
    "def preprocess(data):\n",
    "    soup = BeautifulSoup(data, 'html.parser')\n",
    "\n",
    "    title = soup.find('h1', class_='title').text\n",
    "    day = \"Mon\"\n",
    "    day_time = {'Day': 0, 'Time': 0}\n",
    "    try:\n",
    "        day = soup.find('time').get('datetime')\n",
    "        day_time = get_day_time(day)\n",
    "    except:\n",
    "        pass\n",
    "\n",
    "    content_element = soup.find('section', class_='article-content')\n",
    "    content = content_element.text\n",
    "    # links = soup.find_all('a')\n",
    "    # try:\n",
    "    #     links = len(links)\n",
    "    # except:\n",
    "    #     links = 0\n",
    "    vid = soup.find_all('iframe')\n",
    "    arr = [title, content, len(content.split()), len(vid), day_time['Day'], day_time['Time']]\n",
    "\n",
    "    for i in range(1):\n",
    "        arr[i] = preprocessor(arr[i])\n",
    "\n",
    "    return arr"
   ]
  },
  {
   "cell_type": "code",
   "execution_count": 9,
   "metadata": {},
   "outputs": [],
   "source": [
    "feat = ['Title', 'Content', 'WordCount', 'VideoCount', 'Day', 'Time']"
   ]
  },
  {
   "cell_type": "markdown",
   "metadata": {},
   "source": [
    "### Preprocessing"
   ]
  },
  {
   "cell_type": "code",
   "execution_count": 10,
   "metadata": {},
   "outputs": [],
   "source": [
    "train_preprocess = train['Page content'].apply(preprocess)\n",
    "test_preprocess = test['Page content'].apply(preprocess)\n"
   ]
  },
  {
   "cell_type": "code",
   "execution_count": 11,
   "metadata": {},
   "outputs": [
    {
     "data": {
      "text/plain": [
       "['Title', 'Content', 'WordCount', 'VideoCount', 'Day', 'Time']"
      ]
     },
     "execution_count": 11,
     "metadata": {},
     "output_type": "execute_result"
    }
   ],
   "source": [
    "feat"
   ]
  },
  {
   "cell_type": "code",
   "execution_count": 12,
   "metadata": {},
   "outputs": [],
   "source": [
    "train_preprocess_df = pd.DataFrame(train_preprocess.to_list(), columns=feat)\n",
    "test_preprocess_df = pd.DataFrame(test_preprocess.to_list(), columns=feat)\n",
    "\n",
    "train_preprocess_df = pd.concat([train_preprocess_df, train[['Popularity']]], axis=1)\n",
    "test_preprocess_df = pd.concat([test_preprocess_df], axis=1)\n",
    "\n",
    "# scale the data\n",
    "from sklearn.preprocessing import MinMaxScaler\n",
    "sc = MinMaxScaler()\n",
    "train_preprocess_df[['WordCount', 'VideoCount']] = sc.fit_transform(train_preprocess_df[['WordCount', 'VideoCount']])\n",
    "test_preprocess_df[['WordCount', 'VideoCount']] = sc.transform(test_preprocess_df[['WordCount', 'VideoCount']])"
   ]
  },
  {
   "cell_type": "code",
   "execution_count": 13,
   "metadata": {},
   "outputs": [
    {
     "data": {
      "text/html": [
       "<div>\n",
       "<style scoped>\n",
       "    .dataframe tbody tr th:only-of-type {\n",
       "        vertical-align: middle;\n",
       "    }\n",
       "\n",
       "    .dataframe tbody tr th {\n",
       "        vertical-align: top;\n",
       "    }\n",
       "\n",
       "    .dataframe thead th {\n",
       "        text-align: right;\n",
       "    }\n",
       "</style>\n",
       "<table border=\"1\" class=\"dataframe\">\n",
       "  <thead>\n",
       "    <tr style=\"text-align: right;\">\n",
       "      <th></th>\n",
       "      <th>Title</th>\n",
       "      <th>Content</th>\n",
       "      <th>WordCount</th>\n",
       "      <th>VideoCount</th>\n",
       "      <th>Day</th>\n",
       "      <th>Time</th>\n",
       "      <th>Popularity</th>\n",
       "    </tr>\n",
       "  </thead>\n",
       "  <tbody>\n",
       "    <tr>\n",
       "      <th>0</th>\n",
       "      <td>nasa s grand challenge stop asteroids from des...</td>\n",
       "      <td>There may be killer asteroids headed for Eart...</td>\n",
       "      <td>0.069157</td>\n",
       "      <td>0.000000</td>\n",
       "      <td>0</td>\n",
       "      <td>0.627778</td>\n",
       "      <td>-1</td>\n",
       "    </tr>\n",
       "    <tr>\n",
       "      <th>1</th>\n",
       "      <td>google s new open source patent pledge we won ...</td>\n",
       "      <td>Google took a stand of sorts against patent-l...</td>\n",
       "      <td>0.035626</td>\n",
       "      <td>0.000000</td>\n",
       "      <td>0</td>\n",
       "      <td>0.736111</td>\n",
       "      <td>1</td>\n",
       "    </tr>\n",
       "    <tr>\n",
       "      <th>2</th>\n",
       "      <td>ballin 2014 nfl draft picks get to choose thei...</td>\n",
       "      <td>You've spend countless hours training to be a...</td>\n",
       "      <td>0.135355</td>\n",
       "      <td>0.274725</td>\n",
       "      <td>0</td>\n",
       "      <td>0.802083</td>\n",
       "      <td>1</td>\n",
       "    </tr>\n",
       "    <tr>\n",
       "      <th>3</th>\n",
       "      <td>cameraperson fails deliver slapstick laughs</td>\n",
       "      <td>Tired of the same old sports fails and ne...</td>\n",
       "      <td>0.032298</td>\n",
       "      <td>0.230769</td>\n",
       "      <td>0</td>\n",
       "      <td>0.101389</td>\n",
       "      <td>-1</td>\n",
       "    </tr>\n",
       "    <tr>\n",
       "      <th>4</th>\n",
       "      <td>nfl star helps young fan prove friendship with...</td>\n",
       "      <td>At 6-foot-5 and 298 pounds, All-Pro NFL star ...</td>\n",
       "      <td>0.166913</td>\n",
       "      <td>0.010989</td>\n",
       "      <td>0</td>\n",
       "      <td>0.146528</td>\n",
       "      <td>-1</td>\n",
       "    </tr>\n",
       "    <tr>\n",
       "      <th>...</th>\n",
       "      <td>...</td>\n",
       "      <td>...</td>\n",
       "      <td>...</td>\n",
       "      <td>...</td>\n",
       "      <td>...</td>\n",
       "      <td>...</td>\n",
       "      <td>...</td>\n",
       "    </tr>\n",
       "    <tr>\n",
       "      <th>27638</th>\n",
       "      <td>chief of usaid doesn t know who created cuban ...</td>\n",
       "      <td>The chief of the U.S. Agency for Internationa...</td>\n",
       "      <td>0.035380</td>\n",
       "      <td>0.000000</td>\n",
       "      <td>0</td>\n",
       "      <td>0.684722</td>\n",
       "      <td>-1</td>\n",
       "    </tr>\n",
       "    <tr>\n",
       "      <th>27639</th>\n",
       "      <td>photo of samsung s rumored virtual reality hea...</td>\n",
       "      <td>Back in May, reports surfaced claiming that S...</td>\n",
       "      <td>0.037106</td>\n",
       "      <td>0.000000</td>\n",
       "      <td>0</td>\n",
       "      <td>0.043750</td>\n",
       "      <td>-1</td>\n",
       "    </tr>\n",
       "    <tr>\n",
       "      <th>27640</th>\n",
       "      <td>14 dogs that frankly cannot take the heat</td>\n",
       "      <td>There's nothing more helpless than the middle...</td>\n",
       "      <td>0.018984</td>\n",
       "      <td>0.000000</td>\n",
       "      <td>0</td>\n",
       "      <td>0.520833</td>\n",
       "      <td>-1</td>\n",
       "    </tr>\n",
       "    <tr>\n",
       "      <th>27641</th>\n",
       "      <td>yahoo earnings beat estimates but core problem...</td>\n",
       "      <td>Yahoo's profits in the first quarter beat Wal...</td>\n",
       "      <td>0.051036</td>\n",
       "      <td>0.000000</td>\n",
       "      <td>0</td>\n",
       "      <td>0.867361</td>\n",
       "      <td>-1</td>\n",
       "    </tr>\n",
       "    <tr>\n",
       "      <th>27642</th>\n",
       "      <td>the winners of our curiocity contest tour aust...</td>\n",
       "      <td>Originality. Creativity. Ingenuity. In addit...</td>\n",
       "      <td>0.056213</td>\n",
       "      <td>0.000000</td>\n",
       "      <td>0</td>\n",
       "      <td>0.765278</td>\n",
       "      <td>1</td>\n",
       "    </tr>\n",
       "  </tbody>\n",
       "</table>\n",
       "<p>27643 rows × 7 columns</p>\n",
       "</div>"
      ],
      "text/plain": [
       "                                                   Title   \n",
       "0      nasa s grand challenge stop asteroids from des...  \\\n",
       "1      google s new open source patent pledge we won ...   \n",
       "2      ballin 2014 nfl draft picks get to choose thei...   \n",
       "3           cameraperson fails deliver slapstick laughs    \n",
       "4      nfl star helps young fan prove friendship with...   \n",
       "...                                                  ...   \n",
       "27638  chief of usaid doesn t know who created cuban ...   \n",
       "27639  photo of samsung s rumored virtual reality hea...   \n",
       "27640         14 dogs that frankly cannot take the heat    \n",
       "27641  yahoo earnings beat estimates but core problem...   \n",
       "27642  the winners of our curiocity contest tour aust...   \n",
       "\n",
       "                                                 Content  WordCount   \n",
       "0       There may be killer asteroids headed for Eart...   0.069157  \\\n",
       "1       Google took a stand of sorts against patent-l...   0.035626   \n",
       "2       You've spend countless hours training to be a...   0.135355   \n",
       "3           Tired of the same old sports fails and ne...   0.032298   \n",
       "4       At 6-foot-5 and 298 pounds, All-Pro NFL star ...   0.166913   \n",
       "...                                                  ...        ...   \n",
       "27638   The chief of the U.S. Agency for Internationa...   0.035380   \n",
       "27639   Back in May, reports surfaced claiming that S...   0.037106   \n",
       "27640   There's nothing more helpless than the middle...   0.018984   \n",
       "27641   Yahoo's profits in the first quarter beat Wal...   0.051036   \n",
       "27642    Originality. Creativity. Ingenuity. In addit...   0.056213   \n",
       "\n",
       "       VideoCount  Day      Time  Popularity  \n",
       "0        0.000000    0  0.627778          -1  \n",
       "1        0.000000    0  0.736111           1  \n",
       "2        0.274725    0  0.802083           1  \n",
       "3        0.230769    0  0.101389          -1  \n",
       "4        0.010989    0  0.146528          -1  \n",
       "...           ...  ...       ...         ...  \n",
       "27638    0.000000    0  0.684722          -1  \n",
       "27639    0.000000    0  0.043750          -1  \n",
       "27640    0.000000    0  0.520833          -1  \n",
       "27641    0.000000    0  0.867361          -1  \n",
       "27642    0.000000    0  0.765278           1  \n",
       "\n",
       "[27643 rows x 7 columns]"
      ]
     },
     "execution_count": 13,
     "metadata": {},
     "output_type": "execute_result"
    }
   ],
   "source": [
    "train_preprocess_df"
   ]
  },
  {
   "cell_type": "code",
   "execution_count": 14,
   "metadata": {},
   "outputs": [],
   "source": [
    "train_preprocess_df.to_csv('data/train_preprocess.csv', index=False)\n",
    "test_preprocess_df.to_csv('data/test_preprocess.csv', index=False)"
   ]
  },
  {
   "cell_type": "code",
   "execution_count": 15,
   "metadata": {},
   "outputs": [
    {
     "data": {
      "text/html": [
       "<div>\n",
       "<style scoped>\n",
       "    .dataframe tbody tr th:only-of-type {\n",
       "        vertical-align: middle;\n",
       "    }\n",
       "\n",
       "    .dataframe tbody tr th {\n",
       "        vertical-align: top;\n",
       "    }\n",
       "\n",
       "    .dataframe thead th {\n",
       "        text-align: right;\n",
       "    }\n",
       "</style>\n",
       "<table border=\"1\" class=\"dataframe\">\n",
       "  <thead>\n",
       "    <tr style=\"text-align: right;\">\n",
       "      <th></th>\n",
       "      <th>Title</th>\n",
       "      <th>Content</th>\n",
       "      <th>WordCount</th>\n",
       "      <th>VideoCount</th>\n",
       "      <th>Day</th>\n",
       "      <th>Time</th>\n",
       "    </tr>\n",
       "  </thead>\n",
       "  <tbody>\n",
       "    <tr>\n",
       "      <th>0</th>\n",
       "      <td>soccer star gets twitter death threats after t...</td>\n",
       "      <td>Note to humanity: One Direction fandom ai...</td>\n",
       "      <td>0.062993</td>\n",
       "      <td>0.076923</td>\n",
       "      <td>0</td>\n",
       "      <td>0.824306</td>\n",
       "    </tr>\n",
       "    <tr>\n",
       "      <th>1</th>\n",
       "      <td>google glass gets an accessory store</td>\n",
       "      <td>Shortly after announcing a hardware upgrade f...</td>\n",
       "      <td>0.015533</td>\n",
       "      <td>0.000000</td>\n",
       "      <td>0</td>\n",
       "      <td>0.392361</td>\n",
       "    </tr>\n",
       "    <tr>\n",
       "      <th>2</th>\n",
       "      <td>ouya gaming console already sold out on amazon</td>\n",
       "      <td>Well, that was quick. Just hours after going ...</td>\n",
       "      <td>0.018245</td>\n",
       "      <td>0.000000</td>\n",
       "      <td>0</td>\n",
       "      <td>0.537500</td>\n",
       "    </tr>\n",
       "    <tr>\n",
       "      <th>3</th>\n",
       "      <td>between two ferns mocks oscar nominees</td>\n",
       "      <td>Between Two Ferns: Oscar Buzz Edition Part 1...</td>\n",
       "      <td>0.016889</td>\n",
       "      <td>0.043956</td>\n",
       "      <td>0</td>\n",
       "      <td>0.145833</td>\n",
       "    </tr>\n",
       "    <tr>\n",
       "      <th>4</th>\n",
       "      <td>american sniper trailer looks like eastwood m...</td>\n",
       "      <td>Ever since The Hurt Locker it seems like ...</td>\n",
       "      <td>0.025025</td>\n",
       "      <td>0.010989</td>\n",
       "      <td>0</td>\n",
       "      <td>0.065278</td>\n",
       "    </tr>\n",
       "    <tr>\n",
       "      <th>...</th>\n",
       "      <td>...</td>\n",
       "      <td>...</td>\n",
       "      <td>...</td>\n",
       "      <td>...</td>\n",
       "      <td>...</td>\n",
       "      <td>...</td>\n",
       "    </tr>\n",
       "    <tr>\n",
       "      <th>11842</th>\n",
       "      <td>check out twitter co founders beautiful new of...</td>\n",
       "      <td>Some of the creators of Twitter have landed ...</td>\n",
       "      <td>0.013190</td>\n",
       "      <td>0.000000</td>\n",
       "      <td>1</td>\n",
       "      <td>0.875000</td>\n",
       "    </tr>\n",
       "    <tr>\n",
       "      <th>11843</th>\n",
       "      <td>fish out of water is an adorably addictive io...</td>\n",
       "      <td>Full disclosure: Jetpack Joyride is still on...</td>\n",
       "      <td>0.067678</td>\n",
       "      <td>0.000000</td>\n",
       "      <td>0</td>\n",
       "      <td>0.793750</td>\n",
       "    </tr>\n",
       "    <tr>\n",
       "      <th>11844</th>\n",
       "      <td>if music services influenced grammys this is w...</td>\n",
       "      <td>LOS ANGELES — Nominees for the 56th Grammy Aw...</td>\n",
       "      <td>0.117973</td>\n",
       "      <td>0.241758</td>\n",
       "      <td>0</td>\n",
       "      <td>0.984722</td>\n",
       "    </tr>\n",
       "    <tr>\n",
       "      <th>11845</th>\n",
       "      <td>google s nexus 7 comes to europe australia and...</td>\n",
       "      <td>The latest version of Google's Nexus 7 has be...</td>\n",
       "      <td>0.014053</td>\n",
       "      <td>0.000000</td>\n",
       "      <td>0</td>\n",
       "      <td>0.359028</td>\n",
       "    </tr>\n",
       "    <tr>\n",
       "      <th>11846</th>\n",
       "      <td>even samsung can t screw up the galaxy tab s</td>\n",
       "      <td>The Samsung Galaxy Tab S is so much like ...</td>\n",
       "      <td>0.215483</td>\n",
       "      <td>0.010989</td>\n",
       "      <td>0</td>\n",
       "      <td>0.541667</td>\n",
       "    </tr>\n",
       "  </tbody>\n",
       "</table>\n",
       "<p>11847 rows × 6 columns</p>\n",
       "</div>"
      ],
      "text/plain": [
       "                                                   Title   \n",
       "0      soccer star gets twitter death threats after t...  \\\n",
       "1                  google glass gets an accessory store    \n",
       "2        ouya gaming console already sold out on amazon    \n",
       "3                between two ferns mocks oscar nominees    \n",
       "4       american sniper trailer looks like eastwood m...   \n",
       "...                                                  ...   \n",
       "11842  check out twitter co founders beautiful new of...   \n",
       "11843   fish out of water is an adorably addictive io...   \n",
       "11844  if music services influenced grammys this is w...   \n",
       "11845  google s nexus 7 comes to europe australia and...   \n",
       "11846      even samsung can t screw up the galaxy tab s    \n",
       "\n",
       "                                                 Content  WordCount   \n",
       "0           Note to humanity: One Direction fandom ai...   0.062993  \\\n",
       "1       Shortly after announcing a hardware upgrade f...   0.015533   \n",
       "2       Well, that was quick. Just hours after going ...   0.018245   \n",
       "3        Between Two Ferns: Oscar Buzz Edition Part 1...   0.016889   \n",
       "4           Ever since The Hurt Locker it seems like ...   0.025025   \n",
       "...                                                  ...        ...   \n",
       "11842    Some of the creators of Twitter have landed ...   0.013190   \n",
       "11843    Full disclosure: Jetpack Joyride is still on...   0.067678   \n",
       "11844   LOS ANGELES — Nominees for the 56th Grammy Aw...   0.117973   \n",
       "11845   The latest version of Google's Nexus 7 has be...   0.014053   \n",
       "11846       The Samsung Galaxy Tab S is so much like ...   0.215483   \n",
       "\n",
       "       VideoCount  Day      Time  \n",
       "0        0.076923    0  0.824306  \n",
       "1        0.000000    0  0.392361  \n",
       "2        0.000000    0  0.537500  \n",
       "3        0.043956    0  0.145833  \n",
       "4        0.010989    0  0.065278  \n",
       "...           ...  ...       ...  \n",
       "11842    0.000000    1  0.875000  \n",
       "11843    0.000000    0  0.793750  \n",
       "11844    0.241758    0  0.984722  \n",
       "11845    0.000000    0  0.359028  \n",
       "11846    0.010989    0  0.541667  \n",
       "\n",
       "[11847 rows x 6 columns]"
      ]
     },
     "execution_count": 15,
     "metadata": {},
     "output_type": "execute_result"
    }
   ],
   "source": [
    "train_preprocess_df\n",
    "test_preprocess_df"
   ]
  },
  {
   "cell_type": "code",
   "execution_count": 26,
   "metadata": {},
   "outputs": [],
   "source": [
    "def df_chunk(df, n):\n",
    "    \"\"\"Yield successive n-sized chunks from df.\"\"\"\n",
    "    for i in range(0, len(df), n):\n",
    "        yield df.iloc[i:i + n, :]\n",
    "def transpose(l):\n",
    "    return list(map(list, zip(*l)))"
   ]
  },
  {
   "cell_type": "code",
   "execution_count": 33,
   "metadata": {},
   "outputs": [
    {
     "data": {
      "text/plain": [
       "array([[' There may be killer asteroids headed for Earth, and NASA has decided to do something about it. The space agency announced a new \"Grand Challenge\" on June 18 to find all dangerous space rocks and figure out how to stop them from destroying our planet. The new mission builds on projects already underway at NASA, including a plan to capture an asteroid, pull it in toward the moon and send astronauts to visit it. As part of the Grand Challenge, the agency issued a \"request for information\" today — aiming to solicit ideas from industry, academia and the public on how to improve the asteroid mission plan. \"We\\'re asking for you to think about concepts and different approaches for what we\\'ve described here,\" William Gerstenmaier, NASA\\'s associate administrator for human explorations and operations, said yesterday during a NASA event announcing the initiative. \"We want you to think about other ways of enhancing this to get the most out of it.\" SEE ALSO: How It Works: NASA Asteroid-CaptureResponses to the request for information, which also seeks ideas for detecting and mitigating asteroid threats, are due July 18.The asteroid-retrieval mission, designed to provide the first deep-space mission for astronauts flying on NASA\\'s Space Launch System rocket and Orion space capsule under development, has come under fire from lawmakers who would prefer that NASA return to the moon.A draft NASA authorization bill from the House space subcommittee, which is currently in debate, would cancel the mission and steer the agency toward other projects. That bill will be discussed during a hearing Wednesday, June 19 at 10 a.m. EDT.SEE ALSO: How It Works: NASA Asteroid-Capture Mission in PicturesBut NASA officials defended the asteroid mission today and said they were confident they\\'d win Congress\\' support once they explained its benefits further.\"I think that we really, truly are going to be able to show the value of the mission,\" NASA Associate Administrator Lori Garver said today. \"To me, this is something that what we do in this country — we debate how we spend the public\\'s money. This is the beginning of the debate.\"Garver also maintained that sending astronauts to an asteroid would not diminish NASA\\'s other science and exploration goals, including another lunar landing.SEE ALSO: Animation Of Proposed Asteroid Retrieval Mission\"This initiative takes nothing from the other valuable work,\" she said. \"This is only a small piece of our overall strategy, but it is an integral piece. It takes nothing from the moon.\"Part of NASA\\'s plan to win support for the flight is to link it more closely with the larger goal of protecting Earth from asteroid threats.If, someday, humanity discovers an asteroid headed for Earth and manages to alter its course, \"it will be one of the most important accomplishments in human history,\" said Tom Kalil, deputy director for technology and innovation at the White House Office of Science and Technology Policy.SEE ALSO: Wildest Private Deep-Space Mission Ideas: A CountdownThe topic of asteroid threats is more timely than ever, after a meteor exploded over the Russian city of Chelyabinsk on Feb. 15 — the same day that the football field-sized asteroid 2012 DA14 passed within the moon\\'s orbit of Earth.Image courtesy of NASA  SpaceX\\'s Musk Says Sabotage Unlikely Cause of Sept. 1 Explosion, But Still a Worry Proxima Centauri Is Like Our Sun... on Steroids China Launches Shenzhou-11 Astronauts to Tiangong-2 Space Lab Space Station Mockup In Houston - Astronaut Guided Tour | Video   This article originally published at Space.com here  '],\n",
       "       [' Google took a stand of sorts against patent-lawsuit theater Thursday with its new Open Patent Non-Assertion (OPN) Pledge.  As explained by Google\\'s Duane Valz, under the OPN Pledge, Google promises \"not to sue any user, distributor or developer of open-source software on specified patents, unless first attacked.\" Now, Google isn\\'t making all of its patents available for others. Instead, its starting small with 10 patents focused on MapReduce, a programming model for handling large data sets. There are already open-sourced versions of MapReduce available — including Hadoop — that are widely used across the Internet. Google says that over time, it plans to extend the OPN Pledge to more Google patents. SEE ALSO: 10 Interesting Google Glass Winners and Their Wacky Ideas  The big caveat here is that Google is pledging not to sue anyone who uses its MapReduce patents for Free or Open Source Software. Google is defining Free or Open Source software as any software that meets the Open Source Initiative\\'s \"Open Source Definition,\" as well as any version of the Free Software Foundation\\'s \"Free Software Definition.\" Still, Google iterates that the OPN Pledge isn\\'t limited to a specific project or open-source copyright — as long as the project meets the FSF or OSI\\'s definition for Free Software or Open Source Software, it\\'s protected by the OPN Pledge. Google hopes that its OPN Pledge can be a model for other companies who are looking at how to \"put their own patents into the service of open-source software.\" In the short-term, we\\'re not sure what this does — except indemnify the open source MapReduce projects from a Google lawsuit. The bigger picture, however, is that this could be a new model for the way that patents are applied to open source as a whole. And that\\'s a good thing. Image courtesy of iStockphoto, stuartbur '],\n",
       "       [' You\\'ve spend countless hours training to be an American football machine and all the blood, sweat and tears are about to pay off with a top selection in the NFL Draft — and its accompanying hefty contract.\\xa0All you need now is the perfect soundtrack for the prefect moment. This year, for the first time ever, 30 picks in the NFL Draft will get to choose their own walk-out music to blare at Radio City Music Hall while they take the stage, don the hat of their new team and shake hands with NFL Commissioner Roger Goodell. See also: Emotional MVP Speech Will Make Kevin Durant Your Favorite NBA Player NFL Network and ESPN will play natural sounds as picks take the stage, but in the background you should be able to hear the player-selected tracks (radio-versions only, of course) that Jadeveon Clowney, Johnny Manziel and others hand select. Thirty players the NFL invited to New York City for the draft will get to play DJ and pick their tracks. The 2014 NFL Draft\\'s first round is on Thursday. Brian McCarthy, the NFL\\'s vice president of communications, says the new move came about after soliciting feedback from players at previous drafts on how to make the the big day more fun. \"We’ve always had music for each player selected but it’s been more city-oriented,\" McCarthy told Mashable in an email. \"We ask the prospects we have in NYC each year for ways to improve their overall experience.\" So the question becomes: Do you go with \"C.R.E.A.M.\" from the Wu-Tang Clan? Or what about \"All I Do Is Win\" from DJ Khaled? Then again, maybe BG\\'s \"Bling Bling\" is the most appropriate choice. Decisions, decisions. The life of an NFL prospect just got that much more complicated. BONUS: 25 of YouTube\\'s Funniest Sports Fails   Sports Fails        1. Golf Cart Fail  This runaway vehicle wreaked minor on-field havoc following a high school football championship in Texas last December. But a heroic bystander hopped aboard and put on the brakes. No casualties occurred, and the clip immediately became Internet legend.           2. Penalty Kick Fail Watch out for the ricochet, goalie! This kid gets it in the right in the chops.          3. Mascot on Rollerblades Fail What happens when you put an inflatable dinosaur on rollerblades and ask it to skate down a flight of stairs? Amazingness, that\\'s what.          4. Flopping Fail In sports, to \"flop\" is to exaggerate the force of contact in hopes of drawing a favorable call from officials. But you\\'ve got to time it much, much better than this guy does.          5. Hockey Celebration Fail Apparently, if you hug a member of the opposite team after scoring a goal in hockey, you will get punched in the face.          6. Innocent Bystander Fail This kid is just in the wrong place at the wrong time...to the benefit of the rest of us.          7. Representing Your School Fail  College football mascots are supposed to represent their schools in a fun, positive light — which doesn\\'t typically include picking fights. Here, the University of Oregon\\'s duck slams the University of Houston\\'s cougar. Bonus points for the sick elbow drop, though.           8. Weightlifting Fail  Not saying we could successfully lift 432 pounds above our heads, but dang, that looks painful. German weightlifter Matthias Steiner dropped this massive barbell on his neck during the London Olympics this summer, but escaped serious injury.           9. Trampoline Dunk Fail Sometimes, when you fail, you actually win.          10. Hurdling Fail  Why jump over hurdles when you could just RUN STRAIGHT THROUGH THEM? File under: Never, Ever Gets Old.           11. Paying Attention Fail After what could best be described as an \"optimistic\" shot attempt in a game last season, NBA center JaVale McGee showed some nice hustle getting back on defense. Only problem? His team still had the ball.          12. Judgment Fail But that wasn\\'t McGee\\'s only legendary moment. Here, he shows why it\\'s not a good idea to try dunking from the free throw line mid-game.          13. Olympic Promo Fail  For some reason, London\\'s Olympic promotions this summer involved hanging Mayor Boris Johnson on a zipline while waving a pair of tiny flags. Then he got stuck halfway through and it was pretty much the best, funniest, awkwardest thing that could have happened.           14. Grand Slam Celebration Fail Major Leaguer Kendry Morales broke his lower left leg while celebrating a game-winning grand slam in 2010. This edited video provides the before, during and after rundown.          15. Slam Dunk Fail See? White guys can jump? It\\'s just the landing that\\'s the hard part.          16. High Dive Fail The announcer here sums it up perfectly. She calls this attempt from the 1992 Olympics \"an absolute failed dive.\"          17. Piggyback Ride Fail What begins as an innocent enough piggyback ride atop a fuzzy mascot turns into a pretty epic collision — and YouTube gold.          18. Long Jump Fail Dude! If you\\'re gonna pump up the crowd like that, you can\\'t just faceplant into the sand.          19. Touchdown Celebration Fail When you think about it, is there any better way to celebrate a touchdown than by pegging an unsuspecting spectator in the face? Bonus points for originality, at least.          20. Pro Golfer Fail You\\'d think a professional golfer could put the ball in the hole with less than 16 strokes. Kevin Na — and the rest of the world — found out otherwise on this par-four hole at the 2011 Valero Texas Open.          21. Head-First Slide Fail Well, that\\'s one way of doing it...right?          22. Time Management Fail  Tie game, clock winding down — it\\'s always better to get one last attempt up than just let the game go into overtime. A full court desperation heave with a 11 seconds to go is never the way to do it, however. This classic gaffe by the University of Connecticut\\'s Roscoe Smith came during a matchup of top teams in 2011.           23. Boogie Boarding Fail Its veracity may be suspect, but this 2008 YouTube classic has more than 12.7 million views, despite a mind-numbing soundtrack.          24. Sportsmanship Fail  The summer of 2011 was a tough time for NBA star LeBron James. It was full of lingering ill-will for his decision to the leave the Cleveland Cavaliers and snarky schadenfreude over his initial failure to win a championship with the Miami Heat. So it makes perfect sense that he\\'d let off some steam by viciously dunking on a tiny kid at summer camp, right? That\\'s what happens at the 0:43 mark of this video.           25. Standing on a Basketball Hoop Fail We\\'re not quite sure why this mascot thought standing on top of a basketball rim was a good idea.       '],\n",
       "       ...,\n",
       "       [\" There's nothing more helpless than the middle of summer feeling when you can't escape the sweltering heat. When it's hot and the A.C. isn't kicking in (or worse, isn't working at all), your irritability flares with each bead of sweat dripping down your face and back. These overheated dogs know just how you feel. See also: 100 Hottest Chicks on Instagram Your skin turns irritatingly red. You're absolutely paralyzed by heat exhaustion. You've got ketchup on your face, and no one was kind enough to tell you. We can all relate with these scorched dogs, and take comfort in the fact that we're not them.   14 Dogs That Frankly Cannot Take the Heat           Image: Imgur, YuffieK            Image: Flickr, The Busy Brain            Image: Imgur, ______MACHETE______            Image: Imgur, Thecatsareok            Image: Imgur, kyussgreen            Image: Imgur, ListenHereYouLittleShit            Image: @contiki on Instagram            Image: @mariatheresaapit on Instagram            Image: @caitlinmckmeow on Instagram            Image: Imgur, iidosee            Image: Flickr, Jes            Image: Flickr, The Busy Brain            Image: Flickr, stevendepolo          #roastedhotdogs for supper! #yum #food #summer13 #delicious  Image: @jcherps on Instagram      \"],\n",
       "       [' Yahoo\\'s profits in the first quarter beat Wall Street estimates, but the company\\'s core advertising business still appears to be heading in the wrong direction.  Yahoo reported earnings-per-share of $0.38 on revenue of $1.07 billion for the March quarter, beating the consensus estimate for earnings of $0.24 per share, but coming in below the $1.1 billion in revenue that analysts had expected. The stock declined by as much as 4% in after hours trading following the earnings release. Search revenue increased by 6% from the same quarter a year ago to $384 million, but that wasn\\'t enough to offset falling advertising revenues. Display revenues were particularly disappointing, declining by 11% year-over-year to $402 million, and price-per-click decreased 7%. Yahoo\\'s $1.1 billion in revenue was down from $1.22 billion in the March quarter of 2012.  The earnings report confirms that Yahoo and its new CEO Marissa Mayer are making headway on search, but have yet to figure out how to staunch the bleeding from display revenue, which is a key part of the business.  In a statement, Mayer emphasized that Yahoo\\'s business is stabilizing and her team is taking steps for long-term growth. \"We saw continued stability in our business, strengthened our team, and started the year with fast execution against our products and partnerships,\" Mayer said. \"We are moving quickly to roll out beautifully designed, more intuitive experiences for our users. I’m confident that the improvements we’re making to our products will set up the Company for long-term growth.\"  YHOO data by YCharts Mayer, who joined Yahoo from Google in July, has attempted to change the company\\'s culture by initiating regular town hall meetings and free food — common at other Silicon Valley companies — and by forcing all employees to report in to the office rather than working from home. Mayer has also acquired six startups including Stamped, Jybe and OnTheAir to bring engineering talent to Yahoo and build up its mobile team. Some of these moves have generated a fair amount of criticism, including the work-from-home decision, Mayer\\'s determination to personally approve every new hire and Yahoo\\'s recent $30 million acquisition of Summly, a mobile news startup run by a 17-year old. Even so, investors have remained confident in Mayer and the stock has generally continued on an upward trajectory. Yahoo\\'s stock has been hovering just below $25 in recent days, its highest level in nearly five years and an increase of about 50% from where it was six months ago, as investors have shown renewed optimism in the company and Mayer\\'s leadership. Image via Getty, Justin Sullivan '],\n",
       "       [\"  Originality. Creativity. Ingenuity. In addition to a thriving tech scene and legendary love of music, these are the things that drive two of the most innovative and trailblazing cities in the world — London and Austin. To celebrate British Airways’ new direct route between the two cities, Mashable challenged the UK community to tweet their most groundbreaking ideas for how to improve travel. Five lucky winners were invited to join us in Austin for a whirlwind five-day tour that included fantastic food, great music and an up-close look at Austin’s burgeoning tech scene. See also: Announcing the Best Travel Innovations From Our #CurioCity Contest After their direct flight from London via British Airways’ new 787 Dreamliner, the winners kicked off their trip with dinner at the iconic Lamberts Downtown Barbecue in the heart of Austin. The group’s visit coincided with Austin Startup Week, a five-day series of events dedicated to furthering local entrepreneurship and small businesses. It began with the ATX Startup Crawl, where participants were able to visit with local startups and mingle with the community. The first stop? Capital Factory, an Austin accelerator committed to fostering the success of Austin’s startups. On Friday, winners traveled to Round Rock to visit TechShop, a member-based workshop that gives community members and startups access to professional tools, software and space. There, they toured the facilities and were able to take a class in MakerBot software in order to produce their own 3D print.  3D printing in 6 seconds #CurioCity #Austin https://t.co/XuSoPcNHSB — Mike Gilmour (@mike777999) October 10, 2014  The visit was followed by British Airways’ and Mashable’s Austin Bash, which brought together the best of both Austin’s startup and music communities. The celebration included activations by Rif Station, a menu blending Austin and British cuisines, custom cocktails and indie rock bands The Sour Notes and Catfish and The Bottlemen.     Loading  \\xa0  Amazing day at the Austin City Limits music festival. Such a cool festival. #curiocity #Austin #Texas #aclfestival #KeepAustinWeird  View on Instagram  Also on the itinerary was a stop at Austin City Limits, one of the country's most renowned music festivals, to celebrate the city's long-standing musical roots. Our winners joined others at the festival's VIP lounge, which offered free food, drinks and even haircuts, to enjoy a lineup of performers including everyone from Lana Del Rey to Skrillex.  Spending the day in the VIP area at #ACLFest. This place is AWESOME. #CurioCity — Mike Gilmour (@mike777999) October 12, 2014  They capped off their trip with a taste of Austin’s famous Tex-Mex - including flautas, guacamole and street corn - before returning to London.     Loading  \\xa0  Food porn corn  View on Instagram  With British Airways' new direct flight from London, UK to Austin, Texas, the two cities are closer than ever, feeding off each others' creativity and innovation in the startup tech world and beyond.  \"]],\n",
       "      dtype=object)"
      ]
     },
     "execution_count": 33,
     "metadata": {},
     "output_type": "execute_result"
    }
   ],
   "source": [
    "X_train_content"
   ]
  },
  {
   "cell_type": "code",
   "execution_count": 39,
   "metadata": {},
   "outputs": [
    {
     "name": "stdout",
     "output_type": "stream",
     "text": [
      "[2000/27643] 0.48590895261885314\n",
      "[4000/27643] 0.49758488962644953\n",
      "[6000/27643] 0.4998939995759983\n",
      "[8000/27643] 0.5225890112704917\n",
      "[10000/27643] 0.5344087105554995\n",
      "[12000/27643] 0.5274909896756284\n",
      "[14000/27643] 0.5325165353574559\n",
      "[16000/27643] 0.5521838786196303\n",
      "[18000/27643] 0.511588271301175\n",
      "[20000/27643] 0.48708135900796445\n",
      "[22000/27643] 0.5246742123463115\n",
      "[24000/27643] 0.5373565977055633\n",
      "[26000/27643] 0.5085060340241361\n",
      "[28000/27643] 0.5203692593524414\n"
     ]
    }
   ],
   "source": [
    "from sklearn.feature_extraction.text import HashingVectorizer\n",
    "from sklearn.linear_model import SGDClassifier\n",
    "from sklearn.metrics import roc_auc_score\n",
    "import numpy as np\n",
    "\n",
    "X_train_title, y_train = train_preprocess_df['Title'].values, train_preprocess_df['Popularity'].values\n",
    "X_train_content = train_preprocess_df['Content'].values\n",
    "X_train_2 = train_preprocess_df[['WordCount', 'VideoCount', 'Day']].values\n",
    "\n",
    "def train_and_validate_model(X_train, X_train_2, X_train_opt=None, y_train=y_train, batch_size=1000, n_features=2**10, max_iter=20, tol=1e-3):\n",
    "    hashvec = HashingVectorizer(n_features=n_features, preprocessor=None, tokenizer=tokenizer_stem_nostop)\n",
    "\n",
    "    # loss='log' gives logistic regression\n",
    "    clf = SGDClassifier(loss='log_loss', max_iter=max_iter, tol=tol)\n",
    "    \n",
    "    stream_X = chunk(X_train, batch_size)\n",
    "    stream_X2 = chunk(X_train_2, batch_size)\n",
    "    stream_y = chunk(y_train, batch_size)\n",
    "    stream_x_opt = chunk(X_train_opt, batch_size) if X_train_opt is not None else None\n",
    "\n",
    "    classes = np.array([-1, 1])\n",
    "    train_auc, val_auc = [], []\n",
    "\n",
    "    # we use one batch for training and another for validation in each iteration\n",
    "    iters = int((len(X_train) + batch_size - 1) / (batch_size * 2))\n",
    "\n",
    "    for i in range(iters):\n",
    "        stream_x_chunk = next(stream_X)\n",
    "        stream_x2_chunk = next(stream_X2)\n",
    "        stream_y_chunk = next(stream_y)\n",
    "        stream_x_opt_chunk = next(stream_x_opt) if stream_x_opt is not None else None\n",
    "        if stream_x_chunk is None:\n",
    "            break\n",
    "        stream_x_chunk = hashvec.transform(stream_x_chunk)\n",
    "        if stream_x_opt_chunk:\n",
    "            stream_x_opt_chunk = hashvec.transform(stream_x_opt_chunk)\n",
    "            stream_train_combined = np.concatenate((stream_x_chunk.toarray(), stream_x_opt_chunk.toarray(), stream_x2_chunk), axis=1)\n",
    "        else:\n",
    "            stream_train_combined = np.concatenate((stream_x_chunk.toarray(), stream_x2_chunk), axis=1)\n",
    "\n",
    "        clf.partial_fit(stream_train_combined, stream_y_chunk, classes=classes)\n",
    "        train_auc.append(roc_auc_score(stream_y_chunk, clf.predict_proba(stream_train_combined)[:, 1]))\n",
    "\n",
    "        # validate\n",
    "        X_val, y_val = next(stream_X), next(stream_y)\n",
    "        X_val_2 = next(stream_X2)\n",
    "        X_val_opt = next(stream_x_opt) if stream_x_opt is not None else None\n",
    "\n",
    "\n",
    "        X_val = hashvec.transform(X_val)\n",
    "        if X_val_opt:\n",
    "            X_val_opt = hashvec.transform(X_val_opt)\n",
    "            X_val_combined = np.concatenate((X_val.toarray(), X_val_opt.toarray(), X_val_2), axis=1)\n",
    "        else:\n",
    "            X_val_combined = np.concatenate((X_val.toarray(), X_val_2), axis=1)\n",
    "        score = roc_auc_score(y_val, clf.predict_proba(X_val_combined)[:, 1])\n",
    "        val_auc.append(score)\n",
    "        print('[{}/{}] {}'.format((i + 1) * (batch_size * 2), len(X_train), score))\n",
    "    \n",
    "    return train_auc, val_auc, clf\n",
    "\n",
    "train_auc, val_auc, clf = train_and_validate_model(X_train_title, X_train_2, X_train_content, y_train)\n"
   ]
  },
  {
   "cell_type": "code",
   "execution_count": 40,
   "metadata": {},
   "outputs": [],
   "source": [
    "# from sklearn.feature_extraction.text import HashingVectorizer\n",
    "# from sklearn.linear_model import SGDClassifier\n",
    "# from sklearn.metrics import roc_auc_score\n",
    "# import scipy\n",
    "\n",
    "# hashvec = HashingVectorizer(n_features=2**10,\n",
    "#                             preprocessor=None, tokenizer=tokenizer_stem_nostop)\n",
    "\n",
    "# # loss='log' gives logistic regression\n",
    "# clf = SGDClassifier(loss='log_loss', max_iter=20, tol=1e-3)\n",
    "# batch_size = 1000\n",
    "# X_train, y_train = train_preprocess_df['Title'].values, train_preprocess_df['Popularity'].values\n",
    "# X_train_2 = train_preprocess_df[['Content', 'Video', 'Day']].values\n",
    "# # print(X_train_2.iloc[:2,:])\n",
    "# stream_X = chunk(X_train, batch_size)\n",
    "# stream_X2 = chunk(X_train_2, batch_size)\n",
    "# stream_y = chunk(y_train, batch_size)\n",
    "\n",
    "# classes = np.array([-1, 1])\n",
    "# train_auc, val_auc = [], []\n",
    "# # we use one batch for training and another for validation in each iteration\n",
    "# iters = int((25000+batch_size-1)/(batch_size*2))\n",
    "\n",
    "# for i in range(iters):\n",
    "#     stream_x_chunk = next(stream_X)\n",
    "#     stream_x2_chunk = next(stream_X2)\n",
    "#     stream_y_chunk = next(stream_y)\n",
    "#     if stream_x_chunk is None:\n",
    "#         break\n",
    "#     stream_x_chunk = hashvec.transform(stream_x_chunk)\n",
    "\n",
    "#     stream_train_combined = np.concatenate((stream_x_chunk.toarray(), stream_x2_chunk), axis=1)\n",
    "#     clf.partial_fit(stream_train_combined, stream_y_chunk, classes=classes)\n",
    "#     train_auc.append(roc_auc_score(stream_y_chunk, clf.predict_proba(stream_train_combined)[:,1]))\n",
    "#     # print(X_train.shape, X_train_2.shape)   \n",
    "\n",
    "#     # # validate\n",
    "#     X_val, y_val = next(stream_X), next(stream_y)\n",
    "#     # print(X_val.shape, X_val_2.shape)\n",
    "#     X_val_2 = next(stream_X2)\n",
    "\n",
    "\n",
    "#     X_val = hashvec.transform(X_val)\n",
    "#     X_val_combined = np.concatenate((X_val.toarray(), X_val_2), axis=1)\n",
    "#     score = roc_auc_score(y_val, clf.predict_proba(X_val_combined)[:,1])\n",
    "#     val_auc.append(score)\n",
    "#     print('[{}/{}] {}'.format((i+1)*(batch_size*2), 25000, score))\n"
   ]
  },
  {
   "cell_type": "code",
   "execution_count": 41,
   "metadata": {},
   "outputs": [],
   "source": [
    "from sklearn.model_selection import cross_val_score\n",
    "from sklearn.ensemble import RandomForestClassifier\n",
    "\n",
    "hashvec = HashingVectorizer(n_features=2**10, preprocessor=None, tokenizer=tokenizer_stem_nostop)\n",
    "X_train_combined_ = np.concatenate((hashvec.transform(X_train_title).toarray(), hashvec.transform(X_train_content).toarray(), X_train_2), axis=1)\n",
    "y_train = train_preprocess_df['Popularity'].values\n",
    "\n",
    "scores = cross_val_score(estimator=RandomForestClassifier(max_depth=4, random_state=0),\n",
    "                         X=X_train_combined_, y=y_train,\n",
    "                         cv=10, scoring='roc_auc')"
   ]
  },
  {
   "cell_type": "code",
   "execution_count": 42,
   "metadata": {},
   "outputs": [
    {
     "data": {
      "text/plain": [
       "array([0.54818031, 0.56624458, 0.55319279, 0.53970175, 0.54342643,\n",
       "       0.55868777, 0.54109946, 0.55318232, 0.55257119, 0.55697848])"
      ]
     },
     "execution_count": 42,
     "metadata": {},
     "output_type": "execute_result"
    }
   ],
   "source": [
    "scores"
   ]
  },
  {
   "cell_type": "code",
   "execution_count": 43,
   "metadata": {},
   "outputs": [
    {
     "data": {
      "text/html": [
       "<style>#sk-container-id-1 {color: black;}#sk-container-id-1 pre{padding: 0;}#sk-container-id-1 div.sk-toggleable {background-color: white;}#sk-container-id-1 label.sk-toggleable__label {cursor: pointer;display: block;width: 100%;margin-bottom: 0;padding: 0.3em;box-sizing: border-box;text-align: center;}#sk-container-id-1 label.sk-toggleable__label-arrow:before {content: \"▸\";float: left;margin-right: 0.25em;color: #696969;}#sk-container-id-1 label.sk-toggleable__label-arrow:hover:before {color: black;}#sk-container-id-1 div.sk-estimator:hover label.sk-toggleable__label-arrow:before {color: black;}#sk-container-id-1 div.sk-toggleable__content {max-height: 0;max-width: 0;overflow: hidden;text-align: left;background-color: #f0f8ff;}#sk-container-id-1 div.sk-toggleable__content pre {margin: 0.2em;color: black;border-radius: 0.25em;background-color: #f0f8ff;}#sk-container-id-1 input.sk-toggleable__control:checked~div.sk-toggleable__content {max-height: 200px;max-width: 100%;overflow: auto;}#sk-container-id-1 input.sk-toggleable__control:checked~label.sk-toggleable__label-arrow:before {content: \"▾\";}#sk-container-id-1 div.sk-estimator input.sk-toggleable__control:checked~label.sk-toggleable__label {background-color: #d4ebff;}#sk-container-id-1 div.sk-label input.sk-toggleable__control:checked~label.sk-toggleable__label {background-color: #d4ebff;}#sk-container-id-1 input.sk-hidden--visually {border: 0;clip: rect(1px 1px 1px 1px);clip: rect(1px, 1px, 1px, 1px);height: 1px;margin: -1px;overflow: hidden;padding: 0;position: absolute;width: 1px;}#sk-container-id-1 div.sk-estimator {font-family: monospace;background-color: #f0f8ff;border: 1px dotted black;border-radius: 0.25em;box-sizing: border-box;margin-bottom: 0.5em;}#sk-container-id-1 div.sk-estimator:hover {background-color: #d4ebff;}#sk-container-id-1 div.sk-parallel-item::after {content: \"\";width: 100%;border-bottom: 1px solid gray;flex-grow: 1;}#sk-container-id-1 div.sk-label:hover label.sk-toggleable__label {background-color: #d4ebff;}#sk-container-id-1 div.sk-serial::before {content: \"\";position: absolute;border-left: 1px solid gray;box-sizing: border-box;top: 0;bottom: 0;left: 50%;z-index: 0;}#sk-container-id-1 div.sk-serial {display: flex;flex-direction: column;align-items: center;background-color: white;padding-right: 0.2em;padding-left: 0.2em;position: relative;}#sk-container-id-1 div.sk-item {position: relative;z-index: 1;}#sk-container-id-1 div.sk-parallel {display: flex;align-items: stretch;justify-content: center;background-color: white;position: relative;}#sk-container-id-1 div.sk-item::before, #sk-container-id-1 div.sk-parallel-item::before {content: \"\";position: absolute;border-left: 1px solid gray;box-sizing: border-box;top: 0;bottom: 0;left: 50%;z-index: -1;}#sk-container-id-1 div.sk-parallel-item {display: flex;flex-direction: column;z-index: 1;position: relative;background-color: white;}#sk-container-id-1 div.sk-parallel-item:first-child::after {align-self: flex-end;width: 50%;}#sk-container-id-1 div.sk-parallel-item:last-child::after {align-self: flex-start;width: 50%;}#sk-container-id-1 div.sk-parallel-item:only-child::after {width: 0;}#sk-container-id-1 div.sk-dashed-wrapped {border: 1px dashed gray;margin: 0 0.4em 0.5em 0.4em;box-sizing: border-box;padding-bottom: 0.4em;background-color: white;}#sk-container-id-1 div.sk-label label {font-family: monospace;font-weight: bold;display: inline-block;line-height: 1.2em;}#sk-container-id-1 div.sk-label-container {text-align: center;}#sk-container-id-1 div.sk-container {/* jupyter's `normalize.less` sets `[hidden] { display: none; }` but bootstrap.min.css set `[hidden] { display: none !important; }` so we also need the `!important` here to be able to override the default hidden behavior on the sphinx rendered scikit-learn.org. See: https://github.com/scikit-learn/scikit-learn/issues/21755 */display: inline-block !important;position: relative;}#sk-container-id-1 div.sk-text-repr-fallback {display: none;}</style><div id=\"sk-container-id-1\" class=\"sk-top-container\"><div class=\"sk-text-repr-fallback\"><pre>RandomForestClassifier(max_depth=4, random_state=0)</pre><b>In a Jupyter environment, please rerun this cell to show the HTML representation or trust the notebook. <br />On GitHub, the HTML representation is unable to render, please try loading this page with nbviewer.org.</b></div><div class=\"sk-container\" hidden><div class=\"sk-item\"><div class=\"sk-estimator sk-toggleable\"><input class=\"sk-toggleable__control sk-hidden--visually\" id=\"sk-estimator-id-1\" type=\"checkbox\" checked><label for=\"sk-estimator-id-1\" class=\"sk-toggleable__label sk-toggleable__label-arrow\">RandomForestClassifier</label><div class=\"sk-toggleable__content\"><pre>RandomForestClassifier(max_depth=4, random_state=0)</pre></div></div></div></div></div>"
      ],
      "text/plain": [
       "RandomForestClassifier(max_depth=4, random_state=0)"
      ]
     },
     "execution_count": 43,
     "metadata": {},
     "output_type": "execute_result"
    }
   ],
   "source": [
    "forest = RandomForestClassifier(max_depth=4, random_state=0)\n",
    "forest.fit(X_train_combined_, y_train)"
   ]
  },
  {
   "cell_type": "code",
   "execution_count": 46,
   "metadata": {},
   "outputs": [
    {
     "name": "stdout",
     "output_type": "stream",
     "text": [
      "[0.49190449 0.49327882 0.48912734 ... 0.48529063 0.48017796 0.48947631]\n"
     ]
    }
   ],
   "source": [
    "X_train_title, y_train = train_preprocess_df['Title'].values, train_preprocess_df['Popularity'].values\n",
    "X_train_content = train_preprocess_df['Content'].values\n",
    "X_train_2 = train_preprocess_df[['WordCount', 'VideoCount', 'Day']].values\n",
    "\n",
    "X_test_title = test_preprocess_df['Title'].values\n",
    "X_test_content = test_preprocess_df['Content'].values\n",
    "X_test_2 = test_preprocess_df[['WordCount', 'VideoCount', 'Day']].values\n",
    "X_test_combined = np.concatenate((hashvec.transform(X_test_title).toarray(), hashvec.transform(X_test_content).toarray(), X_test_2), axis=1)\n",
    "y_pred = forest.predict_proba(X_test_combined)\n",
    "y_pred = y_pred[:,1]\n",
    "print(y_pred)"
   ]
  },
  {
   "cell_type": "code",
   "execution_count": 47,
   "metadata": {},
   "outputs": [],
   "source": [
    "# write to csv\n",
    "df = pd.DataFrame({'Id': test['Id'], 'Popularity': y_pred})\n",
    "df.to_csv('data/submission_new.csv', index=False)"
   ]
  },
  {
   "cell_type": "markdown",
   "metadata": {},
   "source": [
    "# Unused"
   ]
  },
  {
   "cell_type": "code",
   "execution_count": null,
   "metadata": {},
   "outputs": [],
   "source": [
    "X_test = test_preprocess_new['Content']\n",
    "X_test = hashvec.transform(X_test)\n",
    "value = clf.predict_proba(X_test)[:,1]\n",
    "value"
   ]
  },
  {
   "cell_type": "code",
   "execution_count": null,
   "metadata": {},
   "outputs": [
    {
     "data": {
      "text/plain": [
       "array([0.57508175, 0.55360073, 0.54464689, 0.55504806, 0.5576876 ,\n",
       "       0.57226605, 0.53132727, 0.56208033, 0.54998534, 0.56133107])"
      ]
     },
     "execution_count": 28,
     "metadata": {},
     "output_type": "execute_result"
    }
   ],
   "source": [
    "scores"
   ]
  },
  {
   "cell_type": "code",
   "execution_count": null,
   "metadata": {},
   "outputs": [
    {
     "data": {
      "text/html": [
       "<div>\n",
       "<style scoped>\n",
       "    .dataframe tbody tr th:only-of-type {\n",
       "        vertical-align: middle;\n",
       "    }\n",
       "\n",
       "    .dataframe tbody tr th {\n",
       "        vertical-align: top;\n",
       "    }\n",
       "\n",
       "    .dataframe thead th {\n",
       "        text-align: right;\n",
       "    }\n",
       "</style>\n",
       "<table border=\"1\" class=\"dataframe\">\n",
       "  <thead>\n",
       "    <tr style=\"text-align: right;\">\n",
       "      <th></th>\n",
       "      <th>Title</th>\n",
       "      <th>Content</th>\n",
       "      <th>Video</th>\n",
       "      <th>Day</th>\n",
       "      <th>Time</th>\n",
       "    </tr>\n",
       "  </thead>\n",
       "  <tbody>\n",
       "    <tr>\n",
       "      <th>0</th>\n",
       "      <td>soccer star gets twitter death threats after t...</td>\n",
       "      <td>0.062993</td>\n",
       "      <td>0.076923</td>\n",
       "      <td>0.142857</td>\n",
       "      <td>0.824306</td>\n",
       "    </tr>\n",
       "    <tr>\n",
       "      <th>1</th>\n",
       "      <td>google glass gets an accessory store</td>\n",
       "      <td>0.015533</td>\n",
       "      <td>0.000000</td>\n",
       "      <td>0.571429</td>\n",
       "      <td>0.392361</td>\n",
       "    </tr>\n",
       "    <tr>\n",
       "      <th>2</th>\n",
       "      <td>ouya gaming console already sold out on amazon</td>\n",
       "      <td>0.018245</td>\n",
       "      <td>0.000000</td>\n",
       "      <td>0.285714</td>\n",
       "      <td>0.537500</td>\n",
       "    </tr>\n",
       "    <tr>\n",
       "      <th>3</th>\n",
       "      <td>between two ferns mocks oscar nominees</td>\n",
       "      <td>0.016889</td>\n",
       "      <td>0.043956</td>\n",
       "      <td>0.428571</td>\n",
       "      <td>0.145833</td>\n",
       "    </tr>\n",
       "    <tr>\n",
       "      <th>4</th>\n",
       "      <td>american sniper trailer looks like eastwood m...</td>\n",
       "      <td>0.025025</td>\n",
       "      <td>0.010989</td>\n",
       "      <td>0.714286</td>\n",
       "      <td>0.065278</td>\n",
       "    </tr>\n",
       "    <tr>\n",
       "      <th>...</th>\n",
       "      <td>...</td>\n",
       "      <td>...</td>\n",
       "      <td>...</td>\n",
       "      <td>...</td>\n",
       "      <td>...</td>\n",
       "    </tr>\n",
       "    <tr>\n",
       "      <th>11842</th>\n",
       "      <td>check out twitter co founders beautiful new of...</td>\n",
       "      <td>0.013190</td>\n",
       "      <td>0.000000</td>\n",
       "      <td>0.857143</td>\n",
       "      <td>0.875000</td>\n",
       "    </tr>\n",
       "    <tr>\n",
       "      <th>11843</th>\n",
       "      <td>fish out of water is an adorably addictive io...</td>\n",
       "      <td>0.067678</td>\n",
       "      <td>0.000000</td>\n",
       "      <td>0.571429</td>\n",
       "      <td>0.793750</td>\n",
       "    </tr>\n",
       "    <tr>\n",
       "      <th>11844</th>\n",
       "      <td>if music services influenced grammys this is w...</td>\n",
       "      <td>0.117973</td>\n",
       "      <td>0.241758</td>\n",
       "      <td>0.428571</td>\n",
       "      <td>0.984722</td>\n",
       "    </tr>\n",
       "    <tr>\n",
       "      <th>11845</th>\n",
       "      <td>google s nexus 7 comes to europe australia and...</td>\n",
       "      <td>0.014053</td>\n",
       "      <td>0.000000</td>\n",
       "      <td>0.428571</td>\n",
       "      <td>0.359028</td>\n",
       "    </tr>\n",
       "    <tr>\n",
       "      <th>11846</th>\n",
       "      <td>even samsung can t screw up the galaxy tab s</td>\n",
       "      <td>0.215483</td>\n",
       "      <td>0.010989</td>\n",
       "      <td>0.285714</td>\n",
       "      <td>0.541667</td>\n",
       "    </tr>\n",
       "  </tbody>\n",
       "</table>\n",
       "<p>11847 rows × 5 columns</p>\n",
       "</div>"
      ],
      "text/plain": [
       "                                                   Title   Content     Video   \n",
       "0      soccer star gets twitter death threats after t...  0.062993  0.076923  \\\n",
       "1                  google glass gets an accessory store   0.015533  0.000000   \n",
       "2        ouya gaming console already sold out on amazon   0.018245  0.000000   \n",
       "3                between two ferns mocks oscar nominees   0.016889  0.043956   \n",
       "4       american sniper trailer looks like eastwood m...  0.025025  0.010989   \n",
       "...                                                  ...       ...       ...   \n",
       "11842  check out twitter co founders beautiful new of...  0.013190  0.000000   \n",
       "11843   fish out of water is an adorably addictive io...  0.067678  0.000000   \n",
       "11844  if music services influenced grammys this is w...  0.117973  0.241758   \n",
       "11845  google s nexus 7 comes to europe australia and...  0.014053  0.000000   \n",
       "11846      even samsung can t screw up the galaxy tab s   0.215483  0.010989   \n",
       "\n",
       "            Day      Time  \n",
       "0      0.142857  0.824306  \n",
       "1      0.571429  0.392361  \n",
       "2      0.285714  0.537500  \n",
       "3      0.428571  0.145833  \n",
       "4      0.714286  0.065278  \n",
       "...         ...       ...  \n",
       "11842  0.857143  0.875000  \n",
       "11843  0.571429  0.793750  \n",
       "11844  0.428571  0.984722  \n",
       "11845  0.428571  0.359028  \n",
       "11846  0.285714  0.541667  \n",
       "\n",
       "[11847 rows x 5 columns]"
      ]
     },
     "execution_count": 40,
     "metadata": {},
     "output_type": "execute_result"
    }
   ],
   "source": [
    "test_preprocess_df"
   ]
  },
  {
   "cell_type": "code",
   "execution_count": null,
   "metadata": {},
   "outputs": [
    {
     "data": {
      "text/plain": [
       "array([0.60918488, 0.78922888, 0.71792457, ..., 0.92055328, 0.79249171,\n",
       "       0.73539595])"
      ]
     },
     "execution_count": 42,
     "metadata": {},
     "output_type": "execute_result"
    }
   ],
   "source": [
    "X_test = hashvec.transform(test_preprocess_df['Title'])\n",
    "X_test_2 = test_preprocess_df[['Content', 'Video', 'Day', 'Time']].values\n",
    "X_val_combined = np.concatenate((X_test.toarray(), X_test_2), axis=1)\n",
    "y_pred = clf.predict_proba(X_val_combined)[:,1]\n",
    "y_pred"
   ]
  },
  {
   "cell_type": "code",
   "execution_count": null,
   "metadata": {},
   "outputs": [],
   "source": [
    "# write to csv\n",
    "df = pd.DataFrame({'Id': test['Id'], 'Popularity': y_pred})\n",
    "df.to_csv('data/submission.csv', index=False)"
   ]
  },
  {
   "cell_type": "markdown",
   "metadata": {},
   "source": [
    "# Try Title Sentiment Analysis"
   ]
  },
  {
   "cell_type": "code",
   "execution_count": null,
   "metadata": {},
   "outputs": [],
   "source": [
    "# import nltk\n",
    "# from nltk.sentiment.vader import SentimentIntensityAnalyzer\n",
    "# sia = SentimentIntensityAnalyzer()"
   ]
  },
  {
   "cell_type": "code",
   "execution_count": null,
   "metadata": {},
   "outputs": [],
   "source": [
    "# classifier = nltk.classify.SklearnClassifier(LogisticRegression())\n",
    "# classifier.train(features)\n",
    "# test_preprocess_df['Popularity'] = test_preprocess_df['Title'].apply(lambda x: classifier.prob_classify(extract_features(x)))\n"
   ]
  },
  {
   "cell_type": "code",
   "execution_count": null,
   "metadata": {},
   "outputs": [],
   "source": [
    "# test_predict = test_preprocess_df['Popularity'].apply(lambda x: x.prob(1))"
   ]
  },
  {
   "cell_type": "code",
   "execution_count": null,
   "metadata": {},
   "outputs": [],
   "source": [
    "# test_predict.to_csv('data/test_predict.csv', index=False)"
   ]
  },
  {
   "cell_type": "code",
   "execution_count": null,
   "metadata": {},
   "outputs": [
    {
     "data": {
      "image/png": "[encoded data removed]",
      "text/plain": [
       "<Figure size 640x480 with 1 Axes>"
      ]
     },
     "metadata": {},
     "output_type": "display_data"
    }
   ],
   "source": [
    "# import os\n",
    "# if not os.path.exists('output'):\n",
    "#     os.mkdir('output')\n",
    "\n",
    "# import matplotlib.pyplot as plt\n",
    "\n",
    "# plt.plot(range(1, len(train_auc)+1), train_auc, color='blue', label='Train auc')\n",
    "# plt.plot(range(1, len(train_auc)+1), val_auc, color='red', label='Val auc')\n",
    "# plt.legend(loc=\"best\")\n",
    "# plt.xlabel('#Batches')\n",
    "# plt.ylabel('Auc')\n",
    "# plt.tight_layout()\n",
    "# plt.savefig('./output/fig-out-of-core.png', dpi=300)\n",
    "# plt.show()"
   ]
  },
  {
   "cell_type": "code",
   "execution_count": null,
   "metadata": {},
   "outputs": [
    {
     "data": {
      "text/plain": [
       "array([0.59867913, 0.71039762, 0.20938858, ..., 0.52613739, 0.40480274,\n",
       "       0.42310348])"
      ]
     },
     "execution_count": 28,
     "metadata": {},
     "output_type": "execute_result"
    }
   ],
   "source": [
    "# X_test = test_preprocess_new['Content']\n",
    "# X_test = hashvec.transform(X_test)\n",
    "# value = clf.predict_proba(X_test)[:,1]\n",
    "# value"
   ]
  },
  {
   "cell_type": "code",
   "execution_count": null,
   "metadata": {},
   "outputs": [],
   "source": [
    "# file = pd.concat([test[['Id']], pd.DataFrame(value, columns=['Popularity'])], axis=1)\n",
    "# file\n",
    "\n",
    "# file.to_csv('data/submission.csv', index=False)"
   ]
  }
 ],
 "metadata": {
  "kernelspec": {
   "display_name": "sleep-linear",
   "language": "python",
   "name": "python3"
  },
  "language_info": {
   "codemirror_mode": {
    "name": "ipython",
    "version": 3
   },
   "file_extension": ".py",
   "mimetype": "text/x-python",
   "name": "python",
   "nbconvert_exporter": "python",
   "pygments_lexer": "ipython3",
   "version": "3.9.16"
  }
 },
 "nbformat": 4,
 "nbformat_minor": 2
}
