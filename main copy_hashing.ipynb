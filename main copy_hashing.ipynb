{
 "cells": [
  {
   "cell_type": "markdown",
   "metadata": {},
   "source": [
    "# DataLab Cup 1 \n",
    "[Kaggle](https://www.kaggle.com/competitions/2023-datalab-cup1-predicting-news-popularity/data)"
   ]
  },
  {
   "cell_type": "code",
   "execution_count": 1,
   "metadata": {},
   "outputs": [],
   "source": [
    "import pandas as pd\n",
    "import numpy as np\n",
    "import matplotlib.pyplot as plt\n",
    "import seaborn as sns\n",
    "import re\n",
    "from bs4 import BeautifulSoup"
   ]
  },
  {
   "cell_type": "code",
   "execution_count": 2,
   "metadata": {},
   "outputs": [],
   "source": [
    "# load csv file\n",
    "train = pd.read_csv('data/train.csv')\n",
    "test = pd.read_csv('data/test.csv')"
   ]
  },
  {
   "cell_type": "markdown",
   "metadata": {},
   "source": []
  },
  {
   "cell_type": "code",
   "execution_count": 3,
   "metadata": {},
   "outputs": [
    {
     "name": "stdout",
     "output_type": "stream",
     "text": [
      "train.shape=(27643, 3)\n",
      "train.columns=Index(['Id', 'Popularity', 'Page content'], dtype='object')\n"
     ]
    }
   ],
   "source": [
    "print(f\"{train.shape=}\")\n",
    "print(f\"{train.columns=}\")"
   ]
  },
  {
   "cell_type": "markdown",
   "metadata": {},
   "source": [
    "#### Function Helper"
   ]
  },
  {
   "cell_type": "code",
   "execution_count": 4,
   "metadata": {},
   "outputs": [],
   "source": [
    "def get_day_time(datetime_value):\n",
    "    \"\"\"Extract the day of the week and time from a datetime string.\"\"\"\n",
    "    day = {'Sun': 0, 'Mon': 1, 'Tue': 2, 'Wed': 3, 'Thu': 4, 'Fri': 5, 'Sat':6}\n",
    "    value = {}\n",
    "\n",
    "    # Define a regular expression pattern to capture the day of the week and time\n",
    "    pattern = r'^(\\w+), (\\d+ \\w+ \\d{4}) (\\d+:\\d+)'\n",
    "\n",
    "    # Use re.search to find a match in the datetime value\n",
    "    match = re.search(pattern, datetime_value)\n",
    "\n",
    "    if match:\n",
    "        value['Day'] = day[match.group(1)]\n",
    "        value['Time'] = match.group(3)\n",
    "        # date = match.group(2)\n",
    "    else:\n",
    "        value['Day'] = 0\n",
    "        value['Time'] = '00:00'\n",
    "        # date = np.nan\n",
    "    \n",
    "    return value\n",
    "    \n",
    "def chunk(iterable, chunk_size):\n",
    "    \"\"\"Generates lists of `chunk_size` elements from `iterable`.\n",
    "    \n",
    "    \n",
    "    >>> list(chunk((2, 3, 5, 7), 3))\n",
    "    [[2, 3, 5], [7]]\n",
    "    >>> list(chunk((2, 3, 5, 7), 2))\n",
    "    [[2, 3], [5, 7]]\n",
    "    \"\"\"\n",
    "    iterable = iter(iterable)\n",
    "    while True:\n",
    "        chunk = []\n",
    "        try:\n",
    "            for _ in range(chunk_size):\n",
    "                chunk.append(next(iterable))\n",
    "            yield chunk\n",
    "        except StopIteration:\n",
    "            if chunk:\n",
    "                yield chunk\n",
    "            break"
   ]
  },
  {
   "cell_type": "code",
   "execution_count": 5,
   "metadata": {},
   "outputs": [],
   "source": [
    "def preprocessor(text):\n",
    "    # regex for matching emoticons, keep emoticons, ex: :), :-P, :-D\n",
    "    r = '(?::|;|=|X)(?:-)?(?:\\)|\\(|D|P)'\n",
    "    emoticons = re.findall(r, text)\n",
    "    text = re.sub(r, '', text)\n",
    "\n",
    "    # convert to lowercase and append all emoticons behind (with space in between)\n",
    "    # replace('-','') removes nose of emoticons\n",
    "    text = re.sub('[\\W]+', ' ', text.lower()) + ' ' + ' '.join(emoticons).replace('-','')\n",
    "    return text\n",
    "def tokenizer(text):\n",
    "    return re.split('\\s+', text.strip())\n",
    "\n",
    "from nltk.stem.porter import PorterStemmer\n",
    "import nltk\n",
    "from nltk.corpus import stopwords\n",
    "\n",
    "def tokenizer_stem(text):\n",
    "    porter = PorterStemmer()\n",
    "    return [porter.stem(word) for word in re.split('\\s+', text.strip())]\n",
    "\n",
    "# nltk.download('stopwords')\n",
    "stop = stopwords.words('english')\n",
    "\n",
    "def tokenizer_stem_nostop(text):\n",
    "    porter = PorterStemmer()\n",
    "    return [porter.stem(w) for w in re.split('\\s+', text.strip()) \\\n",
    "            if w not in stop and re.match('[a-zA-Z]+', w)]"
   ]
  },
  {
   "cell_type": "code",
   "execution_count": 6,
   "metadata": {},
   "outputs": [],
   "source": [
    "from icecream import ic\n",
    "def preprocess(data):\n",
    "    soup = BeautifulSoup(data, 'html.parser')\n",
    "\n",
    "    title = soup.find('h1', class_='title').text\n",
    "    day = \"Mon\"\n",
    "    day_time = {'Day': 0, 'Time': '00:00'}\n",
    "    try:\n",
    "        day = soup.find('time').get('datetime')\n",
    "        day_time = get_day_time(day)\n",
    "    except:\n",
    "        pass\n",
    "\n",
    "    content_element = soup.find('section', class_='article-content')\n",
    "    content = content_element.text\n",
    "    arr = [title, content, day_time['Day'], day_time['Time']]\n",
    "    # arr = [title, content, day]\n",
    "    # ic(title.text)\n",
    "    # ic(get_day_time(day))\n",
    "    # ic(content)\n",
    "    for i, ele in enumerate(arr[:-2]):\n",
    "        arr[i] = preprocessor(ele)\n",
    "    return arr"
   ]
  },
  {
   "cell_type": "markdown",
   "metadata": {},
   "source": [
    "### Preprocessing"
   ]
  },
  {
   "cell_type": "code",
   "execution_count": 7,
   "metadata": {},
   "outputs": [],
   "source": [
    "train_preprocess = train['Page content'].apply(preprocess)\n",
    "test_preprocess = test['Page content'].apply(preprocess)"
   ]
  },
  {
   "cell_type": "code",
   "execution_count": 8,
   "metadata": {},
   "outputs": [],
   "source": [
    "train_preprocess_new = pd.DataFrame(train_preprocess.to_list(), columns=['Title', 'Content', 'Day', 'Time'])\n",
    "test_preprocess_new = pd.DataFrame(test_preprocess.to_list(), columns=['Title', 'Content', 'Day', 'Time'])\n",
    "\n",
    "train_preprocess_new = pd.concat([train_preprocess_new, train[['Popularity']]], axis=1)\n",
    "test_preprocess_new = pd.concat([test_preprocess_new], axis=1)"
   ]
  },
  {
   "cell_type": "code",
   "execution_count": 9,
   "metadata": {},
   "outputs": [
    {
     "data": {
      "text/html": [
       "<div>\n",
       "<style scoped>\n",
       "    .dataframe tbody tr th:only-of-type {\n",
       "        vertical-align: middle;\n",
       "    }\n",
       "\n",
       "    .dataframe tbody tr th {\n",
       "        vertical-align: top;\n",
       "    }\n",
       "\n",
       "    .dataframe thead th {\n",
       "        text-align: right;\n",
       "    }\n",
       "</style>\n",
       "<table border=\"1\" class=\"dataframe\">\n",
       "  <thead>\n",
       "    <tr style=\"text-align: right;\">\n",
       "      <th></th>\n",
       "      <th>Title</th>\n",
       "      <th>Content</th>\n",
       "      <th>Day</th>\n",
       "      <th>Time</th>\n",
       "      <th>Popularity</th>\n",
       "    </tr>\n",
       "  </thead>\n",
       "  <tbody>\n",
       "    <tr>\n",
       "      <th>0</th>\n",
       "      <td>nasa s grand challenge stop asteroids from des...</td>\n",
       "      <td>there may be killer asteroids headed for eart...</td>\n",
       "      <td>3</td>\n",
       "      <td>15:04</td>\n",
       "      <td>-1</td>\n",
       "    </tr>\n",
       "    <tr>\n",
       "      <th>1</th>\n",
       "      <td>google s new open source patent pledge we won ...</td>\n",
       "      <td>google took a stand of sorts against patent l...</td>\n",
       "      <td>4</td>\n",
       "      <td>17:40</td>\n",
       "      <td>1</td>\n",
       "    </tr>\n",
       "    <tr>\n",
       "      <th>2</th>\n",
       "      <td>ballin 2014 nfl draft picks get to choose thei...</td>\n",
       "      <td>you ve spend countless hours training to be a...</td>\n",
       "      <td>3</td>\n",
       "      <td>19:15</td>\n",
       "      <td>1</td>\n",
       "    </tr>\n",
       "    <tr>\n",
       "      <th>3</th>\n",
       "      <td>cameraperson fails deliver slapstick laughs</td>\n",
       "      <td>tired of the same old sports fails and news f...</td>\n",
       "      <td>5</td>\n",
       "      <td>02:26</td>\n",
       "      <td>-1</td>\n",
       "    </tr>\n",
       "    <tr>\n",
       "      <th>4</th>\n",
       "      <td>nfl star helps young fan prove friendship with...</td>\n",
       "      <td>at 6 foot 5 and 298 pounds all pro nfl star j...</td>\n",
       "      <td>4</td>\n",
       "      <td>03:31</td>\n",
       "      <td>-1</td>\n",
       "    </tr>\n",
       "  </tbody>\n",
       "</table>\n",
       "</div>"
      ],
      "text/plain": [
       "                                               Title   \n",
       "0  nasa s grand challenge stop asteroids from des...  \\\n",
       "1  google s new open source patent pledge we won ...   \n",
       "2  ballin 2014 nfl draft picks get to choose thei...   \n",
       "3       cameraperson fails deliver slapstick laughs    \n",
       "4  nfl star helps young fan prove friendship with...   \n",
       "\n",
       "                                             Content  Day   Time  Popularity  \n",
       "0   there may be killer asteroids headed for eart...    3  15:04          -1  \n",
       "1   google took a stand of sorts against patent l...    4  17:40           1  \n",
       "2   you ve spend countless hours training to be a...    3  19:15           1  \n",
       "3   tired of the same old sports fails and news f...    5  02:26          -1  \n",
       "4   at 6 foot 5 and 298 pounds all pro nfl star j...    4  03:31          -1  "
      ]
     },
     "execution_count": 9,
     "metadata": {},
     "output_type": "execute_result"
    }
   ],
   "source": [
    "train_preprocess_new.head()"
   ]
  },
  {
   "cell_type": "code",
   "execution_count": 10,
   "metadata": {},
   "outputs": [],
   "source": [
    "# file = pd.concat([train[['Id', 'Popularity']], train_preprocess_new], axis=1)\n",
    "# file.to_csv('data/train_preprocess.csv', index=False)"
   ]
  },
  {
   "cell_type": "code",
   "execution_count": 11,
   "metadata": {},
   "outputs": [],
   "source": [
    "# def strip_author(text):\n",
    "#     # text = \"by brian anthony hernandez2014 08 11 05 00 18 utc your content goes here\"\n",
    "\n",
    "#     pattern = r'^\\s+(.*?)(\\d{4} \\d{2} \\d{2} \\d{2} \\d{2} \\d{2} utc)(.*)'\n",
    "\n",
    "#     match = re.match(pattern, text)\n",
    "#     if match:\n",
    "#         author = match.group(1)\n",
    "#         print(\"Author:\", author)\n",
    "#         datetime = match.group(2)\n",
    "#         print(\"Datetime:\", datetime)\n",
    "#         content = match.group(3)\n",
    "#         print(\"Content:\", content)\n",
    "# print(strip_author(train['review'][0]))"
   ]
  },
  {
   "cell_type": "markdown",
   "metadata": {},
   "source": [
    "### BoW"
   ]
  },
  {
   "cell_type": "code",
   "execution_count": 12,
   "metadata": {},
   "outputs": [],
   "source": [
    "# import numpy as np\n",
    "# import scipy as sp\n",
    "# from sklearn.feature_extraction.text import CountVectorizer\n",
    "\n",
    "# doc_dummy = [\"Study hard, then you will be happy and I will be happy\",\n",
    "#            \"\\\"I'm not happy :(\\\" \\\", because you don't study hard\"]\n",
    "# print('[example documents]\\n{}\\n'.format('\\n'.join(doc_dummy)))\n",
    "\n",
    "# title = file['Title']\n",
    "# content = file['Content']\n",
    "# # ngram_range=(min,max), default: 1-gram => (1,1)\n",
    "# count = CountVectorizer(ngram_range=(1, 1),\n",
    "#                         preprocessor=preprocessor,\n",
    "#                         tokenizer=tokenizer_stem_nostop)\n",
    "\n",
    "# count.fit(title)\n",
    "\n",
    "# count_2 = CountVectorizer(ngram_range=(1, 1),\n",
    "#                         preprocessor=preprocessor,\n",
    "#                         tokenizer=tokenizer_stem_nostop)\n",
    "# count_2.fit(content)\n",
    "# # dictionary is stored in vocabulary_\n",
    "# BoW = count.vocabulary_\n",
    "# BoW_2 = count_2.vocabulary_\n",
    "# print('[vocabulary]\\n{}'.format(BoW))\n",
    "# print('[vocabulary]\\n{}'.format(BoW_2))"
   ]
  },
  {
   "cell_type": "code",
   "execution_count": null,
   "metadata": {},
   "outputs": [],
   "source": []
  },
  {
   "cell_type": "code",
   "execution_count": 13,
   "metadata": {},
   "outputs": [],
   "source": [
    "# # get matrix (doc_id, vocabulary_id) --> tf\n",
    "# doc_bag = count.transform(title)\n",
    "# # print('(did, vid)\\ttf')\n",
    "# # print(doc_bag)\n",
    "# # convert to numpy array\n",
    "# doc_bag = doc_bag.toarray()\n",
    "# print('\\nIs document-term matrix a scipy.sparse matrix? {}'.format(sp.sparse.issparse(doc_bag)))"
   ]
  },
  {
   "cell_type": "code",
   "execution_count": 14,
   "metadata": {},
   "outputs": [],
   "source": [
    "# # doc_bag_2 = []\n",
    "\n",
    "# # for chunk in chunk(content, 100):\n",
    "# #     doc_bag_2.append(count_2.transform(chunk))\n",
    "\n",
    "# # doc_bag_2 = np.array(doc_bag_2)\n",
    "# # doc_bag_2 = count_2.transform(content)\n",
    "# # # print('(did, vid)\\ttf')\n",
    "# # # print(doc_bag_2)\n",
    "\n",
    "\n",
    "# print('\\nIs document-term matrix a scipy.sparse matrix? {}'.format(sp.sparse.issparse(doc_bag_2)))\n",
    "\n",
    "# # doc_bag_2 = doc_bag_2.toarray()"
   ]
  },
  {
   "cell_type": "code",
   "execution_count": 15,
   "metadata": {},
   "outputs": [],
   "source": [
    "# from sklearn.feature_extraction.text import CountVectorizer\n",
    "# from sklearn.linear_model import LogisticRegression\n",
    "# from sklearn.pipeline import Pipeline, FeatureUnion\n",
    "# from sklearn.compose import ColumnTransformer\n",
    "\n",
    "# # Sample DataFrame with title and description text data\n",
    "# data = pd.DataFrame({\n",
    "#     'title': ['This is the first title', 'Second title example'],\n",
    "#     'description': ['Description for the first title', 'Description for the second title'],\n",
    "#     'label': [0, 1]  # Example labels for classification\n",
    "# })\n",
    "\n",
    "# # Create a column transformer to handle text and non-text data\n",
    "# text_transformer = FeatureUnion([\n",
    "#     ('title_vectorizer', CountVectorizer()),  # CountVectorizer for 'title'\n",
    "#     ('description_vectorizer', CountVectorizer()),  # CountVectorizer for 'description'\n",
    "# ])\n",
    "\n",
    "# # Create a final preprocessing pipeline that includes CountVectorizers and a logistic regression model\n",
    "# pipeline = Pipeline([\n",
    "#     ('text_transformer', text_transformer),  # Apply CountVectorizers\n",
    "#     ('logistic_regression', LogisticRegression())  # Logistic Regression for classification\n",
    "# ])\n",
    "\n",
    "# # Split your data into X (input) and y (labels)\n",
    "# X = data[['title', 'description']]\n",
    "# y = data['label']\n",
    "\n",
    "# # Fit the pipeline to your data\n",
    "# pipeline.fit(X, y)\n",
    "\n",
    "# # Make predictions\n",
    "# predictions = pipeline.predict(X)\n",
    "\n",
    "# # Evaluate the model using appropriate metrics\n",
    "# # You can use metrics like accuracy, precision, recall, F1-score, etc.\n",
    "\n",
    "# # If you want to use this pipeline on new data for prediction, you can use pipeline.predict(new_data)\n",
    "\n",
    "# print(predictions)"
   ]
  },
  {
   "cell_type": "markdown",
   "metadata": {},
   "source": [
    "### Feature Hashing"
   ]
  },
  {
   "cell_type": "code",
   "execution_count": 16,
   "metadata": {},
   "outputs": [],
   "source": [
    "import numpy as np\n",
    "import scipy as sp\n",
    "from sklearn.feature_extraction.text import HashingVectorizer\n",
    "\n",
    "# print('[example documents]\\n{}\\n'.format('\\n'.join(doc_dummy)))\n",
    "\n",
    "# # hash words to 1024 buckets\n",
    "# hashvec_ex = HashingVectorizer(n_features=2**10,\n",
    "#                             preprocessor=preprocessor,\n",
    "#                             tokenizer=tokenizer_stem_nostop)\n",
    "\n",
    "# # no .fit needed for HashingVectorizer, since it's defined by the hash function\n",
    "\n",
    "# # transform sentences to vectors of dimension 1024\n",
    "# doc_hash_ex = hashvec_ex.transform(doc_dummy)\n",
    "# print(doc_hash_ex.shape)"
   ]
  },
  {
   "cell_type": "code",
   "execution_count": 17,
   "metadata": {},
   "outputs": [
    {
     "name": "stdout",
     "output_type": "stream",
     "text": [
      "(27643, 1024)\n"
     ]
    }
   ],
   "source": [
    "hashvec_title = HashingVectorizer(n_features=2**10,\n",
    "                            preprocessor=preprocessor,\n",
    "                            tokenizer=tokenizer_stem_nostop)\n",
    "\n",
    "# no .fit needed for HashingVectorizer, since it's defined by the hash function\n",
    "\n",
    "# transform sentences to vectors of dimension 1024\n",
    "title = train_preprocess_new['Title']\n",
    "doc_hash_title = hashvec_title.transform(title)\n",
    "print(doc_hash_title.shape)"
   ]
  },
  {
   "cell_type": "code",
   "execution_count": 18,
   "metadata": {},
   "outputs": [],
   "source": [
    "# hashvec_content = HashingVectorizer(n_features=2**10,\n",
    "#                             preprocessor=preprocessor,\n",
    "#                             tokenizer=tokenizer_stem_nostop)\n",
    "\n",
    "# # no .fit needed for HashingVectorizer, since it's defined by the hash function\n",
    "\n",
    "# # transform sentences to vectors of dimension 1024\n",
    "# doc_hash_content = hashvec_content.transform(content)\n",
    "# print(doc_hash_content.shape)"
   ]
  },
  {
   "cell_type": "code",
   "execution_count": 19,
   "metadata": {},
   "outputs": [],
   "source": [
    "# doc_hash_combine = np.concatenate((doc_hash_title.toarray(), doc_hash_content.toarray()), axis=1)\n",
    "# print(doc_hash_combine.shape)"
   ]
  },
  {
   "cell_type": "code",
   "execution_count": 20,
   "metadata": {},
   "outputs": [],
   "source": [
    "# X = doc_hash_combine\n",
    "# y = file['Popularity']\n",
    "# print(y)"
   ]
  },
  {
   "cell_type": "code",
   "execution_count": 21,
   "metadata": {},
   "outputs": [],
   "source": [
    "# from sklearn.feature_extraction.text import CountVectorizer, HashingVectorizer\n",
    "# from sklearn.linear_model import LogisticRegression\n",
    "# from sklearn.pipeline import Pipeline, FeatureUnion\n",
    "# from sklearn.compose import ColumnTransformer\n",
    "# from sklearn.model_selection import train_test_split\n",
    "\n",
    "# # Create a column transformer to handle text\n",
    "# text_transformer = FeatureUnion([\n",
    "#     ('title_vectorizer', CountVectorizer(tokenizer=tokenizer_stem_nostop)),  # CountVectorizer for 'title'\n",
    "#     ('description_vectorizer', CountVectorizer(tokenizer=tokenizer_stem_nostop)),  # CountVectorizer for 'description'\n",
    "# ])\n",
    "# hash_transformer = FeatureUnion([\n",
    "#     ('title_vectorizer', HashingVectorizer(n_features=2**10,\n",
    "#                                             preprocessor=preprocessor,\n",
    "#                                             tokenizer=tokenizer_stem_nostop)),  # CountVectorizer for 'title'\n",
    "#     ('description_vectorizer', HashingVectorizer(n_features=2**10,\n",
    "#                                                  preprocessor=preprocessor,\n",
    "#                                                  tokenizer=tokenizer_stem_nostop)),  # CountVectorizer for 'description'\n",
    "# ])\n",
    "\n",
    "# # Create a final preprocessing pipeline that includes CountVectorizers and a logistic regression model\n",
    "# pipe1 = Pipeline([\n",
    "#     ('text_transformer', text_transformer),  # Apply CountVectorizers\n",
    "#     ('logistic_regression', LogisticRegression(solver = \"liblinear\"))  # Logistic Regression for classification\n",
    "# ])\n",
    "\n",
    "\n",
    "# pipe2 = Pipeline([\n",
    "#     ('hash_transformer', hash_transformer),  # Apply CountVectorizers\n",
    "# ])\n",
    "\n",
    "# # Split your data into X (input) and y (labels)\n",
    "\n",
    "# X = train_preprocess_new[['Title', 'Content']]\n",
    "# y = train_preprocess_new['Popularity']\n",
    "\n",
    "# X = X.to_numpy()\n",
    "# y = y.to_numpy()\n",
    "\n",
    "# X_train, X_valid, y_train, y_valid = train_test_split(X, y, test_size=0.2, random_state=42)\n",
    "# # Fit the pipeline to your data\n",
    "# # pipe1.fit(X_train, y_train)"
   ]
  },
  {
   "cell_type": "code",
   "execution_count": null,
   "metadata": {},
   "outputs": [],
   "source": []
  },
  {
   "cell_type": "code",
   "execution_count": 22,
   "metadata": {},
   "outputs": [],
   "source": [
    "# from sklearn.pipeline import Pipeline\n",
    "# from sklearn.tree import DecisionTreeClassifier\n",
    "# from sklearn.linear_model import LogisticRegression\n",
    "# from sklearn.feature_extraction.text import CountVectorizer, HashingVectorizer\n",
    "# from sklearn.model_selection import cross_val_score\n",
    "\n",
    "# # randomly sample 1000 examples\n",
    "# df_small = df.sample(n=1000, random_state=0)\n",
    "\n",
    "# names = ['LogisticRegression',\n",
    "#          'LogisticRegression+(1,2)gram',\n",
    "#          'LogisticRegression+preprocess',\n",
    "#          'LogisticRegression+preprocess+hash']\n",
    "# # without preprocessing\n",
    "# pipe1 = Pipeline([('vect', CountVectorizer()),\n",
    "#                   ('clf', LogisticRegression(solver = \"liblinear\"))])\n",
    "# # without preprocessing, use larger ngram range\n",
    "# pipe2 = Pipeline([('vect', CountVectorizer(ngram_range=(1,2))),\n",
    "#                   ('clf', LogisticRegression(solver = \"liblinear\"))])\n",
    "# # with preprocessing\n",
    "# # pipe3 = Pipeline([('vect', TfidfVectorizer(preprocessor=preprocessor,\n",
    "# #                                            tokenizer=tokenizer_stem_nostop)),\n",
    "# #                   ('clf', LogisticRegression(solver = \"liblinear\"))])\n",
    "# # with preprocessing and hasing\n",
    "# pipe4 = Pipeline([('vect', HashingVectorizer(n_features=2**10,\n",
    "#                                              preprocessor=preprocessor,\n",
    "#                                              tokenizer=tokenizer_stem_nostop)),\n",
    "#                   ('clf', LogisticRegression(solver = \"liblinear\"))])\n",
    "# # CV\n",
    "# print('[auc (10-fold cv)]')\n",
    "# for name, clf in zip(names, [pipe1, pipe2, pipe3, pipe4]):\n",
    "#     scores = cross_val_score(estimator=clf, X=df_small['review'], y=df_small['sentiment'], \\\n",
    "#                          cv=10, scoring='roc_auc')\n",
    "#     print('%s: %.3f (+/-%.3f)' % (name, scores.mean(), scores.std()))"
   ]
  },
  {
   "cell_type": "code",
   "execution_count": 23,
   "metadata": {},
   "outputs": [],
   "source": [
    "from sklearn.feature_extraction.text import HashingVectorizer\n",
    "from sklearn.linear_model import SGDClassifier\n",
    "from sklearn.metrics import roc_auc_score\n",
    "\n",
    "hashvec = HashingVectorizer(n_features=2**20,\n",
    "                            preprocessor=preprocessor, tokenizer=tokenizer_stem_nostop)\n",
    "hashvec_2 = HashingVectorizer(n_features=2**20,\n",
    "                            preprocessor=preprocessor, tokenizer=tokenizer_stem_nostop)\n",
    "# loss='log' gives logistic regression\n",
    "clf = SGDClassifier(loss='log_loss', max_iter=100, tol=1e-3)\n",
    "batch_size = 1000\n",
    "X_train, y_train = train_preprocess_new['Content'], train_preprocess_new['Popularity']\n",
    "X_train_2 = train_preprocess_new['Title']\n",
    "\n",
    "stream_X = chunk(X_train, batch_size)\n",
    "stream_X_2 = chunk(X_train_2, batch_size)\n",
    "stream_y = chunk(y_train, batch_size)\n",
    "\n",
    "classes = np.array([-1, 1])\n",
    "train_auc, val_auc = [], []\n",
    "# we use one batch for training and another for validation in each iteration\n",
    "iters = int((25000+batch_size-1)/(batch_size*2))\n",
    "for i in range(iters):\n",
    "    X_train = next(stream_X)\n",
    "    # X_train_2 = next(stream_X_2)\n",
    "    y_train = next(stream_y)\n",
    "    if X_train is None:\n",
    "        break\n",
    "    X_train = hashvec.transform(X_train)\n",
    "    # X_train_2 = hashvec_2.transform(X_train_2)\n",
    "    X_train = pd.DataFrame(X_train.toarray())\n",
    "    # X_train_2 = pd.DataFrame(X_train_2.toarray())\n",
    "    # ic(X_train.shape)\n",
    "\n",
    "    clf.partial_fit(X_train, y_train, classes=classes)\n",
    "    train_auc.append(roc_auc_score(y_train, clf.predict_proba(X_train)[:,1]))\n",
    "\n",
    "    # validate\n",
    "    X_val, y_val = next(stream_X), next(stream_y)\n",
    "    # X_val_2 = next(stream_X_2)\n",
    "    X_val = hashvec.transform(X_val)\n",
    "    # X_val_2 = hashvec_2.transform(X_val_2)\n",
    "    # X_val_combined = np.hstack((X_val, X_val_2))\n",
    "    score = roc_auc_score(y_val, clf.predict_proba(X_val)[:,1])\n",
    "    val_auc.append(score)\n",
    "    print('[{}/{}] {}'.format((i+1)*(batch_size*2), 25000, score))\n"
   ]
  },
  {
   "cell_type": "code",
   "execution_count": null,
   "metadata": {},
   "outputs": [
    {
     "data": {
      "image/png": "[encoded data removed]",
      "text/plain": [
       "<Figure size 640x480 with 1 Axes>"
      ]
     },
     "metadata": {},
     "output_type": "display_data"
    }
   ],
   "source": [
    "import os\n",
    "if not os.path.exists('output'):\n",
    "    os.mkdir('output')\n",
    "\n",
    "import matplotlib.pyplot as plt\n",
    "\n",
    "plt.plot(range(1, len(train_auc)+1), train_auc, color='blue', label='Train auc')\n",
    "plt.plot(range(1, len(train_auc)+1), val_auc, color='red', label='Val auc')\n",
    "plt.legend(loc=\"best\")\n",
    "plt.xlabel('#Batches')\n",
    "plt.ylabel('Auc')\n",
    "plt.tight_layout()\n",
    "plt.savefig('./output/fig-out-of-core.png', dpi=300)\n",
    "plt.show()"
   ]
  },
  {
   "cell_type": "code",
   "execution_count": null,
   "metadata": {},
   "outputs": [
    {
     "data": {
      "text/plain": [
       "array([0.59867913, 0.71039762, 0.20938858, ..., 0.52613739, 0.40480274,\n",
       "       0.42310348])"
      ]
     },
     "execution_count": 28,
     "metadata": {},
     "output_type": "execute_result"
    }
   ],
   "source": [
    "X_test = test_preprocess_new['Content']\n",
    "X_test = hashvec.transform(X_test)\n",
    "value = clf.predict_proba(X_test)[:,1]\n",
    "value"
   ]
  },
  {
   "cell_type": "code",
   "execution_count": null,
   "metadata": {},
   "outputs": [],
   "source": [
    "file = pd.concat([test[['Id']], pd.DataFrame(value, columns=['Popularity'])], axis=1)\n",
    "file\n",
    "\n",
    "file.to_csv('data/submission.csv', index=False)"
   ]
  }
 ],
 "metadata": {
  "kernelspec": {
   "display_name": "sleep-linear",
   "language": "python",
   "name": "python3"
  },
  "language_info": {
   "codemirror_mode": {
    "name": "ipython",
    "version": 3
   },
   "file_extension": ".py",
   "mimetype": "text/x-python",
   "name": "python",
   "nbconvert_exporter": "python",
   "pygments_lexer": "ipython3",
   "version": "3.9.16"
  }
 },
 "nbformat": 4,
 "nbformat_minor": 2
}
