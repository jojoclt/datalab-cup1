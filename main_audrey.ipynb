{
 "cells": [
  {
   "cell_type": "markdown",
   "metadata": {},
   "source": [
    "# DataLab Cup 1 \n",
    "[Kaggle](https://www.kaggle.com/competitions/2023-datalab-cup1-predicting-news-popularity/data)"
   ]
  },
  {
   "cell_type": "code",
   "execution_count": 1,
   "metadata": {},
   "outputs": [],
   "source": [
    "import pandas as pd\n",
    "import numpy as np\n",
    "import matplotlib.pyplot as plt\n",
    "import seaborn as sns\n",
    "import re\n",
    "from bs4 import BeautifulSoup"
   ]
  },
  {
   "cell_type": "code",
   "execution_count": 2,
   "metadata": {},
   "outputs": [],
   "source": [
    "# load csv file\n",
    "train = pd.read_csv('data/train.csv')\n",
    "test = pd.read_csv('data/test.csv')"
   ]
  },
  {
   "cell_type": "code",
   "execution_count": 3,
   "metadata": {},
   "outputs": [
    {
     "name": "stdout",
     "output_type": "stream",
     "text": [
      "train.shape=(27643, 3)\n",
      "train.columns=Index(['Id', 'Popularity', 'Page content'], dtype='object')\n"
     ]
    }
   ],
   "source": [
    "print(f\"{train.shape=}\")\n",
    "print(f\"{train.columns=}\")"
   ]
  },
  {
   "cell_type": "markdown",
   "metadata": {},
   "source": [
    "#### Function Helper"
   ]
  },
  {
   "cell_type": "markdown",
   "metadata": {},
   "source": [
    "hashing on the content,\n",
    "sentiment on the topic\n",
    "then append the day."
   ]
  },
  {
   "cell_type": "code",
   "execution_count": 4,
   "metadata": {},
   "outputs": [],
   "source": [
    "# train.iloc[27628,:]"
   ]
  },
  {
   "cell_type": "code",
   "execution_count": 5,
   "metadata": {},
   "outputs": [],
   "source": [
    "# soup = BeautifulSoup(train['Page content'][27628], 'html.parser')\n",
    "# print(soup.prettify())"
   ]
  },
  {
   "cell_type": "code",
   "execution_count": 6,
   "metadata": {},
   "outputs": [],
   "source": [
    "def get_day_time(datetime_value):\n",
    "    \"\"\"Extract the day of the week and time from a datetime string.\"\"\"\n",
    "    day = {'Sun': 0, 'Mon': 1, 'Tue': 2, 'Wed': 3, 'Thu': 4, 'Fri': 5, 'Sat':6}\n",
    "    value = {}\n",
    "\n",
    "    # Define a regular expression pattern to capture the day of the week and time\n",
    "    pattern = r'^(\\w+), (\\d+ \\w+ \\d{4}) (\\d+:\\d+)'\n",
    "\n",
    "    # Use re.search to find a match in the datetime value\n",
    "    match = re.search(pattern, datetime_value)\n",
    "\n",
    "    if match:\n",
    "        value['Day'] = day[match.group(1)]/7\n",
    "        time = match.group(3).split(':')\n",
    "        value['Time'] = (int(time[0]) *60 + int(time[1])) / 1440.0\n",
    "        # date = match.group(2)\n",
    "    else:\n",
    "        value['Day'] = 0\n",
    "        value['Time'] = 0\n",
    "        # date = np.nan\n",
    "    \n",
    "    return value\n",
    "    \n",
    "def chunk(iterable, chunk_size):\n",
    "    \"\"\"Generates lists of `chunk_size` elements from `iterable`.\n",
    "    \n",
    "    \n",
    "    >>> list(chunk((2, 3, 5, 7), 3))\n",
    "    [[2, 3, 5], [7]]\n",
    "    >>> list(chunk((2, 3, 5, 7), 2))\n",
    "    [[2, 3], [5, 7]]\n",
    "    \"\"\"\n",
    "    iterable = iter(iterable)\n",
    "    while True:\n",
    "        chunk = []\n",
    "        try:\n",
    "            for _ in range(chunk_size):\n",
    "                chunk.append(next(iterable))\n",
    "            yield chunk\n",
    "        except StopIteration:\n",
    "            if chunk:\n",
    "                yield chunk\n",
    "            break"
   ]
  },
  {
   "cell_type": "code",
   "execution_count": 7,
   "metadata": {},
   "outputs": [
    {
     "name": "stderr",
     "output_type": "stream",
     "text": [
      "[nltk_data] Downloading package names to /home/jojo/nltk_data...\n",
      "[nltk_data]   Package names is already up-to-date!\n",
      "[nltk_data] Downloading package stopwords to /home/jojo/nltk_data...\n",
      "[nltk_data]   Package stopwords is already up-to-date!\n",
      "[nltk_data] Downloading package movie_reviews to\n",
      "[nltk_data]     /home/jojo/nltk_data...\n",
      "[nltk_data]   Package movie_reviews is already up-to-date!\n",
      "[nltk_data] Downloading package averaged_perceptron_tagger to\n",
      "[nltk_data]     /home/jojo/nltk_data...\n",
      "[nltk_data]   Package averaged_perceptron_tagger is already up-to-\n",
      "[nltk_data]       date!\n",
      "[nltk_data] Downloading package vader_lexicon to\n",
      "[nltk_data]     /home/jojo/nltk_data...\n",
      "[nltk_data]   Package vader_lexicon is already up-to-date!\n",
      "[nltk_data] Downloading package punkt to /home/jojo/nltk_data...\n",
      "[nltk_data]   Package punkt is already up-to-date!\n"
     ]
    }
   ],
   "source": [
    "def preprocessor(text):\n",
    "    # regex for matching emoticons, keep emoticons, ex: :), :-P, :-D\n",
    "    r = '(?::|;|=|X)(?:-)?(?:\\)|\\(|D|P)'\n",
    "    emoticons = re.findall(r, text)\n",
    "    text = re.sub(r, '', text)\n",
    "\n",
    "    # convert to lowercase and append all emoticons behind (with space in between)\n",
    "    # replace('-','') removes nose of emoticons\n",
    "    text = re.sub('[\\W]+', ' ', text.lower()) + ' ' + ' '.join(emoticons).replace('-','')\n",
    "    return text\n",
    "def tokenizer(text):\n",
    "    return re.split('\\s+', text.strip())\n",
    "\n",
    "from nltk.stem.porter import PorterStemmer\n",
    "import nltk\n",
    "from nltk.corpus import stopwords\n",
    "\n",
    "def tokenizer_stem(text):\n",
    "    porter = PorterStemmer()\n",
    "    return [porter.stem(word) for word in re.split('\\s+', text.strip())]\n",
    "\n",
    "\n",
    "nltk.download([\n",
    "    \"names\",\n",
    "    \"stopwords\",\n",
    "    \"movie_reviews\",\n",
    "    \"averaged_perceptron_tagger\",\n",
    "    \"vader_lexicon\",\n",
    "    \"punkt\",\n",
    "])\n",
    "stop = stopwords.words('english')\n",
    "def tokenizer_stem_nostop(text):\n",
    "    porter = PorterStemmer()\n",
    "    return [porter.stem(w) for w in re.split('\\s+', text.strip()) \\\n",
    "            if w not in stop and re.match('[a-zA-Z]+', w)]"
   ]
  },
  {
   "cell_type": "markdown",
   "metadata": {},
   "source": [
    "author is too hard"
   ]
  },
  {
   "cell_type": "code",
   "execution_count": 8,
   "metadata": {},
   "outputs": [],
   "source": [
    "from icecream import ic\n",
    "def preprocess(data):\n",
    "    soup = BeautifulSoup(data, 'html.parser')\n",
    "\n",
    "    title = soup.find('h1', class_='title').text\n",
    "    day = \"Mon\"\n",
    "    day_time = {'Day': 0, 'Time': 0}\n",
    "    try:\n",
    "        day = soup.find('time').get('datetime')\n",
    "        day_time = get_day_time(day)\n",
    "    except:\n",
    "        pass\n",
    "\n",
    "    content_element = soup.find('section', class_='article-content')\n",
    "    content = content_element.text\n",
    "    # links = soup.find_all('a')\n",
    "    # try:\n",
    "    #     links = len(links)\n",
    "    # except:\n",
    "    #     links = 0\n",
    "    vid = len(soup.find_all('iframe'))\n",
    "    arr = [title, len(content.split()), vid, day_time['Day'], day_time['Time']]\n",
    "\n",
    "    for i in range(1):\n",
    "        arr[i] = preprocessor(arr[i])\n",
    "\n",
    "    return arr"
   ]
  },
  {
   "cell_type": "code",
   "execution_count": 9,
   "metadata": {},
   "outputs": [],
   "source": [
    "# df_test = train['Page content'].apply(preprocess)"
   ]
  },
  {
   "cell_type": "code",
   "execution_count": 10,
   "metadata": {},
   "outputs": [],
   "source": [
    "feat_2 = ['Title', 'Content', 'Video', 'Day', 'Time']\n",
    "# df_test_pd = pd.DataFrame(df_test.to_list(), columns=feat_2)\n",
    "# df_test_pd = pd.concat([df_test_pd, train[['Popularity']]], axis=1)"
   ]
  },
  {
   "cell_type": "code",
   "execution_count": 11,
   "metadata": {},
   "outputs": [],
   "source": [
    "# df_test_pd[(df_test_pd['Video'] > 50)&(df_test_pd['Popularity'] ==-1)]"
   ]
  },
  {
   "cell_type": "code",
   "execution_count": 12,
   "metadata": {},
   "outputs": [],
   "source": [
    "# df_test_pd[(df_test_pd['Popularity'] == -1) & (df_test_pd['Video'] == 0)]"
   ]
  },
  {
   "cell_type": "code",
   "execution_count": 13,
   "metadata": {},
   "outputs": [],
   "source": [
    "# df_test_pd[(df_test_pd['Video'] == True) & (df_test_pd['Popularity'] == -1)]"
   ]
  },
  {
   "cell_type": "code",
   "execution_count": 14,
   "metadata": {},
   "outputs": [],
   "source": [
    "# df_test_pd.shape"
   ]
  },
  {
   "cell_type": "markdown",
   "metadata": {},
   "source": [
    "### Preprocessing"
   ]
  },
  {
   "cell_type": "code",
   "execution_count": 15,
   "metadata": {},
   "outputs": [],
   "source": [
    "train_preprocess = train['Page content'].apply(preprocess)\n",
    "test_preprocess = test['Page content'].apply(preprocess)\n"
   ]
  },
  {
   "cell_type": "code",
   "execution_count": 16,
   "metadata": {},
   "outputs": [],
   "source": [
    "feat = feat_2.copy()\n",
    "train_preprocess_df = pd.DataFrame(train_preprocess.to_list(), columns=feat)\n",
    "test_preprocess_df = pd.DataFrame(test_preprocess.to_list(), columns=feat)\n",
    "\n",
    "train_preprocess_df = pd.concat([train_preprocess_df, train[['Popularity']]], axis=1)\n",
    "test_preprocess_df = pd.concat([test_preprocess_df], axis=1)\n",
    "\n",
    "# scale the data\n",
    "from sklearn.preprocessing import MinMaxScaler\n",
    "sc = MinMaxScaler()\n",
    "train_preprocess_df[['Content', 'Video']] = sc.fit_transform(train_preprocess_df[['Content', 'Video']])\n",
    "test_preprocess_df[['Content', 'Video']] = sc.transform(test_preprocess_df[['Content', 'Video']])"
   ]
  },
  {
   "cell_type": "code",
   "execution_count": 17,
   "metadata": {},
   "outputs": [
    {
     "data": {
      "text/html": [
       "<div>\n",
       "<style scoped>\n",
       "    .dataframe tbody tr th:only-of-type {\n",
       "        vertical-align: middle;\n",
       "    }\n",
       "\n",
       "    .dataframe tbody tr th {\n",
       "        vertical-align: top;\n",
       "    }\n",
       "\n",
       "    .dataframe thead th {\n",
       "        text-align: right;\n",
       "    }\n",
       "</style>\n",
       "<table border=\"1\" class=\"dataframe\">\n",
       "  <thead>\n",
       "    <tr style=\"text-align: right;\">\n",
       "      <th></th>\n",
       "      <th>Title</th>\n",
       "      <th>Content</th>\n",
       "      <th>Video</th>\n",
       "      <th>Day</th>\n",
       "      <th>Time</th>\n",
       "      <th>Popularity</th>\n",
       "    </tr>\n",
       "  </thead>\n",
       "  <tbody>\n",
       "    <tr>\n",
       "      <th>0</th>\n",
       "      <td>nasa s grand challenge stop asteroids from des...</td>\n",
       "      <td>0.069157</td>\n",
       "      <td>0.000000</td>\n",
       "      <td>0.428571</td>\n",
       "      <td>0.627778</td>\n",
       "      <td>-1</td>\n",
       "    </tr>\n",
       "    <tr>\n",
       "      <th>1</th>\n",
       "      <td>google s new open source patent pledge we won ...</td>\n",
       "      <td>0.035626</td>\n",
       "      <td>0.000000</td>\n",
       "      <td>0.571429</td>\n",
       "      <td>0.736111</td>\n",
       "      <td>1</td>\n",
       "    </tr>\n",
       "    <tr>\n",
       "      <th>2</th>\n",
       "      <td>ballin 2014 nfl draft picks get to choose thei...</td>\n",
       "      <td>0.135355</td>\n",
       "      <td>0.274725</td>\n",
       "      <td>0.428571</td>\n",
       "      <td>0.802083</td>\n",
       "      <td>1</td>\n",
       "    </tr>\n",
       "    <tr>\n",
       "      <th>3</th>\n",
       "      <td>cameraperson fails deliver slapstick laughs</td>\n",
       "      <td>0.032298</td>\n",
       "      <td>0.230769</td>\n",
       "      <td>0.714286</td>\n",
       "      <td>0.101389</td>\n",
       "      <td>-1</td>\n",
       "    </tr>\n",
       "    <tr>\n",
       "      <th>4</th>\n",
       "      <td>nfl star helps young fan prove friendship with...</td>\n",
       "      <td>0.166913</td>\n",
       "      <td>0.010989</td>\n",
       "      <td>0.571429</td>\n",
       "      <td>0.146528</td>\n",
       "      <td>-1</td>\n",
       "    </tr>\n",
       "    <tr>\n",
       "      <th>...</th>\n",
       "      <td>...</td>\n",
       "      <td>...</td>\n",
       "      <td>...</td>\n",
       "      <td>...</td>\n",
       "      <td>...</td>\n",
       "      <td>...</td>\n",
       "    </tr>\n",
       "    <tr>\n",
       "      <th>27638</th>\n",
       "      <td>chief of usaid doesn t know who created cuban ...</td>\n",
       "      <td>0.035380</td>\n",
       "      <td>0.000000</td>\n",
       "      <td>0.285714</td>\n",
       "      <td>0.684722</td>\n",
       "      <td>-1</td>\n",
       "    </tr>\n",
       "    <tr>\n",
       "      <th>27639</th>\n",
       "      <td>photo of samsung s rumored virtual reality hea...</td>\n",
       "      <td>0.037106</td>\n",
       "      <td>0.000000</td>\n",
       "      <td>0.428571</td>\n",
       "      <td>0.043750</td>\n",
       "      <td>-1</td>\n",
       "    </tr>\n",
       "    <tr>\n",
       "      <th>27640</th>\n",
       "      <td>14 dogs that frankly cannot take the heat</td>\n",
       "      <td>0.018984</td>\n",
       "      <td>0.000000</td>\n",
       "      <td>0.571429</td>\n",
       "      <td>0.520833</td>\n",
       "      <td>-1</td>\n",
       "    </tr>\n",
       "    <tr>\n",
       "      <th>27641</th>\n",
       "      <td>yahoo earnings beat estimates but core problem...</td>\n",
       "      <td>0.051036</td>\n",
       "      <td>0.000000</td>\n",
       "      <td>0.285714</td>\n",
       "      <td>0.867361</td>\n",
       "      <td>-1</td>\n",
       "    </tr>\n",
       "    <tr>\n",
       "      <th>27642</th>\n",
       "      <td>the winners of our curiocity contest tour aust...</td>\n",
       "      <td>0.056213</td>\n",
       "      <td>0.000000</td>\n",
       "      <td>0.714286</td>\n",
       "      <td>0.765278</td>\n",
       "      <td>1</td>\n",
       "    </tr>\n",
       "  </tbody>\n",
       "</table>\n",
       "<p>27643 rows × 6 columns</p>\n",
       "</div>"
      ],
      "text/plain": [
       "                                                   Title   Content     Video   \n",
       "0      nasa s grand challenge stop asteroids from des...  0.069157  0.000000  \\\n",
       "1      google s new open source patent pledge we won ...  0.035626  0.000000   \n",
       "2      ballin 2014 nfl draft picks get to choose thei...  0.135355  0.274725   \n",
       "3           cameraperson fails deliver slapstick laughs   0.032298  0.230769   \n",
       "4      nfl star helps young fan prove friendship with...  0.166913  0.010989   \n",
       "...                                                  ...       ...       ...   \n",
       "27638  chief of usaid doesn t know who created cuban ...  0.035380  0.000000   \n",
       "27639  photo of samsung s rumored virtual reality hea...  0.037106  0.000000   \n",
       "27640         14 dogs that frankly cannot take the heat   0.018984  0.000000   \n",
       "27641  yahoo earnings beat estimates but core problem...  0.051036  0.000000   \n",
       "27642  the winners of our curiocity contest tour aust...  0.056213  0.000000   \n",
       "\n",
       "            Day      Time  Popularity  \n",
       "0      0.428571  0.627778          -1  \n",
       "1      0.571429  0.736111           1  \n",
       "2      0.428571  0.802083           1  \n",
       "3      0.714286  0.101389          -1  \n",
       "4      0.571429  0.146528          -1  \n",
       "...         ...       ...         ...  \n",
       "27638  0.285714  0.684722          -1  \n",
       "27639  0.428571  0.043750          -1  \n",
       "27640  0.571429  0.520833          -1  \n",
       "27641  0.285714  0.867361          -1  \n",
       "27642  0.714286  0.765278           1  \n",
       "\n",
       "[27643 rows x 6 columns]"
      ]
     },
     "execution_count": 17,
     "metadata": {},
     "output_type": "execute_result"
    }
   ],
   "source": [
    "train_preprocess_df"
   ]
  },
  {
   "cell_type": "code",
   "execution_count": 18,
   "metadata": {},
   "outputs": [],
   "source": [
    "train_preprocess_df.to_csv('data/train_preprocess.csv', index=False)\n",
    "test_preprocess_df.to_csv('data/test_preprocess.csv', index=False)"
   ]
  },
  {
   "cell_type": "code",
   "execution_count": 19,
   "metadata": {},
   "outputs": [
    {
     "data": {
      "text/html": [
       "<div>\n",
       "<style scoped>\n",
       "    .dataframe tbody tr th:only-of-type {\n",
       "        vertical-align: middle;\n",
       "    }\n",
       "\n",
       "    .dataframe tbody tr th {\n",
       "        vertical-align: top;\n",
       "    }\n",
       "\n",
       "    .dataframe thead th {\n",
       "        text-align: right;\n",
       "    }\n",
       "</style>\n",
       "<table border=\"1\" class=\"dataframe\">\n",
       "  <thead>\n",
       "    <tr style=\"text-align: right;\">\n",
       "      <th></th>\n",
       "      <th>Title</th>\n",
       "      <th>Content</th>\n",
       "      <th>Video</th>\n",
       "      <th>Day</th>\n",
       "      <th>Time</th>\n",
       "    </tr>\n",
       "  </thead>\n",
       "  <tbody>\n",
       "    <tr>\n",
       "      <th>0</th>\n",
       "      <td>soccer star gets twitter death threats after t...</td>\n",
       "      <td>0.062993</td>\n",
       "      <td>0.076923</td>\n",
       "      <td>0.142857</td>\n",
       "      <td>0.824306</td>\n",
       "    </tr>\n",
       "    <tr>\n",
       "      <th>1</th>\n",
       "      <td>google glass gets an accessory store</td>\n",
       "      <td>0.015533</td>\n",
       "      <td>0.000000</td>\n",
       "      <td>0.571429</td>\n",
       "      <td>0.392361</td>\n",
       "    </tr>\n",
       "    <tr>\n",
       "      <th>2</th>\n",
       "      <td>ouya gaming console already sold out on amazon</td>\n",
       "      <td>0.018245</td>\n",
       "      <td>0.000000</td>\n",
       "      <td>0.285714</td>\n",
       "      <td>0.537500</td>\n",
       "    </tr>\n",
       "    <tr>\n",
       "      <th>3</th>\n",
       "      <td>between two ferns mocks oscar nominees</td>\n",
       "      <td>0.016889</td>\n",
       "      <td>0.043956</td>\n",
       "      <td>0.428571</td>\n",
       "      <td>0.145833</td>\n",
       "    </tr>\n",
       "    <tr>\n",
       "      <th>4</th>\n",
       "      <td>american sniper trailer looks like eastwood m...</td>\n",
       "      <td>0.025025</td>\n",
       "      <td>0.010989</td>\n",
       "      <td>0.714286</td>\n",
       "      <td>0.065278</td>\n",
       "    </tr>\n",
       "    <tr>\n",
       "      <th>...</th>\n",
       "      <td>...</td>\n",
       "      <td>...</td>\n",
       "      <td>...</td>\n",
       "      <td>...</td>\n",
       "      <td>...</td>\n",
       "    </tr>\n",
       "    <tr>\n",
       "      <th>11842</th>\n",
       "      <td>check out twitter co founders beautiful new of...</td>\n",
       "      <td>0.013190</td>\n",
       "      <td>0.000000</td>\n",
       "      <td>0.857143</td>\n",
       "      <td>0.875000</td>\n",
       "    </tr>\n",
       "    <tr>\n",
       "      <th>11843</th>\n",
       "      <td>fish out of water is an adorably addictive io...</td>\n",
       "      <td>0.067678</td>\n",
       "      <td>0.000000</td>\n",
       "      <td>0.571429</td>\n",
       "      <td>0.793750</td>\n",
       "    </tr>\n",
       "    <tr>\n",
       "      <th>11844</th>\n",
       "      <td>if music services influenced grammys this is w...</td>\n",
       "      <td>0.117973</td>\n",
       "      <td>0.241758</td>\n",
       "      <td>0.428571</td>\n",
       "      <td>0.984722</td>\n",
       "    </tr>\n",
       "    <tr>\n",
       "      <th>11845</th>\n",
       "      <td>google s nexus 7 comes to europe australia and...</td>\n",
       "      <td>0.014053</td>\n",
       "      <td>0.000000</td>\n",
       "      <td>0.428571</td>\n",
       "      <td>0.359028</td>\n",
       "    </tr>\n",
       "    <tr>\n",
       "      <th>11846</th>\n",
       "      <td>even samsung can t screw up the galaxy tab s</td>\n",
       "      <td>0.215483</td>\n",
       "      <td>0.010989</td>\n",
       "      <td>0.285714</td>\n",
       "      <td>0.541667</td>\n",
       "    </tr>\n",
       "  </tbody>\n",
       "</table>\n",
       "<p>11847 rows × 5 columns</p>\n",
       "</div>"
      ],
      "text/plain": [
       "                                                   Title   Content     Video   \n",
       "0      soccer star gets twitter death threats after t...  0.062993  0.076923  \\\n",
       "1                  google glass gets an accessory store   0.015533  0.000000   \n",
       "2        ouya gaming console already sold out on amazon   0.018245  0.000000   \n",
       "3                between two ferns mocks oscar nominees   0.016889  0.043956   \n",
       "4       american sniper trailer looks like eastwood m...  0.025025  0.010989   \n",
       "...                                                  ...       ...       ...   \n",
       "11842  check out twitter co founders beautiful new of...  0.013190  0.000000   \n",
       "11843   fish out of water is an adorably addictive io...  0.067678  0.000000   \n",
       "11844  if music services influenced grammys this is w...  0.117973  0.241758   \n",
       "11845  google s nexus 7 comes to europe australia and...  0.014053  0.000000   \n",
       "11846      even samsung can t screw up the galaxy tab s   0.215483  0.010989   \n",
       "\n",
       "            Day      Time  \n",
       "0      0.142857  0.824306  \n",
       "1      0.571429  0.392361  \n",
       "2      0.285714  0.537500  \n",
       "3      0.428571  0.145833  \n",
       "4      0.714286  0.065278  \n",
       "...         ...       ...  \n",
       "11842  0.857143  0.875000  \n",
       "11843  0.571429  0.793750  \n",
       "11844  0.428571  0.984722  \n",
       "11845  0.428571  0.359028  \n",
       "11846  0.285714  0.541667  \n",
       "\n",
       "[11847 rows x 5 columns]"
      ]
     },
     "execution_count": 19,
     "metadata": {},
     "output_type": "execute_result"
    }
   ],
   "source": [
    "train_preprocess_df\n",
    "test_preprocess_df"
   ]
  },
  {
   "cell_type": "code",
   "execution_count": 20,
   "metadata": {},
   "outputs": [
    {
     "data": {
      "text/plain": [
       "0        nasa s grand challenge stop asteroids from des...\n",
       "1        google s new open source patent pledge we won ...\n",
       "2        ballin 2014 nfl draft picks get to choose thei...\n",
       "3             cameraperson fails deliver slapstick laughs \n",
       "4        nfl star helps young fan prove friendship with...\n",
       "                               ...                        \n",
       "27638    chief of usaid doesn t know who created cuban ...\n",
       "27639    photo of samsung s rumored virtual reality hea...\n",
       "27640           14 dogs that frankly cannot take the heat \n",
       "27641    yahoo earnings beat estimates but core problem...\n",
       "27642    the winners of our curiocity contest tour aust...\n",
       "Name: Title, Length: 27643, dtype: object"
      ]
     },
     "execution_count": 20,
     "metadata": {},
     "output_type": "execute_result"
    }
   ],
   "source": [
    "train_preprocess_df['Title']"
   ]
  },
  {
   "cell_type": "code",
   "execution_count": 21,
   "metadata": {},
   "outputs": [],
   "source": [
    "# import numpy as np\n",
    "# import scipy as sp\n",
    "# from sklearn.feature_extraction.text import HashingVectorizer\n",
    "# from sklearn.compose import ColumnTransformer\n",
    "\n",
    "# hash_vectorizer = HashingVectorizer(\n",
    "#     decode_error='ignore', \n",
    "#     n_features=2**10,\n",
    "#     preprocessor=None, \n",
    "#     tokenizer=tokenizer_stem_nostop\n",
    "# )\n",
    "\n",
    "# doc_hash = hash_vectorizer.transform(train_preprocess_df['Title'])\n",
    "# doc_hash.shape\n",
    "# # doc_hash[0]"
   ]
  },
  {
   "cell_type": "code",
   "execution_count": 22,
   "metadata": {},
   "outputs": [],
   "source": [
    "# doc_hash"
   ]
  },
  {
   "cell_type": "code",
   "execution_count": 23,
   "metadata": {},
   "outputs": [
    {
     "name": "stdout",
     "output_type": "stream",
     "text": [
      "[2000/25000] 0.49520424012425746\n",
      "[4000/25000] 0.5396659331144702\n"
     ]
    },
    {
     "name": "stdout",
     "output_type": "stream",
     "text": [
      "[6000/25000] 0.49383397533590134\n",
      "[8000/25000] 0.4997398501536885\n",
      "[10000/25000] 0.5070591793527572\n",
      "[12000/25000] 0.5098743554767972\n",
      "[14000/25000] 0.4931637850663615\n",
      "[16000/25000] 0.5291390490057641\n",
      "[18000/25000] 0.502314453632912\n",
      "[20000/25000] 0.5017360621030346\n",
      "[22000/25000] 0.5210801421618851\n",
      "[24000/25000] 0.5292884686154978\n"
     ]
    }
   ],
   "source": [
    "from sklearn.feature_extraction.text import HashingVectorizer\n",
    "from sklearn.linear_model import SGDClassifier\n",
    "from sklearn.metrics import roc_auc_score\n",
    "import scipy\n",
    "\n",
    "hashvec = HashingVectorizer(n_features=2**10,\n",
    "                            preprocessor=None, tokenizer=tokenizer_stem_nostop)\n",
    "\n",
    "# loss='log' gives logistic regression\n",
    "clf = SGDClassifier(loss='log_loss', max_iter=20, tol=1e-3)\n",
    "batch_size = 1000\n",
    "X_train, y_train = train_preprocess_df['Title'].values, train_preprocess_df['Popularity'].values\n",
    "X_train_2 = train_preprocess_df[['Content', 'Video', 'Day']].values\n",
    "# print(X_train_2.iloc[:2,:])\n",
    "stream_X = chunk(X_train, batch_size)\n",
    "stream_X2 = chunk(X_train_2, batch_size)\n",
    "stream_y = chunk(y_train, batch_size)\n",
    "\n",
    "classes = np.array([-1, 1])\n",
    "train_auc, val_auc = [], []\n",
    "# we use one batch for training and another for validation in each iteration\n",
    "iters = int((25000+batch_size-1)/(batch_size*2))\n",
    "\n",
    "for i in range(iters):\n",
    "    stream_x_chunk = next(stream_X)\n",
    "    stream_x2_chunk = next(stream_X2)\n",
    "    stream_y_chunk = next(stream_y)\n",
    "    if stream_x_chunk is None:\n",
    "        break\n",
    "    stream_x_chunk = hashvec.transform(stream_x_chunk)\n",
    "\n",
    "    stream_train_combined = np.concatenate((stream_x_chunk.toarray(), stream_x2_chunk), axis=1)\n",
    "    clf.partial_fit(stream_train_combined, stream_y_chunk, classes=classes)\n",
    "    train_auc.append(roc_auc_score(stream_y_chunk, clf.predict_proba(stream_train_combined)[:,1]))\n",
    "    # print(X_train.shape, X_train_2.shape)   \n",
    "\n",
    "    # # validate\n",
    "    X_val, y_val = next(stream_X), next(stream_y)\n",
    "    # print(X_val.shape, X_val_2.shape)\n",
    "    X_val_2 = next(stream_X2)\n",
    "\n",
    "\n",
    "    X_val = hashvec.transform(X_val)\n",
    "    X_val_combined = np.concatenate((X_val.toarray(), X_val_2), axis=1)\n",
    "    score = roc_auc_score(y_val, clf.predict_proba(X_val_combined)[:,1])\n",
    "    val_auc.append(score)\n",
    "    print('[{}/{}] {}'.format((i+1)*(batch_size*2), 25000, score))\n"
   ]
  },
  {
   "cell_type": "code",
   "execution_count": 25,
   "metadata": {},
   "outputs": [],
   "source": [
    "from sklearn.model_selection import cross_val_score\n",
    "from sklearn.ensemble import RandomForestRegressor\n",
    "\n",
    "X_train_combined_ = np.concatenate((hashvec.transform(X_train).toarray(), X_train_2), axis=1)\n",
    "\n",
    "scores = cross_val_score(estimator=RandomForestRegressor(max_depth=4, random_state=0),\n",
    "                         X=X_train_combined_, y=y_train,\n",
    "                         cv=10, scoring='roc_auc')"
   ]
  },
  {
   "cell_type": "code",
   "execution_count": 29,
   "metadata": {},
   "outputs": [
    {
     "data": {
      "text/html": [
       "<style>#sk-container-id-1 {color: black;}#sk-container-id-1 pre{padding: 0;}#sk-container-id-1 div.sk-toggleable {background-color: white;}#sk-container-id-1 label.sk-toggleable__label {cursor: pointer;display: block;width: 100%;margin-bottom: 0;padding: 0.3em;box-sizing: border-box;text-align: center;}#sk-container-id-1 label.sk-toggleable__label-arrow:before {content: \"▸\";float: left;margin-right: 0.25em;color: #696969;}#sk-container-id-1 label.sk-toggleable__label-arrow:hover:before {color: black;}#sk-container-id-1 div.sk-estimator:hover label.sk-toggleable__label-arrow:before {color: black;}#sk-container-id-1 div.sk-toggleable__content {max-height: 0;max-width: 0;overflow: hidden;text-align: left;background-color: #f0f8ff;}#sk-container-id-1 div.sk-toggleable__content pre {margin: 0.2em;color: black;border-radius: 0.25em;background-color: #f0f8ff;}#sk-container-id-1 input.sk-toggleable__control:checked~div.sk-toggleable__content {max-height: 200px;max-width: 100%;overflow: auto;}#sk-container-id-1 input.sk-toggleable__control:checked~label.sk-toggleable__label-arrow:before {content: \"▾\";}#sk-container-id-1 div.sk-estimator input.sk-toggleable__control:checked~label.sk-toggleable__label {background-color: #d4ebff;}#sk-container-id-1 div.sk-label input.sk-toggleable__control:checked~label.sk-toggleable__label {background-color: #d4ebff;}#sk-container-id-1 input.sk-hidden--visually {border: 0;clip: rect(1px 1px 1px 1px);clip: rect(1px, 1px, 1px, 1px);height: 1px;margin: -1px;overflow: hidden;padding: 0;position: absolute;width: 1px;}#sk-container-id-1 div.sk-estimator {font-family: monospace;background-color: #f0f8ff;border: 1px dotted black;border-radius: 0.25em;box-sizing: border-box;margin-bottom: 0.5em;}#sk-container-id-1 div.sk-estimator:hover {background-color: #d4ebff;}#sk-container-id-1 div.sk-parallel-item::after {content: \"\";width: 100%;border-bottom: 1px solid gray;flex-grow: 1;}#sk-container-id-1 div.sk-label:hover label.sk-toggleable__label {background-color: #d4ebff;}#sk-container-id-1 div.sk-serial::before {content: \"\";position: absolute;border-left: 1px solid gray;box-sizing: border-box;top: 0;bottom: 0;left: 50%;z-index: 0;}#sk-container-id-1 div.sk-serial {display: flex;flex-direction: column;align-items: center;background-color: white;padding-right: 0.2em;padding-left: 0.2em;position: relative;}#sk-container-id-1 div.sk-item {position: relative;z-index: 1;}#sk-container-id-1 div.sk-parallel {display: flex;align-items: stretch;justify-content: center;background-color: white;position: relative;}#sk-container-id-1 div.sk-item::before, #sk-container-id-1 div.sk-parallel-item::before {content: \"\";position: absolute;border-left: 1px solid gray;box-sizing: border-box;top: 0;bottom: 0;left: 50%;z-index: -1;}#sk-container-id-1 div.sk-parallel-item {display: flex;flex-direction: column;z-index: 1;position: relative;background-color: white;}#sk-container-id-1 div.sk-parallel-item:first-child::after {align-self: flex-end;width: 50%;}#sk-container-id-1 div.sk-parallel-item:last-child::after {align-self: flex-start;width: 50%;}#sk-container-id-1 div.sk-parallel-item:only-child::after {width: 0;}#sk-container-id-1 div.sk-dashed-wrapped {border: 1px dashed gray;margin: 0 0.4em 0.5em 0.4em;box-sizing: border-box;padding-bottom: 0.4em;background-color: white;}#sk-container-id-1 div.sk-label label {font-family: monospace;font-weight: bold;display: inline-block;line-height: 1.2em;}#sk-container-id-1 div.sk-label-container {text-align: center;}#sk-container-id-1 div.sk-container {/* jupyter's `normalize.less` sets `[hidden] { display: none; }` but bootstrap.min.css set `[hidden] { display: none !important; }` so we also need the `!important` here to be able to override the default hidden behavior on the sphinx rendered scikit-learn.org. See: https://github.com/scikit-learn/scikit-learn/issues/21755 */display: inline-block !important;position: relative;}#sk-container-id-1 div.sk-text-repr-fallback {display: none;}</style><div id=\"sk-container-id-1\" class=\"sk-top-container\"><div class=\"sk-text-repr-fallback\"><pre>RandomForestRegressor(max_depth=4, random_state=0)</pre><b>In a Jupyter environment, please rerun this cell to show the HTML representation or trust the notebook. <br />On GitHub, the HTML representation is unable to render, please try loading this page with nbviewer.org.</b></div><div class=\"sk-container\" hidden><div class=\"sk-item\"><div class=\"sk-estimator sk-toggleable\"><input class=\"sk-toggleable__control sk-hidden--visually\" id=\"sk-estimator-id-1\" type=\"checkbox\" checked><label for=\"sk-estimator-id-1\" class=\"sk-toggleable__label sk-toggleable__label-arrow\">RandomForestRegressor</label><div class=\"sk-toggleable__content\"><pre>RandomForestRegressor(max_depth=4, random_state=0)</pre></div></div></div></div></div>"
      ],
      "text/plain": [
       "RandomForestRegressor(max_depth=4, random_state=0)"
      ]
     },
     "execution_count": 29,
     "metadata": {},
     "output_type": "execute_result"
    }
   ],
   "source": [
    "forest = RandomForestRegressor(max_depth=4, random_state=0)\n",
    "forest.fit(X_train_combined_, y_train)"
   ]
  },
  {
   "cell_type": "code",
   "execution_count": 34,
   "metadata": {},
   "outputs": [
    {
     "name": "stdout",
     "output_type": "stream",
     "text": [
      "[0.46148341 0.48401076 0.46148341 ... 0.46197225 0.46526525 0.46197225]\n"
     ]
    }
   ],
   "source": [
    "X_test = hashvec.transform(test_preprocess_df['Title'])\n",
    "X_test_2 = test_preprocess_df[['Content', 'Video', 'Day']].values\n",
    "X_val_combined = np.concatenate((X_test.toarray(), X_test_2), axis=1)\n",
    "y_pred = forest.predict(X_val_combined)\n",
    "y_pred = (y_pred + 1) / 2\n",
    "print(y_pred)\n"
   ]
  },
  {
   "cell_type": "code",
   "execution_count": 35,
   "metadata": {},
   "outputs": [],
   "source": [
    "# write to csv\n",
    "df = pd.DataFrame({'Id': test['Id'], 'Popularity': y_pred})\n",
    "df.to_csv('data/submission.csv', index=False)"
   ]
  },
  {
   "cell_type": "markdown",
   "metadata": {},
   "source": [
    "# Unused"
   ]
  },
  {
   "cell_type": "code",
   "execution_count": null,
   "metadata": {},
   "outputs": [],
   "source": [
    "X_test = test_preprocess_new['Content']\n",
    "X_test = hashvec.transform(X_test)\n",
    "value = clf.predict_proba(X_test)[:,1]\n",
    "value"
   ]
  },
  {
   "cell_type": "code",
   "execution_count": 28,
   "metadata": {},
   "outputs": [
    {
     "data": {
      "text/plain": [
       "array([0.57508175, 0.55360073, 0.54464689, 0.55504806, 0.5576876 ,\n",
       "       0.57226605, 0.53132727, 0.56208033, 0.54998534, 0.56133107])"
      ]
     },
     "execution_count": 28,
     "metadata": {},
     "output_type": "execute_result"
    }
   ],
   "source": [
    "scores"
   ]
  },
  {
   "cell_type": "code",
   "execution_count": null,
   "metadata": {},
   "outputs": [
    {
     "data": {
      "text/html": [
       "<div>\n",
       "<style scoped>\n",
       "    .dataframe tbody tr th:only-of-type {\n",
       "        vertical-align: middle;\n",
       "    }\n",
       "\n",
       "    .dataframe tbody tr th {\n",
       "        vertical-align: top;\n",
       "    }\n",
       "\n",
       "    .dataframe thead th {\n",
       "        text-align: right;\n",
       "    }\n",
       "</style>\n",
       "<table border=\"1\" class=\"dataframe\">\n",
       "  <thead>\n",
       "    <tr style=\"text-align: right;\">\n",
       "      <th></th>\n",
       "      <th>Title</th>\n",
       "      <th>Content</th>\n",
       "      <th>Video</th>\n",
       "      <th>Day</th>\n",
       "      <th>Time</th>\n",
       "    </tr>\n",
       "  </thead>\n",
       "  <tbody>\n",
       "    <tr>\n",
       "      <th>0</th>\n",
       "      <td>soccer star gets twitter death threats after t...</td>\n",
       "      <td>0.062993</td>\n",
       "      <td>0.076923</td>\n",
       "      <td>0.142857</td>\n",
       "      <td>0.824306</td>\n",
       "    </tr>\n",
       "    <tr>\n",
       "      <th>1</th>\n",
       "      <td>google glass gets an accessory store</td>\n",
       "      <td>0.015533</td>\n",
       "      <td>0.000000</td>\n",
       "      <td>0.571429</td>\n",
       "      <td>0.392361</td>\n",
       "    </tr>\n",
       "    <tr>\n",
       "      <th>2</th>\n",
       "      <td>ouya gaming console already sold out on amazon</td>\n",
       "      <td>0.018245</td>\n",
       "      <td>0.000000</td>\n",
       "      <td>0.285714</td>\n",
       "      <td>0.537500</td>\n",
       "    </tr>\n",
       "    <tr>\n",
       "      <th>3</th>\n",
       "      <td>between two ferns mocks oscar nominees</td>\n",
       "      <td>0.016889</td>\n",
       "      <td>0.043956</td>\n",
       "      <td>0.428571</td>\n",
       "      <td>0.145833</td>\n",
       "    </tr>\n",
       "    <tr>\n",
       "      <th>4</th>\n",
       "      <td>american sniper trailer looks like eastwood m...</td>\n",
       "      <td>0.025025</td>\n",
       "      <td>0.010989</td>\n",
       "      <td>0.714286</td>\n",
       "      <td>0.065278</td>\n",
       "    </tr>\n",
       "    <tr>\n",
       "      <th>...</th>\n",
       "      <td>...</td>\n",
       "      <td>...</td>\n",
       "      <td>...</td>\n",
       "      <td>...</td>\n",
       "      <td>...</td>\n",
       "    </tr>\n",
       "    <tr>\n",
       "      <th>11842</th>\n",
       "      <td>check out twitter co founders beautiful new of...</td>\n",
       "      <td>0.013190</td>\n",
       "      <td>0.000000</td>\n",
       "      <td>0.857143</td>\n",
       "      <td>0.875000</td>\n",
       "    </tr>\n",
       "    <tr>\n",
       "      <th>11843</th>\n",
       "      <td>fish out of water is an adorably addictive io...</td>\n",
       "      <td>0.067678</td>\n",
       "      <td>0.000000</td>\n",
       "      <td>0.571429</td>\n",
       "      <td>0.793750</td>\n",
       "    </tr>\n",
       "    <tr>\n",
       "      <th>11844</th>\n",
       "      <td>if music services influenced grammys this is w...</td>\n",
       "      <td>0.117973</td>\n",
       "      <td>0.241758</td>\n",
       "      <td>0.428571</td>\n",
       "      <td>0.984722</td>\n",
       "    </tr>\n",
       "    <tr>\n",
       "      <th>11845</th>\n",
       "      <td>google s nexus 7 comes to europe australia and...</td>\n",
       "      <td>0.014053</td>\n",
       "      <td>0.000000</td>\n",
       "      <td>0.428571</td>\n",
       "      <td>0.359028</td>\n",
       "    </tr>\n",
       "    <tr>\n",
       "      <th>11846</th>\n",
       "      <td>even samsung can t screw up the galaxy tab s</td>\n",
       "      <td>0.215483</td>\n",
       "      <td>0.010989</td>\n",
       "      <td>0.285714</td>\n",
       "      <td>0.541667</td>\n",
       "    </tr>\n",
       "  </tbody>\n",
       "</table>\n",
       "<p>11847 rows × 5 columns</p>\n",
       "</div>"
      ],
      "text/plain": [
       "                                                   Title   Content     Video   \n",
       "0      soccer star gets twitter death threats after t...  0.062993  0.076923  \\\n",
       "1                  google glass gets an accessory store   0.015533  0.000000   \n",
       "2        ouya gaming console already sold out on amazon   0.018245  0.000000   \n",
       "3                between two ferns mocks oscar nominees   0.016889  0.043956   \n",
       "4       american sniper trailer looks like eastwood m...  0.025025  0.010989   \n",
       "...                                                  ...       ...       ...   \n",
       "11842  check out twitter co founders beautiful new of...  0.013190  0.000000   \n",
       "11843   fish out of water is an adorably addictive io...  0.067678  0.000000   \n",
       "11844  if music services influenced grammys this is w...  0.117973  0.241758   \n",
       "11845  google s nexus 7 comes to europe australia and...  0.014053  0.000000   \n",
       "11846      even samsung can t screw up the galaxy tab s   0.215483  0.010989   \n",
       "\n",
       "            Day      Time  \n",
       "0      0.142857  0.824306  \n",
       "1      0.571429  0.392361  \n",
       "2      0.285714  0.537500  \n",
       "3      0.428571  0.145833  \n",
       "4      0.714286  0.065278  \n",
       "...         ...       ...  \n",
       "11842  0.857143  0.875000  \n",
       "11843  0.571429  0.793750  \n",
       "11844  0.428571  0.984722  \n",
       "11845  0.428571  0.359028  \n",
       "11846  0.285714  0.541667  \n",
       "\n",
       "[11847 rows x 5 columns]"
      ]
     },
     "execution_count": 40,
     "metadata": {},
     "output_type": "execute_result"
    }
   ],
   "source": [
    "test_preprocess_df"
   ]
  },
  {
   "cell_type": "code",
   "execution_count": null,
   "metadata": {},
   "outputs": [
    {
     "data": {
      "text/plain": [
       "array([0.60918488, 0.78922888, 0.71792457, ..., 0.92055328, 0.79249171,\n",
       "       0.73539595])"
      ]
     },
     "execution_count": 42,
     "metadata": {},
     "output_type": "execute_result"
    }
   ],
   "source": [
    "X_test = hashvec.transform(test_preprocess_df['Title'])\n",
    "X_test_2 = test_preprocess_df[['Content', 'Video', 'Day', 'Time']].values\n",
    "X_val_combined = np.concatenate((X_test.toarray(), X_test_2), axis=1)\n",
    "y_pred = clf.predict_proba(X_val_combined)[:,1]\n",
    "y_pred"
   ]
  },
  {
   "cell_type": "code",
   "execution_count": null,
   "metadata": {},
   "outputs": [],
   "source": [
    "# write to csv\n",
    "df = pd.DataFrame({'Id': test['Id'], 'Popularity': y_pred})\n",
    "df.to_csv('data/submission.csv', index=False)"
   ]
  },
  {
   "cell_type": "markdown",
   "metadata": {},
   "source": [
    "# Try Title Sentiment Analysis"
   ]
  },
  {
   "cell_type": "code",
   "execution_count": null,
   "metadata": {},
   "outputs": [],
   "source": [
    "# import nltk\n",
    "# from nltk.sentiment.vader import SentimentIntensityAnalyzer\n",
    "# sia = SentimentIntensityAnalyzer()"
   ]
  },
  {
   "cell_type": "code",
   "execution_count": null,
   "metadata": {},
   "outputs": [],
   "source": [
    "# classifier = nltk.classify.SklearnClassifier(LogisticRegression())\n",
    "# classifier.train(features)\n",
    "# test_preprocess_df['Popularity'] = test_preprocess_df['Title'].apply(lambda x: classifier.prob_classify(extract_features(x)))\n"
   ]
  },
  {
   "cell_type": "code",
   "execution_count": null,
   "metadata": {},
   "outputs": [],
   "source": [
    "# test_predict = test_preprocess_df['Popularity'].apply(lambda x: x.prob(1))"
   ]
  },
  {
   "cell_type": "code",
   "execution_count": null,
   "metadata": {},
   "outputs": [],
   "source": [
    "# test_predict.to_csv('data/test_predict.csv', index=False)"
   ]
  },
  {
   "cell_type": "code",
   "execution_count": null,
   "metadata": {},
   "outputs": [
    {
     "data": {
      "image/png": "[encoded data removed]",
      "text/plain": [
       "<Figure size 640x480 with 1 Axes>"
      ]
     },
     "metadata": {},
     "output_type": "display_data"
    }
   ],
   "source": [
    "# import os\n",
    "# if not os.path.exists('output'):\n",
    "#     os.mkdir('output')\n",
    "\n",
    "# import matplotlib.pyplot as plt\n",
    "\n",
    "# plt.plot(range(1, len(train_auc)+1), train_auc, color='blue', label='Train auc')\n",
    "# plt.plot(range(1, len(train_auc)+1), val_auc, color='red', label='Val auc')\n",
    "# plt.legend(loc=\"best\")\n",
    "# plt.xlabel('#Batches')\n",
    "# plt.ylabel('Auc')\n",
    "# plt.tight_layout()\n",
    "# plt.savefig('./output/fig-out-of-core.png', dpi=300)\n",
    "# plt.show()"
   ]
  },
  {
   "cell_type": "code",
   "execution_count": null,
   "metadata": {},
   "outputs": [
    {
     "data": {
      "text/plain": [
       "array([0.59867913, 0.71039762, 0.20938858, ..., 0.52613739, 0.40480274,\n",
       "       0.42310348])"
      ]
     },
     "execution_count": 28,
     "metadata": {},
     "output_type": "execute_result"
    }
   ],
   "source": [
    "# X_test = test_preprocess_new['Content']\n",
    "# X_test = hashvec.transform(X_test)\n",
    "# value = clf.predict_proba(X_test)[:,1]\n",
    "# value"
   ]
  },
  {
   "cell_type": "code",
   "execution_count": null,
   "metadata": {},
   "outputs": [],
   "source": [
    "# file = pd.concat([test[['Id']], pd.DataFrame(value, columns=['Popularity'])], axis=1)\n",
    "# file\n",
    "\n",
    "# file.to_csv('data/submission.csv', index=False)"
   ]
  }
 ],
 "metadata": {
  "kernelspec": {
   "display_name": "sleep-linear",
   "language": "python",
   "name": "python3"
  },
  "language_info": {
   "codemirror_mode": {
    "name": "ipython",
    "version": 3
   },
   "file_extension": ".py",
   "mimetype": "text/x-python",
   "name": "python",
   "nbconvert_exporter": "python",
   "pygments_lexer": "ipython3",
   "version": "3.9.16"
  }
 },
 "nbformat": 4,
 "nbformat_minor": 2
}
